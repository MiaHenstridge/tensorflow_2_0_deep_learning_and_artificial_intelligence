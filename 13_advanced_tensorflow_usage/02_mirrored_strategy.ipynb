{
 "cells": [
  {
   "cell_type": "code",
   "execution_count": 1,
   "id": "681aa5f2-6dc0-496d-85e2-e95523860c99",
   "metadata": {},
   "outputs": [],
   "source": [
    "import tensorflow as tf\n",
    "import numpy as np\n",
    "import matplotlib.pyplot as plt\n",
    "\n",
    "from tensorflow.keras.layers import Input, Conv2D, Dense, Flatten, Dropout, GlobalMaxPooling2D, MaxPooling2D, BatchNormalization\n",
    "from tensorflow.keras.models import Model"
   ]
  },
  {
   "cell_type": "markdown",
   "id": "e4baf5e9-f518-4dec-b42e-1ad26df96a3f",
   "metadata": {},
   "source": [
    "## Load in the data"
   ]
  },
  {
   "cell_type": "code",
   "execution_count": 3,
   "id": "7d2ed3ee-8442-4d81-9350-921e0b12c834",
   "metadata": {},
   "outputs": [
    {
     "name": "stdout",
     "output_type": "stream",
     "text": [
      "Downloading data from https://www.cs.toronto.edu/~kriz/cifar-10-python.tar.gz\n",
      "170498071/170498071 [==============================] - 173s 1us/step\n"
     ]
    }
   ],
   "source": [
    "# Load in the data\n",
    "cifar10 = tf.keras.datasets.cifar10\n",
    "\n",
    "(x_train, y_train), (x_test, y_test) = cifar10.load_data()"
   ]
  },
  {
   "cell_type": "code",
   "execution_count": 4,
   "id": "699ee828-f8de-4127-9f98-204048db4193",
   "metadata": {},
   "outputs": [
    {
     "name": "stdout",
     "output_type": "stream",
     "text": [
      "x_train.shape: (50000, 32, 32, 3)\n",
      "y_train.shape (50000,)\n"
     ]
    }
   ],
   "source": [
    "x_train, x_test = x_train / 255.0, x_test / 255.0\n",
    "y_train, y_test = y_train.flatten(), y_test.flatten()\n",
    "print(\"x_train.shape:\", x_train.shape)\n",
    "print(\"y_train.shape\", y_train.shape)"
   ]
  },
  {
   "cell_type": "code",
   "execution_count": 5,
   "id": "d83857ed-f0cf-44aa-9ea0-a7a73b755637",
   "metadata": {},
   "outputs": [
    {
     "name": "stdout",
     "output_type": "stream",
     "text": [
      "number of classes: 10\n"
     ]
    }
   ],
   "source": [
    "# number of classes\n",
    "K = len(set(y_train))\n",
    "print(\"number of classes:\", K)"
   ]
  },
  {
   "cell_type": "markdown",
   "id": "d3765a5f-17d1-49e6-8ded-f7f93181f3f2",
   "metadata": {},
   "source": [
    "## Build the model using functional API"
   ]
  },
  {
   "cell_type": "code",
   "execution_count": 6,
   "id": "3219ba16-d409-41ce-8f8a-dcbc9b7fb154",
   "metadata": {},
   "outputs": [],
   "source": [
    "def create_model():\n",
    "    i = Input(shape=x_train[0].shape)\n",
    "    x = Conv2D(32, (3, 3), activation='relu', padding='same')(i)\n",
    "    x = BatchNormalization()(x)\n",
    "    x = Conv2D(32, (3, 3), activation='relu', padding='same')(x)\n",
    "    x = BatchNormalization()(x)\n",
    "    x = MaxPooling2D((2, 2))(x)\n",
    "    x = Conv2D(64, (3, 3), activation='relu', padding='same')(x)\n",
    "    x = BatchNormalization()(x)\n",
    "    x = Conv2D(64, (3, 3), activation='relu', padding='same')(x)\n",
    "    x = BatchNormalization()(x)\n",
    "    x = MaxPooling2D((2, 2))(x)\n",
    "    x = Conv2D(128, (3, 3), activation='relu', padding='same')(x)\n",
    "    x = BatchNormalization()(x)\n",
    "    x = Conv2D(128, (3, 3), activation='relu', padding='same')(x)\n",
    "    x = BatchNormalization()(x)\n",
    "    x = MaxPooling2D((2, 2))(x)\n",
    "    \n",
    "    x = Flatten()(x)\n",
    "    x = Dropout(0.2)(x)\n",
    "    x = Dense(1024, activation='relu')(x)\n",
    "    x = Dropout(0.2)(x)\n",
    "    x = Dense(K, activation='softmax')(x)\n",
    "    \n",
    "    model = Model(i, x)\n",
    "    return model"
   ]
  },
  {
   "cell_type": "code",
   "execution_count": 7,
   "id": "9f567be0-eea1-43d1-8984-7a20d5546ee2",
   "metadata": {
    "scrolled": true
   },
   "outputs": [
    {
     "name": "stdout",
     "output_type": "stream",
     "text": [
      "INFO:tensorflow:Using MirroredStrategy with devices ('/job:localhost/replica:0/task:0/device:GPU:0',)\n"
     ]
    },
    {
     "name": "stderr",
     "output_type": "stream",
     "text": [
      "2024-08-18 23:26:46.801093: I external/local_xla/xla/stream_executor/cuda/cuda_executor.cc:887] could not open file to read NUMA node: /sys/bus/pci/devices/0000:01:00.0/numa_node\n",
      "Your kernel may have been built without NUMA support.\n",
      "2024-08-18 23:26:47.484995: I external/local_xla/xla/stream_executor/cuda/cuda_executor.cc:887] could not open file to read NUMA node: /sys/bus/pci/devices/0000:01:00.0/numa_node\n",
      "Your kernel may have been built without NUMA support.\n",
      "2024-08-18 23:26:47.485045: I external/local_xla/xla/stream_executor/cuda/cuda_executor.cc:887] could not open file to read NUMA node: /sys/bus/pci/devices/0000:01:00.0/numa_node\n",
      "Your kernel may have been built without NUMA support.\n",
      "2024-08-18 23:26:47.512745: I external/local_xla/xla/stream_executor/cuda/cuda_executor.cc:887] could not open file to read NUMA node: /sys/bus/pci/devices/0000:01:00.0/numa_node\n",
      "Your kernel may have been built without NUMA support.\n",
      "2024-08-18 23:26:47.512840: I external/local_xla/xla/stream_executor/cuda/cuda_executor.cc:887] could not open file to read NUMA node: /sys/bus/pci/devices/0000:01:00.0/numa_node\n",
      "Your kernel may have been built without NUMA support.\n",
      "2024-08-18 23:26:47.512859: I external/local_xla/xla/stream_executor/cuda/cuda_executor.cc:887] could not open file to read NUMA node: /sys/bus/pci/devices/0000:01:00.0/numa_node\n",
      "Your kernel may have been built without NUMA support.\n",
      "2024-08-18 23:26:48.529103: I external/local_xla/xla/stream_executor/cuda/cuda_executor.cc:887] could not open file to read NUMA node: /sys/bus/pci/devices/0000:01:00.0/numa_node\n",
      "Your kernel may have been built without NUMA support.\n",
      "2024-08-18 23:26:48.532084: I external/local_xla/xla/stream_executor/cuda/cuda_executor.cc:887] could not open file to read NUMA node: /sys/bus/pci/devices/0000:01:00.0/numa_node\n",
      "Your kernel may have been built without NUMA support.\n",
      "2024-08-18 23:26:48.532206: I tensorflow/core/common_runtime/gpu/gpu_device.cc:2022] Could not identify NUMA node of platform GPU id 0, defaulting to 0.  Your kernel may not have been built with NUMA support.\n",
      "2024-08-18 23:26:48.532400: I external/local_xla/xla/stream_executor/cuda/cuda_executor.cc:887] could not open file to read NUMA node: /sys/bus/pci/devices/0000:01:00.0/numa_node\n",
      "Your kernel may have been built without NUMA support.\n",
      "2024-08-18 23:26:48.535001: I tensorflow/core/common_runtime/gpu/gpu_device.cc:1929] Created device /job:localhost/replica:0/task:0/device:GPU:0 with 1767 MB memory:  -> device: 0, name: NVIDIA GeForce RTX 3050 Laptop GPU, pci bus id: 0000:01:00.0, compute capability: 8.6\n"
     ]
    }
   ],
   "source": [
    "strategy = tf.distribute.MirroredStrategy()\n",
    "# strategy = tf.distribute.experimental.CentralStorageStrategy()"
   ]
  },
  {
   "cell_type": "code",
   "execution_count": 8,
   "id": "093f6521-653d-4726-84ac-2eeb69015617",
   "metadata": {},
   "outputs": [
    {
     "name": "stdout",
     "output_type": "stream",
     "text": [
      "Number of devices: 1\n"
     ]
    }
   ],
   "source": [
    "print(f'Number of devices: {strategy.num_replicas_in_sync}')"
   ]
  },
  {
   "cell_type": "code",
   "execution_count": 9,
   "id": "0d636666-af72-478d-9b04-1ae7f5fdc671",
   "metadata": {},
   "outputs": [
    {
     "name": "stdout",
     "output_type": "stream",
     "text": [
      "INFO:tensorflow:Reduce to /job:localhost/replica:0/task:0/device:CPU:0 then broadcast to ('/job:localhost/replica:0/task:0/device:CPU:0',).\n",
      "INFO:tensorflow:Reduce to /job:localhost/replica:0/task:0/device:CPU:0 then broadcast to ('/job:localhost/replica:0/task:0/device:CPU:0',).\n",
      "INFO:tensorflow:Reduce to /job:localhost/replica:0/task:0/device:CPU:0 then broadcast to ('/job:localhost/replica:0/task:0/device:CPU:0',).\n",
      "INFO:tensorflow:Reduce to /job:localhost/replica:0/task:0/device:CPU:0 then broadcast to ('/job:localhost/replica:0/task:0/device:CPU:0',).\n",
      "INFO:tensorflow:Reduce to /job:localhost/replica:0/task:0/device:CPU:0 then broadcast to ('/job:localhost/replica:0/task:0/device:CPU:0',).\n",
      "INFO:tensorflow:Reduce to /job:localhost/replica:0/task:0/device:CPU:0 then broadcast to ('/job:localhost/replica:0/task:0/device:CPU:0',).\n",
      "INFO:tensorflow:Reduce to /job:localhost/replica:0/task:0/device:CPU:0 then broadcast to ('/job:localhost/replica:0/task:0/device:CPU:0',).\n",
      "INFO:tensorflow:Reduce to /job:localhost/replica:0/task:0/device:CPU:0 then broadcast to ('/job:localhost/replica:0/task:0/device:CPU:0',).\n",
      "INFO:tensorflow:Reduce to /job:localhost/replica:0/task:0/device:CPU:0 then broadcast to ('/job:localhost/replica:0/task:0/device:CPU:0',).\n",
      "INFO:tensorflow:Reduce to /job:localhost/replica:0/task:0/device:CPU:0 then broadcast to ('/job:localhost/replica:0/task:0/device:CPU:0',).\n"
     ]
    }
   ],
   "source": [
    "with strategy.scope():\n",
    "    model = create_model()\n",
    "\n",
    "    model.compile(loss='sparse_categorical_crossentropy',\n",
    "                 optimizer='adam',\n",
    "                 metrics=['accuracy'])"
   ]
  },
  {
   "cell_type": "code",
   "execution_count": 10,
   "id": "743db8c0-56bd-4a96-8b33-9af1318eb99a",
   "metadata": {
    "scrolled": true
   },
   "outputs": [
    {
     "name": "stdout",
     "output_type": "stream",
     "text": [
      "Epoch 1/15\n"
     ]
    },
    {
     "name": "stderr",
     "output_type": "stream",
     "text": [
      "2024-08-18 23:28:28.296563: I external/local_xla/xla/stream_executor/cuda/cuda_dnn.cc:454] Loaded cuDNN version 8907\n",
      "2024-08-18 23:28:31.546184: I external/local_xla/xla/service/service.cc:168] XLA service 0x7ff1fc2f3280 initialized for platform CUDA (this does not guarantee that XLA will be used). Devices:\n",
      "2024-08-18 23:28:31.546228: I external/local_xla/xla/service/service.cc:176]   StreamExecutor device (0): NVIDIA GeForce RTX 3050 Laptop GPU, Compute Capability 8.6\n",
      "2024-08-18 23:28:31.598203: I tensorflow/compiler/mlir/tensorflow/utils/dump_mlir_util.cc:269] disabling MLIR crash reproducer, set env var `MLIR_CRASH_REPRODUCER_DIRECTORY` to enable.\n",
      "WARNING: All log messages before absl::InitializeLog() is called are written to STDERR\n",
      "I0000 00:00:1723998511.769780    5395 device_compiler.h:186] Compiled cluster using XLA!  This line is logged at most once for the lifetime of the process.\n"
     ]
    },
    {
     "name": "stdout",
     "output_type": "stream",
     "text": [
      "1563/1563 [==============================] - 39s 18ms/step - loss: 1.3081 - accuracy: 0.5502 - val_loss: 1.0286 - val_accuracy: 0.6402\n",
      "Epoch 2/15\n",
      "1563/1563 [==============================] - 22s 14ms/step - loss: 0.8586 - accuracy: 0.7032 - val_loss: 0.7976 - val_accuracy: 0.7331\n",
      "Epoch 3/15\n",
      "1563/1563 [==============================] - 20s 13ms/step - loss: 0.7043 - accuracy: 0.7557 - val_loss: 0.7121 - val_accuracy: 0.7604\n",
      "Epoch 4/15\n",
      "1563/1563 [==============================] - 20s 13ms/step - loss: 0.5927 - accuracy: 0.7961 - val_loss: 0.8426 - val_accuracy: 0.7220\n",
      "Epoch 5/15\n",
      "1563/1563 [==============================] - 21s 14ms/step - loss: 0.5090 - accuracy: 0.8248 - val_loss: 0.6501 - val_accuracy: 0.7851\n",
      "Epoch 6/15\n",
      "1563/1563 [==============================] - 20s 13ms/step - loss: 0.4334 - accuracy: 0.8515 - val_loss: 0.6471 - val_accuracy: 0.7940\n",
      "Epoch 7/15\n",
      "1563/1563 [==============================] - 19s 12ms/step - loss: 0.3623 - accuracy: 0.8746 - val_loss: 0.6222 - val_accuracy: 0.8050\n",
      "Epoch 8/15\n",
      "1563/1563 [==============================] - 19s 12ms/step - loss: 0.3110 - accuracy: 0.8925 - val_loss: 0.6026 - val_accuracy: 0.8136\n",
      "Epoch 9/15\n",
      "1563/1563 [==============================] - 20s 13ms/step - loss: 0.2636 - accuracy: 0.9105 - val_loss: 0.6114 - val_accuracy: 0.8223\n",
      "Epoch 10/15\n",
      "1563/1563 [==============================] - 20s 13ms/step - loss: 0.2214 - accuracy: 0.9232 - val_loss: 0.6955 - val_accuracy: 0.8099\n",
      "Epoch 11/15\n",
      "1563/1563 [==============================] - 20s 13ms/step - loss: 0.1984 - accuracy: 0.9311 - val_loss: 0.7086 - val_accuracy: 0.8116\n",
      "Epoch 12/15\n",
      "1563/1563 [==============================] - 20s 13ms/step - loss: 0.1786 - accuracy: 0.9388 - val_loss: 0.7116 - val_accuracy: 0.8153\n",
      "Epoch 13/15\n",
      "1563/1563 [==============================] - 21s 13ms/step - loss: 0.1576 - accuracy: 0.9466 - val_loss: 0.7156 - val_accuracy: 0.8238\n",
      "Epoch 14/15\n",
      "1563/1563 [==============================] - 21s 13ms/step - loss: 0.1442 - accuracy: 0.9512 - val_loss: 0.7556 - val_accuracy: 0.8279\n",
      "Epoch 15/15\n",
      "1563/1563 [==============================] - 21s 13ms/step - loss: 0.1406 - accuracy: 0.9535 - val_loss: 0.7754 - val_accuracy: 0.8154\n"
     ]
    }
   ],
   "source": [
    "# Fit\n",
    "r = model.fit(x_train, y_train,\n",
    "             validation_data=(x_test, y_test),\n",
    "             epochs=15)"
   ]
  },
  {
   "cell_type": "code",
   "execution_count": 11,
   "id": "5653140f-80a0-4605-9d65-6d7697060dea",
   "metadata": {},
   "outputs": [
    {
     "data": {
      "text/plain": [
       "127.8772378516624"
      ]
     },
     "execution_count": 11,
     "metadata": {},
     "output_type": "execute_result"
    }
   ],
   "source": [
    "50000/391"
   ]
  },
  {
   "cell_type": "code",
   "execution_count": 12,
   "id": "d1e917c6-dcd5-46f3-8a9e-62ad6bc61ba4",
   "metadata": {},
   "outputs": [
    {
     "data": {
      "text/plain": [
       "126.58227848101266"
      ]
     },
     "execution_count": 12,
     "metadata": {},
     "output_type": "execute_result"
    }
   ],
   "source": [
    "10000/79"
   ]
  },
  {
   "cell_type": "code",
   "execution_count": 13,
   "id": "2f28a402-3df1-4aa7-9ae8-98a07658e3d8",
   "metadata": {},
   "outputs": [
    {
     "name": "stdout",
     "output_type": "stream",
     "text": [
      "Epoch 1/5\n",
      "1563/1563 [==============================] - 25s 13ms/step - loss: 1.3101 - accuracy: 0.5482 - val_loss: 1.0191 - val_accuracy: 0.6504\n",
      "Epoch 2/5\n",
      "1563/1563 [==============================] - 17s 11ms/step - loss: 0.8378 - accuracy: 0.7094 - val_loss: 0.8859 - val_accuracy: 0.7005\n",
      "Epoch 3/5\n",
      "1563/1563 [==============================] - 17s 11ms/step - loss: 0.6889 - accuracy: 0.7627 - val_loss: 0.7231 - val_accuracy: 0.7543\n",
      "Epoch 4/5\n",
      "1563/1563 [==============================] - 17s 11ms/step - loss: 0.5816 - accuracy: 0.7992 - val_loss: 0.6485 - val_accuracy: 0.7812\n",
      "Epoch 5/5\n",
      "1563/1563 [==============================] - 17s 11ms/step - loss: 0.4939 - accuracy: 0.8304 - val_loss: 0.6659 - val_accuracy: 0.7811\n"
     ]
    }
   ],
   "source": [
    "# Compare this to non-distributed training\n",
    "model2 = create_model()\n",
    "model2.compile(loss='sparse_categorical_crossentropy',\n",
    "                optimizer='adam',\n",
    "                metrics=['accuracy'])\n",
    "r = model2.fit(x_train, y_train, validation_data=(x_test, y_test), epochs=5)"
   ]
  },
  {
   "cell_type": "code",
   "execution_count": null,
   "id": "836eee7e-6635-4576-adb4-92129c57d9b4",
   "metadata": {},
   "outputs": [],
   "source": []
  }
 ],
 "metadata": {
  "kernelspec": {
   "display_name": "Python 3 (ipykernel)",
   "language": "python",
   "name": "python3"
  },
  "language_info": {
   "codemirror_mode": {
    "name": "ipython",
    "version": 3
   },
   "file_extension": ".py",
   "mimetype": "text/x-python",
   "name": "python",
   "nbconvert_exporter": "python",
   "pygments_lexer": "ipython3",
   "version": "3.10.12"
  }
 },
 "nbformat": 4,
 "nbformat_minor": 5
}
