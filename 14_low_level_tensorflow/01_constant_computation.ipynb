{
 "cells": [
  {
   "cell_type": "code",
   "execution_count": 1,
   "id": "efbe6e1d",
   "metadata": {},
   "outputs": [],
   "source": [
    "import tensorflow as tf"
   ]
  },
  {
   "cell_type": "code",
   "execution_count": 2,
   "id": "fc399c5e",
   "metadata": {},
   "outputs": [
    {
     "name": "stdout",
     "output_type": "stream",
     "text": [
      "c tf.Tensor(5.0, shape=(), dtype=float32)\n",
      "c: 5.0\n"
     ]
    }
   ],
   "source": [
    "a = tf.constant(3.0)\n",
    "b = tf.constant(4.0)\n",
    "c = tf.sqrt(a**2 + b**2)\n",
    "\n",
    "print(\"c\", c)\n",
    "\n",
    "# if you use Python 3 f-strings it will print the tensor as a float\n",
    "print(f\"c: {c}\")"
   ]
  },
  {
   "cell_type": "code",
   "execution_count": 4,
   "id": "a173fa6d",
   "metadata": {},
   "outputs": [
    {
     "data": {
      "text/plain": [
       "5.0"
      ]
     },
     "execution_count": 4,
     "metadata": {},
     "output_type": "execute_result"
    }
   ],
   "source": [
    "# get the numpy version of a tensor\n",
    "c.numpy()"
   ]
  },
  {
   "cell_type": "code",
   "execution_count": 5,
   "id": "47cc8d35",
   "metadata": {},
   "outputs": [
    {
     "data": {
      "text/plain": [
       "numpy.float32"
      ]
     },
     "execution_count": 5,
     "metadata": {},
     "output_type": "execute_result"
    }
   ],
   "source": [
    "type(c.numpy())"
   ]
  },
  {
   "cell_type": "code",
   "execution_count": 6,
   "id": "03885b94",
   "metadata": {},
   "outputs": [
    {
     "name": "stdout",
     "output_type": "stream",
     "text": [
      "b: [4 5 6]\n",
      "c: 32\n"
     ]
    }
   ],
   "source": [
    "a = tf.constant([1,2,3])\n",
    "b = tf.constant([4,5,6])\n",
    "print(f\"b: {b}\")\n",
    "c = tf.tensordot(a, b, axes=[0,0])\n",
    "print(f\"c: {c}\")"
   ]
  },
  {
   "cell_type": "code",
   "execution_count": 7,
   "id": "c66288d4",
   "metadata": {},
   "outputs": [
    {
     "data": {
      "text/plain": [
       "32"
      ]
     },
     "execution_count": 7,
     "metadata": {},
     "output_type": "execute_result"
    }
   ],
   "source": [
    "a.numpy().dot(b.numpy())"
   ]
  },
  {
   "cell_type": "code",
   "execution_count": 8,
   "id": "3ee61325",
   "metadata": {},
   "outputs": [
    {
     "name": "stdout",
     "output_type": "stream",
     "text": [
      "c0: [[ 0.16351493]\n",
      " [ 0.62221434]\n",
      " [-0.34069504]]\n",
      "c: [[ 0.16351493]\n",
      " [ 0.62221434]\n",
      " [-0.34069504]]\n"
     ]
    }
   ],
   "source": [
    "import numpy as np\n",
    "A0 = np.random.randn(3, 3)\n",
    "b0 = np.random.randn(3, 1)\n",
    "c0 = A0.dot(b0)\n",
    "\n",
    "print(f\"c0: {c0}\")\n",
    "\n",
    "A = tf.constant(A0)\n",
    "b = tf.constant(b0)\n",
    "c = tf.matmul(A, b)\n",
    "print(f\"c: {c}\")"
   ]
  },
  {
   "cell_type": "code",
   "execution_count": 9,
   "id": "da1fea27",
   "metadata": {},
   "outputs": [
    {
     "name": "stdout",
     "output_type": "stream",
     "text": [
      "C: [[2 3]\n",
      " [4 5]]\n"
     ]
    }
   ],
   "source": [
    "# Broadcasting\n",
    "A = tf.constant([[1,2],[3,4]])\n",
    "b = tf.constant(1)\n",
    "C = A + b\n",
    "print(f\"C: {C}\")"
   ]
  },
  {
   "cell_type": "code",
   "execution_count": 10,
   "id": "117ddcc1",
   "metadata": {},
   "outputs": [
    {
     "name": "stdout",
     "output_type": "stream",
     "text": [
      "C: [[ 2  6]\n",
      " [12 20]]\n"
     ]
    }
   ],
   "source": [
    "# Element-wise multiplication\n",
    "A = tf.constant([[1,2],[3,4]])\n",
    "B = tf.constant([[2,3],[4,5]])\n",
    "C = A * B\n",
    "print(f\"C: {C}\")"
   ]
  },
  {
   "cell_type": "code",
   "execution_count": null,
   "id": "f31a39b7",
   "metadata": {},
   "outputs": [],
   "source": []
  }
 ],
 "metadata": {
  "kernelspec": {
   "display_name": "Python 3 (ipykernel)",
   "language": "python",
   "name": "python3"
  },
  "language_info": {
   "codemirror_mode": {
    "name": "ipython",
    "version": 3
   },
   "file_extension": ".py",
   "mimetype": "text/x-python",
   "name": "python",
   "nbconvert_exporter": "python",
   "pygments_lexer": "ipython3",
   "version": "3.11.2"
  }
 },
 "nbformat": 4,
 "nbformat_minor": 5
}
