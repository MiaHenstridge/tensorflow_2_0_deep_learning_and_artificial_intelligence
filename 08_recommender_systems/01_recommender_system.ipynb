{
 "cells": [
  {
   "cell_type": "code",
   "execution_count": 1,
   "id": "1f4e3181",
   "metadata": {},
   "outputs": [],
   "source": [
    "import tensorflow as tf\n",
    "import pandas as pd\n",
    "import numpy as np\n",
    "import matplotlib.pyplot as plt\n",
    "\n",
    "from tensorflow.keras.layers import Input, Dense, Embedding, Flatten, Concatenate\n",
    "from tensorflow.keras.models import Model\n",
    "from tensorflow.keras.optimizers import SGD, Adam\n",
    "\n",
    "from sklearn.utils import shuffle"
   ]
  },
  {
   "cell_type": "markdown",
   "id": "8e6b0bd6",
   "metadata": {},
   "source": [
    "## Get the data"
   ]
  },
  {
   "cell_type": "code",
   "execution_count": 2,
   "id": "4666d81f",
   "metadata": {},
   "outputs": [
    {
     "data": {
      "text/html": [
       "<div>\n",
       "<style scoped>\n",
       "    .dataframe tbody tr th:only-of-type {\n",
       "        vertical-align: middle;\n",
       "    }\n",
       "\n",
       "    .dataframe tbody tr th {\n",
       "        vertical-align: top;\n",
       "    }\n",
       "\n",
       "    .dataframe thead th {\n",
       "        text-align: right;\n",
       "    }\n",
       "</style>\n",
       "<table border=\"1\" class=\"dataframe\">\n",
       "  <thead>\n",
       "    <tr style=\"text-align: right;\">\n",
       "      <th></th>\n",
       "      <th>userId</th>\n",
       "      <th>movieId</th>\n",
       "      <th>rating</th>\n",
       "      <th>timestamp</th>\n",
       "    </tr>\n",
       "  </thead>\n",
       "  <tbody>\n",
       "    <tr>\n",
       "      <th>0</th>\n",
       "      <td>1</td>\n",
       "      <td>2</td>\n",
       "      <td>3.5</td>\n",
       "      <td>1112486027</td>\n",
       "    </tr>\n",
       "    <tr>\n",
       "      <th>1</th>\n",
       "      <td>1</td>\n",
       "      <td>29</td>\n",
       "      <td>3.5</td>\n",
       "      <td>1112484676</td>\n",
       "    </tr>\n",
       "    <tr>\n",
       "      <th>2</th>\n",
       "      <td>1</td>\n",
       "      <td>32</td>\n",
       "      <td>3.5</td>\n",
       "      <td>1112484819</td>\n",
       "    </tr>\n",
       "    <tr>\n",
       "      <th>3</th>\n",
       "      <td>1</td>\n",
       "      <td>47</td>\n",
       "      <td>3.5</td>\n",
       "      <td>1112484727</td>\n",
       "    </tr>\n",
       "    <tr>\n",
       "      <th>4</th>\n",
       "      <td>1</td>\n",
       "      <td>50</td>\n",
       "      <td>3.5</td>\n",
       "      <td>1112484580</td>\n",
       "    </tr>\n",
       "  </tbody>\n",
       "</table>\n",
       "</div>"
      ],
      "text/plain": [
       "   userId  movieId  rating   timestamp\n",
       "0       1        2     3.5  1112486027\n",
       "1       1       29     3.5  1112484676\n",
       "2       1       32     3.5  1112484819\n",
       "3       1       47     3.5  1112484727\n",
       "4       1       50     3.5  1112484580"
      ]
     },
     "execution_count": 2,
     "metadata": {},
     "output_type": "execute_result"
    }
   ],
   "source": [
    "df = pd.read_csv('../datasets/ml-20m/ratings.csv')\n",
    "df.head()"
   ]
  },
  {
   "cell_type": "code",
   "execution_count": 3,
   "id": "f4c15db4",
   "metadata": {},
   "outputs": [],
   "source": [
    "# We can't trust the userId and movieId to be numbered 0...N-1\n",
    "# Let's set our own ids\n",
    "\n",
    "df.userId = pd.Categorical(df.userId)\n",
    "df['new_user_id'] = df.userId.cat.codes"
   ]
  },
  {
   "cell_type": "code",
   "execution_count": 4,
   "id": "3c3b7f53",
   "metadata": {},
   "outputs": [
    {
     "data": {
      "text/html": [
       "<div>\n",
       "<style scoped>\n",
       "    .dataframe tbody tr th:only-of-type {\n",
       "        vertical-align: middle;\n",
       "    }\n",
       "\n",
       "    .dataframe tbody tr th {\n",
       "        vertical-align: top;\n",
       "    }\n",
       "\n",
       "    .dataframe thead th {\n",
       "        text-align: right;\n",
       "    }\n",
       "</style>\n",
       "<table border=\"1\" class=\"dataframe\">\n",
       "  <thead>\n",
       "    <tr style=\"text-align: right;\">\n",
       "      <th></th>\n",
       "      <th>userId</th>\n",
       "      <th>movieId</th>\n",
       "      <th>rating</th>\n",
       "      <th>timestamp</th>\n",
       "      <th>new_user_id</th>\n",
       "    </tr>\n",
       "  </thead>\n",
       "  <tbody>\n",
       "    <tr>\n",
       "      <th>0</th>\n",
       "      <td>1</td>\n",
       "      <td>2</td>\n",
       "      <td>3.5</td>\n",
       "      <td>1112486027</td>\n",
       "      <td>0</td>\n",
       "    </tr>\n",
       "    <tr>\n",
       "      <th>1</th>\n",
       "      <td>1</td>\n",
       "      <td>29</td>\n",
       "      <td>3.5</td>\n",
       "      <td>1112484676</td>\n",
       "      <td>0</td>\n",
       "    </tr>\n",
       "    <tr>\n",
       "      <th>2</th>\n",
       "      <td>1</td>\n",
       "      <td>32</td>\n",
       "      <td>3.5</td>\n",
       "      <td>1112484819</td>\n",
       "      <td>0</td>\n",
       "    </tr>\n",
       "    <tr>\n",
       "      <th>3</th>\n",
       "      <td>1</td>\n",
       "      <td>47</td>\n",
       "      <td>3.5</td>\n",
       "      <td>1112484727</td>\n",
       "      <td>0</td>\n",
       "    </tr>\n",
       "    <tr>\n",
       "      <th>4</th>\n",
       "      <td>1</td>\n",
       "      <td>50</td>\n",
       "      <td>3.5</td>\n",
       "      <td>1112484580</td>\n",
       "      <td>0</td>\n",
       "    </tr>\n",
       "  </tbody>\n",
       "</table>\n",
       "</div>"
      ],
      "text/plain": [
       "  userId  movieId  rating   timestamp  new_user_id\n",
       "0      1        2     3.5  1112486027            0\n",
       "1      1       29     3.5  1112484676            0\n",
       "2      1       32     3.5  1112484819            0\n",
       "3      1       47     3.5  1112484727            0\n",
       "4      1       50     3.5  1112484580            0"
      ]
     },
     "execution_count": 4,
     "metadata": {},
     "output_type": "execute_result"
    }
   ],
   "source": [
    "df.head()"
   ]
  },
  {
   "cell_type": "code",
   "execution_count": 5,
   "id": "8a6688fb",
   "metadata": {},
   "outputs": [
    {
     "data": {
      "text/plain": [
       "138493"
      ]
     },
     "execution_count": 5,
     "metadata": {},
     "output_type": "execute_result"
    }
   ],
   "source": [
    "# actual number of user id\n",
    "df['new_user_id'].nunique()"
   ]
  },
  {
   "cell_type": "code",
   "execution_count": 6,
   "id": "9211a910",
   "metadata": {},
   "outputs": [
    {
     "data": {
      "text/plain": [
       "138492"
      ]
     },
     "execution_count": 6,
     "metadata": {},
     "output_type": "execute_result"
    }
   ],
   "source": [
    "df['new_user_id'].max()"
   ]
  },
  {
   "cell_type": "code",
   "execution_count": 7,
   "id": "3aa16189",
   "metadata": {},
   "outputs": [],
   "source": [
    "# now do the same for movieId\n",
    "\n",
    "df.movieId = pd.Categorical(df.movieId)\n",
    "df['new_movie_id'] = df.movieId.cat.codes"
   ]
  },
  {
   "cell_type": "code",
   "execution_count": 8,
   "id": "8a9d3946",
   "metadata": {},
   "outputs": [
    {
     "data": {
      "text/plain": [
       "26744"
      ]
     },
     "execution_count": 8,
     "metadata": {},
     "output_type": "execute_result"
    }
   ],
   "source": [
    "# actual number of movie id\n",
    "df['new_movie_id'].nunique()"
   ]
  },
  {
   "cell_type": "code",
   "execution_count": 9,
   "id": "f78508f3",
   "metadata": {},
   "outputs": [
    {
     "data": {
      "text/plain": [
       "(0.5, 5.0)"
      ]
     },
     "execution_count": 9,
     "metadata": {},
     "output_type": "execute_result"
    }
   ],
   "source": [
    "# check ratings values\n",
    "df['rating'].min(), df['rating'].max()"
   ]
  },
  {
   "cell_type": "code",
   "execution_count": 10,
   "id": "3b99025b",
   "metadata": {},
   "outputs": [
    {
     "data": {
      "text/plain": [
       "array([3.5, 4. , 3. , 4.5, 5. , 2. , 1. , 2.5, 0.5, 1.5])"
      ]
     },
     "execution_count": 10,
     "metadata": {},
     "output_type": "execute_result"
    }
   ],
   "source": [
    "df['rating'].unique()"
   ]
  },
  {
   "cell_type": "code",
   "execution_count": 11,
   "id": "a13b4199",
   "metadata": {},
   "outputs": [],
   "source": [
    "# Get user ids, movie ids, ratings as separate arrays\n",
    "user_ids = df['new_user_id'].values\n",
    "movie_ids = df['new_movie_id'].values\n",
    "ratings = df['rating'].values"
   ]
  },
  {
   "cell_type": "code",
   "execution_count": 12,
   "id": "f5754e44",
   "metadata": {},
   "outputs": [],
   "source": [
    "# Get number of users and number of movies\n",
    "N = len(set(user_ids))\n",
    "M = len(set(movie_ids))\n",
    "\n",
    "# Set embedding dimension\n",
    "K = 10"
   ]
  },
  {
   "cell_type": "code",
   "execution_count": 13,
   "id": "6c25b658",
   "metadata": {},
   "outputs": [
    {
     "data": {
      "text/plain": [
       "(138493, 26744)"
      ]
     },
     "execution_count": 13,
     "metadata": {},
     "output_type": "execute_result"
    }
   ],
   "source": [
    "N, M"
   ]
  },
  {
   "cell_type": "code",
   "execution_count": 14,
   "id": "0442dbef",
   "metadata": {},
   "outputs": [],
   "source": [
    "# split the data\n",
    "SEED = 101\n",
    "user_ids, movie_ids, ratings = shuffle(user_ids, movie_ids, ratings, random_state=SEED)\n",
    "\n",
    "Ntrain = int(0.8 * len(ratings))\n",
    "train_user = user_ids[:Ntrain]\n",
    "train_movie = movie_ids[:Ntrain]\n",
    "train_ratings = ratings[:Ntrain]\n",
    "\n",
    "test_user = user_ids[Ntrain:]\n",
    "test_movie = movie_ids[Ntrain:]\n",
    "test_ratings = ratings[Ntrain:]\n",
    "\n",
    "# center the ratings\n",
    "avg_rating = train_ratings.mean()\n",
    "train_ratings = train_ratings - avg_rating\n",
    "test_ratings = test_ratings - avg_rating"
   ]
  },
  {
   "cell_type": "markdown",
   "id": "7a5ebb3d",
   "metadata": {},
   "source": [
    "## Make a neural network"
   ]
  },
  {
   "cell_type": "code",
   "execution_count": 15,
   "id": "48468a59",
   "metadata": {},
   "outputs": [],
   "source": [
    "# user input\n",
    "u = Input(shape=(1,))\n",
    "# movie input\n",
    "m = Input(shape=(1,))\n",
    "\n",
    "# user embedding\n",
    "u_emb = Embedding(input_dim=N, output_dim=K)(u)   # output is (num_samples, 1, K)\n",
    "# movie embedding\n",
    "m_emb = Embedding(input_dim=M, output_dim=K)(m)   # output is (num_samples, 1, K)\n",
    "\n",
    "# Flatten embeddings\n",
    "u_emb = Flatten()(u_emb)               # (num_samples, K)\n",
    "m_emb = Flatten()(m_emb)               # (num_samples, K)\n",
    "\n",
    "# Concatenate user-movie embeddings into a feature vector\n",
    "x = Concatenate()([u_emb, m_emb])      # (num_samples, 2K)\n",
    "\n",
    "# regular ANN\n",
    "x = Dense(1024, activation='relu')(x)\n",
    "# x = Dense(400, activation='relu')(x)\n",
    "# x = Dense(400, activation='relu')(x)\n",
    "x = Dense(1)(x)"
   ]
  },
  {
   "cell_type": "code",
   "execution_count": 16,
   "id": "1cd056ea",
   "metadata": {},
   "outputs": [],
   "source": [
    "# build the model and compile\n",
    "model = Model(inputs=[u, m], outputs=x)\n",
    "\n",
    "model.compile(loss='mse', \n",
    "              optimizer=SGD(learning_rate=0.08, momentum=0.9))"
   ]
  },
  {
   "cell_type": "code",
   "execution_count": 17,
   "id": "edaed961",
   "metadata": {},
   "outputs": [
    {
     "name": "stdout",
     "output_type": "stream",
     "text": [
      "Epoch 1/25\n",
      "15626/15626 - 96s - loss: 0.7766 - val_loss: 0.7202 - 96s/epoch - 6ms/step\n",
      "Epoch 2/25\n",
      "15626/15626 - 90s - loss: 0.6999 - val_loss: 0.7023 - 90s/epoch - 6ms/step\n",
      "Epoch 3/25\n",
      "15626/15626 - 97s - loss: 0.6762 - val_loss: 0.6826 - 97s/epoch - 6ms/step\n",
      "Epoch 4/25\n",
      "15626/15626 - 104s - loss: 0.6615 - val_loss: 0.6757 - 104s/epoch - 7ms/step\n",
      "Epoch 5/25\n",
      "15626/15626 - 98s - loss: 0.6511 - val_loss: 0.6680 - 98s/epoch - 6ms/step\n",
      "Epoch 6/25\n",
      "15626/15626 - 96s - loss: 0.6368 - val_loss: 0.6553 - 96s/epoch - 6ms/step\n",
      "Epoch 7/25\n",
      "15626/15626 - 97s - loss: 0.6194 - val_loss: 0.6473 - 97s/epoch - 6ms/step\n",
      "Epoch 8/25\n",
      "15626/15626 - 99s - loss: 0.6077 - val_loss: 0.6441 - 99s/epoch - 6ms/step\n",
      "Epoch 9/25\n",
      "15626/15626 - 100s - loss: 0.5993 - val_loss: 0.6405 - 100s/epoch - 6ms/step\n",
      "Epoch 10/25\n",
      "15626/15626 - 100s - loss: 0.5917 - val_loss: 0.6369 - 100s/epoch - 6ms/step\n",
      "Epoch 11/25\n",
      "15626/15626 - 99s - loss: 0.5835 - val_loss: 0.6333 - 99s/epoch - 6ms/step\n",
      "Epoch 12/25\n",
      "15626/15626 - 100s - loss: 0.5747 - val_loss: 0.6319 - 100s/epoch - 6ms/step\n",
      "Epoch 13/25\n",
      "15626/15626 - 100s - loss: 0.5664 - val_loss: 0.6264 - 100s/epoch - 6ms/step\n",
      "Epoch 14/25\n",
      "15626/15626 - 100s - loss: 0.5594 - val_loss: 0.6268 - 100s/epoch - 6ms/step\n",
      "Epoch 15/25\n",
      "15626/15626 - 100s - loss: 0.5537 - val_loss: 0.6244 - 100s/epoch - 6ms/step\n",
      "Epoch 16/25\n",
      "15626/15626 - 99s - loss: 0.5493 - val_loss: 0.6238 - 99s/epoch - 6ms/step\n",
      "Epoch 17/25\n",
      "15626/15626 - 99s - loss: 0.5456 - val_loss: 0.6243 - 99s/epoch - 6ms/step\n",
      "Epoch 18/25\n",
      "15626/15626 - 100s - loss: 0.5426 - val_loss: 0.6225 - 100s/epoch - 6ms/step\n",
      "Epoch 19/25\n",
      "15626/15626 - 99s - loss: 0.5399 - val_loss: 0.6247 - 99s/epoch - 6ms/step\n",
      "Epoch 20/25\n",
      "15626/15626 - 98s - loss: 0.5377 - val_loss: 0.6232 - 98s/epoch - 6ms/step\n",
      "Epoch 21/25\n",
      "15626/15626 - 97s - loss: 0.5356 - val_loss: 0.6246 - 97s/epoch - 6ms/step\n",
      "Epoch 22/25\n",
      "15626/15626 - 97s - loss: 0.5338 - val_loss: 0.6236 - 97s/epoch - 6ms/step\n",
      "Epoch 23/25\n",
      "15626/15626 - 97s - loss: 0.5321 - val_loss: 0.6246 - 97s/epoch - 6ms/step\n",
      "Epoch 24/25\n",
      "15626/15626 - 99s - loss: 0.5308 - val_loss: 0.6257 - 99s/epoch - 6ms/step\n",
      "Epoch 25/25\n",
      "15626/15626 - 97s - loss: 0.5292 - val_loss: 0.6274 - 97s/epoch - 6ms/step\n"
     ]
    }
   ],
   "source": [
    "# train the model\n",
    "r = model.fit(x=[train_user, train_movie],\n",
    "             y=train_ratings,\n",
    "             epochs=25,\n",
    "             batch_size=1024,\n",
    "             verbose=2,\n",
    "             validation_data=([test_user, test_movie], test_ratings))"
   ]
  },
  {
   "cell_type": "code",
   "execution_count": 18,
   "id": "ac8b3029",
   "metadata": {},
   "outputs": [
    {
     "data": {
      "image/png": "[encoded data removed]",
      "text/plain": [
       "<Figure size 640x480 with 1 Axes>"
      ]
     },
     "metadata": {},
     "output_type": "display_data"
    }
   ],
   "source": [
    "## plot the losses\n",
    "plt.plot(r.history['loss'], label='loss')\n",
    "plt.plot(r.history['val_loss'], label='val_loss')\n",
    "plt.legend()\n",
    "plt.show()"
   ]
  },
  {
   "cell_type": "code",
   "execution_count": 19,
   "id": "2edd822f",
   "metadata": {},
   "outputs": [
    {
     "data": {
      "text/plain": [
       "0.788986691902975"
      ]
     },
     "execution_count": 19,
     "metadata": {},
     "output_type": "execute_result"
    }
   ],
   "source": [
    "# is this on par with other approaches?\n",
    "# https://datascience.stackexchange.com/questions/29740/benchmark-result-for-movielens-dataset\n",
    "np.sqrt(0.6225)"
   ]
  },
  {
   "cell_type": "code",
   "execution_count": 20,
   "id": "a87fea74",
   "metadata": {},
   "outputs": [
    {
     "name": "stdout",
     "output_type": "stream",
     "text": [
      "Model: \"model\"\n",
      "__________________________________________________________________________________________________\n",
      " Layer (type)                   Output Shape         Param #     Connected to                     \n",
      "==================================================================================================\n",
      " input_1 (InputLayer)           [(None, 1)]          0           []                               \n",
      "                                                                                                  \n",
      " input_2 (InputLayer)           [(None, 1)]          0           []                               \n",
      "                                                                                                  \n",
      " embedding (Embedding)          (None, 1, 10)        1384930     ['input_1[0][0]']                \n",
      "                                                                                                  \n",
      " embedding_1 (Embedding)        (None, 1, 10)        267440      ['input_2[0][0]']                \n",
      "                                                                                                  \n",
      " flatten (Flatten)              (None, 10)           0           ['embedding[0][0]']              \n",
      "                                                                                                  \n",
      " flatten_1 (Flatten)            (None, 10)           0           ['embedding_1[0][0]']            \n",
      "                                                                                                  \n",
      " concatenate (Concatenate)      (None, 20)           0           ['flatten[0][0]',                \n",
      "                                                                  'flatten_1[0][0]']              \n",
      "                                                                                                  \n",
      " dense (Dense)                  (None, 1024)         21504       ['concatenate[0][0]']            \n",
      "                                                                                                  \n",
      " dense_1 (Dense)                (None, 1)            1025        ['dense[0][0]']                  \n",
      "                                                                                                  \n",
      "==================================================================================================\n",
      "Total params: 1,674,899\n",
      "Trainable params: 1,674,899\n",
      "Non-trainable params: 0\n",
      "__________________________________________________________________________________________________\n"
     ]
    }
   ],
   "source": [
    "model.summary()"
   ]
  },
  {
   "cell_type": "code",
   "execution_count": 21,
   "id": "8bfc653c",
   "metadata": {},
   "outputs": [],
   "source": [
    "# save the model\n",
    "model.save('movie_ratings_recommender_system.h5')"
   ]
  },
  {
   "cell_type": "code",
   "execution_count": null,
   "id": "dce6b146",
   "metadata": {},
   "outputs": [],
   "source": []
  }
 ],
 "metadata": {
  "kernelspec": {
   "display_name": "Python 3 (ipykernel)",
   "language": "python",
   "name": "python3"
  },
  "language_info": {
   "codemirror_mode": {
    "name": "ipython",
    "version": 3
   },
   "file_extension": ".py",
   "mimetype": "text/x-python",
   "name": "python",
   "nbconvert_exporter": "python",
   "pygments_lexer": "ipython3",
   "version": "3.9.13"
  }
 },
 "nbformat": 4,
 "nbformat_minor": 5
}
