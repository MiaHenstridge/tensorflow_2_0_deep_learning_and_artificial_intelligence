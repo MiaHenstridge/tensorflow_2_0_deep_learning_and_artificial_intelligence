{
 "cells": [
  {
   "cell_type": "code",
   "execution_count": 1,
   "id": "1b81fb93",
   "metadata": {},
   "outputs": [],
   "source": [
    "import tensorflow as tf\n",
    "import numpy as np\n",
    "import matplotlib.pyplot as plt\n",
    "\n",
    "from tensorflow.keras.layers import Conv2D, Input, Flatten, Dense, Dropout\n",
    "from tensorflow.keras.models import Model\n",
    "\n",
    "import keras_tuner\n",
    "from sklearn.metrics import confusion_matrix\n",
    "import itertools"
   ]
  },
  {
   "cell_type": "markdown",
   "id": "b8877a76",
   "metadata": {},
   "source": [
    "## 1. Load in the data"
   ]
  },
  {
   "cell_type": "code",
   "execution_count": 2,
   "id": "1473c8d3",
   "metadata": {},
   "outputs": [],
   "source": [
    "fashion_mnist = tf.keras.datasets.fashion_mnist"
   ]
  },
  {
   "cell_type": "code",
   "execution_count": 3,
   "id": "f52a3889",
   "metadata": {},
   "outputs": [],
   "source": [
    "(x_train, y_train), (x_test, y_test) = fashion_mnist.load_data()"
   ]
  },
  {
   "cell_type": "code",
   "execution_count": 4,
   "id": "526b2584",
   "metadata": {},
   "outputs": [],
   "source": [
    "x_train, x_test = x_train / 255.0, x_test / 255.0"
   ]
  },
  {
   "cell_type": "code",
   "execution_count": 5,
   "id": "c867ed12",
   "metadata": {},
   "outputs": [
    {
     "data": {
      "text/plain": [
       "((60000, 28, 28), (10000, 28, 28))"
      ]
     },
     "execution_count": 5,
     "metadata": {},
     "output_type": "execute_result"
    }
   ],
   "source": [
    "x_train.shape, x_test.shape"
   ]
  },
  {
   "cell_type": "code",
   "execution_count": 6,
   "id": "e412662b",
   "metadata": {},
   "outputs": [
    {
     "data": {
      "text/plain": [
       "((60000,), (10000,))"
      ]
     },
     "execution_count": 6,
     "metadata": {},
     "output_type": "execute_result"
    }
   ],
   "source": [
    "y_train.shape, y_test.shape"
   ]
  },
  {
   "cell_type": "code",
   "execution_count": 7,
   "id": "e4412059",
   "metadata": {},
   "outputs": [],
   "source": [
    "# data is only 2D\n",
    "# convolution expects height x width x color\n",
    "x_train = np.expand_dims(x_train, -1)\n",
    "x_test = np.expand_dims(x_test, -1)"
   ]
  },
  {
   "cell_type": "code",
   "execution_count": 8,
   "id": "a8c4c23a",
   "metadata": {},
   "outputs": [
    {
     "data": {
      "text/plain": [
       "((60000, 28, 28, 1), (10000, 28, 28, 1))"
      ]
     },
     "execution_count": 8,
     "metadata": {},
     "output_type": "execute_result"
    }
   ],
   "source": [
    "x_train.shape, x_test.shape"
   ]
  },
  {
   "cell_type": "code",
   "execution_count": 9,
   "id": "50c83311",
   "metadata": {},
   "outputs": [
    {
     "name": "stdout",
     "output_type": "stream",
     "text": [
      "Number of class:  10\n"
     ]
    }
   ],
   "source": [
    "# Number of classes\n",
    "K = len(set(y_train))\n",
    "\n",
    "print('Number of class: ', K)"
   ]
  },
  {
   "cell_type": "markdown",
   "id": "cff29155",
   "metadata": {},
   "source": [
    "## 2. Build the model"
   ]
  },
  {
   "cell_type": "code",
   "execution_count": 10,
   "id": "7b7e51df",
   "metadata": {},
   "outputs": [],
   "source": [
    "class MyHyperModel(keras_tuner.HyperModel):\n",
    "    def build(self, hp):\n",
    "        \"\"\"Builds a convolutional model\"\"\"\n",
    "        # Input layer\n",
    "        i = Input(shape=x_train[0].shape)\n",
    "        # Convolution layers\n",
    "        x = Conv2D(filters=32, kernel_size=(3,3), strides=2, activation='relu')(i)\n",
    "        x = Conv2D(filters=64, kernel_size=(3,3), strides=2, activation='relu')(x)\n",
    "        x = Conv2D(filters=128, kernel_size=(3,3), strides=2, activation='relu')(x)\n",
    "        # Flatten\n",
    "        x = Flatten()(x)\n",
    "        # Dropout\n",
    "        x = Dropout(0.2)(x)\n",
    "        # Dense layer\n",
    "        x = Dense(units=512, activation='relu')(x)\n",
    "        x = Dropout(0.2)(x)\n",
    "        # output layer\n",
    "        x = Dense(K, activation='softmax')(x)\n",
    "        \n",
    "        model = Model(inputs=i, outputs=x)\n",
    "        return model\n",
    "    \n",
    "    def fit(self, hp, model, x, y, validation_data, callbacks=None, epochs=100, **kwargs):\n",
    "        \"\"\"Fit model to train data x, y\"\"\"\n",
    "        # convert datasets to tf.data.Dataset\n",
    "        batch_size = hp.Int('batch_size', 32, 128, step=32, default=64)\n",
    "        train_ds = tf.data.Dataset.from_tensor_slices((x_train, y_train)).batch(batch_size)\n",
    "        validation_data = tf.data.Dataset.from_tensor_slices(validation_data).batch(batch_size)\n",
    "        \n",
    "        # define optimizer\n",
    "        optimizer = tf.keras.optimizers.Adam(\n",
    "            hp.Float('learning_rate', 1e-4, 1e-2, sampling='log', default=1e-3)\n",
    "        )\n",
    "        loss_fn = tf.keras.losses.SparseCategoricalCrossentropy(from_logits=True)\n",
    "        # metric to track validation loss\n",
    "        epoch_loss_metric = tf.keras.metrics.Mean()\n",
    "        \n",
    "        # function to run train steps\n",
    "        @tf.function\n",
    "        def run_train_step(images, labels):\n",
    "            with tf.GradientTape() as tape:\n",
    "                logits = model(images)\n",
    "                loss = loss_fn(labels, logits)\n",
    "                # add regularization losses\n",
    "                if model.losses:\n",
    "                    loss += tf.math.add_n(model.losses)\n",
    "            gradients = tape.gradient(loss, model.trainable_variables)\n",
    "            optimizer.apply_gradients(zip(gradients, model.trainable_variables))\n",
    "            \n",
    "        # function to run validation step\n",
    "        @tf.function\n",
    "        def run_val_step(images, labels):\n",
    "            logits = model(images)\n",
    "            loss = loss_fn(labels, logits)\n",
    "            # update metric\n",
    "            epoch_loss_metric.update_state(loss)\n",
    "\n",
    "        # Assign model to the callbacks\n",
    "        for callback in callbacks:\n",
    "            callback.set_model(model)\n",
    "            \n",
    "        # record best validation loss value\n",
    "        best_epoch_loss = float('inf')\n",
    "        \n",
    "        # custom training loop\n",
    "        for epoch in range(epochs):\n",
    "            print(f\"Epoch: {epoch}\")\n",
    "            \n",
    "            # iterate training data to run training step\n",
    "            for images, labels in train_ds:\n",
    "                run_train_step(images, labels)\n",
    "                \n",
    "            # iterate validation data to run validation step\n",
    "            for images, labels in validation_data:\n",
    "                run_val_step(images, labels)\n",
    "                \n",
    "            # callbacks after each epoch\n",
    "            epoch_loss = float(epoch_loss_metric.result().numpy())\n",
    "            for callback in callbacks:\n",
    "                # my_metric passed to tuner\n",
    "                callback.on_epoch_end(epoch, logs={'my_metric': epoch_loss})\n",
    "            epoch_loss_metric.reset_state()\n",
    "            \n",
    "            print(f\"Epoch loss: {epoch_loss}\")\n",
    "            best_epoch_loss = min(best_epoch_loss, epoch_loss)\n",
    "            \n",
    "        # return evaluation metric value\n",
    "        return best_epoch_loss"
   ]
  },
  {
   "cell_type": "markdown",
   "id": "207d74f5",
   "metadata": {},
   "source": [
    "## 3. Hyperparam tuning"
   ]
  },
  {
   "cell_type": "code",
   "execution_count": 11,
   "id": "0a0eb2fc",
   "metadata": {},
   "outputs": [],
   "source": [
    "RANDOM_SEED=101"
   ]
  },
  {
   "cell_type": "code",
   "execution_count": 12,
   "id": "8d1e9c3a",
   "metadata": {},
   "outputs": [],
   "source": [
    "# initialize tuner\n",
    "tuner = keras_tuner.BayesianOptimization(hypermodel=MyHyperModel(),\n",
    "                                        objective=keras_tuner.Objective('val_loss', 'min'),\n",
    "                                        max_trials=100,\n",
    "                                        directory='results',\n",
    "                                        seed=RANDOM_SEED,\n",
    "                                        project_name='fashion_mnist_tuning',\n",
    "                                        overwrite=True,\n",
    "                                        )"
   ]
  },
  {
   "cell_type": "code",
   "execution_count": 14,
   "id": "30f45aeb",
   "metadata": {
    "scrolled": false
   },
   "outputs": [
    {
     "name": "stdout",
     "output_type": "stream",
     "text": [
      "Trial 100 Complete [00h 01m 21s]\n",
      "val_loss: 0.3656561076641083\n",
      "\n",
      "Best val_loss So Far: 0.310107558965683\n",
      "Total elapsed time: 02h 44m 36s\n"
     ]
    }
   ],
   "source": [
    "# start the search\n",
    "r = tuner.search(x=x_train, y=y_train, \n",
    "                 validation_data=(x_test, y_test), \n",
    "                 epochs=20,)\n",
    "#                 callbacks=early_stop)"
   ]
  },
  {
   "cell_type": "code",
   "execution_count": 17,
   "id": "75e15950",
   "metadata": {},
   "outputs": [
    {
     "name": "stdout",
     "output_type": "stream",
     "text": [
      "{'batch_size': 96, 'learning_rate': 0.0006547199202354174}\n",
      "Model: \"model\"\n",
      "_________________________________________________________________\n",
      " Layer (type)                Output Shape              Param #   \n",
      "=================================================================\n",
      " input_1 (InputLayer)        [(None, 28, 28, 1)]       0         \n",
      "                                                                 \n",
      " conv2d (Conv2D)             (None, 13, 13, 32)        320       \n",
      "                                                                 \n",
      " conv2d_1 (Conv2D)           (None, 6, 6, 64)          18496     \n",
      "                                                                 \n",
      " conv2d_2 (Conv2D)           (None, 2, 2, 128)         73856     \n",
      "                                                                 \n",
      " flatten (Flatten)           (None, 512)               0         \n",
      "                                                                 \n",
      " dropout (Dropout)           (None, 512)               0         \n",
      "                                                                 \n",
      " dense (Dense)               (None, 512)               262656    \n",
      "                                                                 \n",
      " dropout_1 (Dropout)         (None, 512)               0         \n",
      "                                                                 \n",
      " dense_1 (Dense)             (None, 10)                5130      \n",
      "                                                                 \n",
      "=================================================================\n",
      "Total params: 360,458\n",
      "Trainable params: 360,458\n",
      "Non-trainable params: 0\n",
      "_________________________________________________________________\n"
     ]
    }
   ],
   "source": [
    "best_hps = tuner.get_best_hyperparameters()[0]\n",
    "print(best_hps.values)\n",
    "\n",
    "best_model = tuner.get_best_models()[0]\n",
    "best_model.summary()"
   ]
  },
  {
   "cell_type": "code",
   "execution_count": 18,
   "id": "d11ce5f4",
   "metadata": {},
   "outputs": [
    {
     "data": {
      "text/plain": [
       "True"
      ]
     },
     "execution_count": 18,
     "metadata": {},
     "output_type": "execute_result"
    }
   ],
   "source": [
    "best_model.built"
   ]
  },
  {
   "cell_type": "code",
   "execution_count": 25,
   "id": "2ad0ddf8",
   "metadata": {},
   "outputs": [
    {
     "data": {
      "text/plain": [
       "{'batch_size': 96, 'learning_rate': 0.0006547199202354174}"
      ]
     },
     "execution_count": 25,
     "metadata": {},
     "output_type": "execute_result"
    }
   ],
   "source": [
    "best_hps.values"
   ]
  },
  {
   "cell_type": "code",
   "execution_count": 26,
   "id": "a18cf04f",
   "metadata": {},
   "outputs": [],
   "source": [
    "# export best hyperparams\n",
    "import json\n",
    "\n",
    "with open('fashion_mnist_best_hp.json', 'w') as out_file:\n",
    "    json.dump(best_hps.values, out_file)"
   ]
  },
  {
   "cell_type": "code",
   "execution_count": 29,
   "id": "824c3038",
   "metadata": {},
   "outputs": [
    {
     "name": "stdout",
     "output_type": "stream",
     "text": [
      "{'batch_size': 96, 'learning_rate': 0.0006547199202354174}\n"
     ]
    }
   ],
   "source": [
    "# compile best model\n",
    "\n",
    "# grab hyperparams after tuning\n",
    "with open('fashion_mnist_best_hp.json') as out_file:\n",
    "    hyperparams = json.load(out_file)\n",
    "    \n",
    "print(hyperparams)\n",
    "\n",
    "opt = tf.keras.optimizers.Adam(learning_rate=hyperparams['learning_rate'])\n",
    "best_model.compile(optimizer=opt, loss='sparse_categorical_crossentropy',\n",
    "                  metrics=['accuracy'],)"
   ]
  },
  {
   "cell_type": "code",
   "execution_count": 30,
   "id": "7ea013bd",
   "metadata": {},
   "outputs": [
    {
     "name": "stdout",
     "output_type": "stream",
     "text": [
      "Epoch 1/20\n",
      "1875/1875 [==============================] - 8s 4ms/step - loss: 0.2051 - accuracy: 0.9247 - val_loss: 0.3304 - val_accuracy: 0.8973\n",
      "Epoch 2/20\n",
      "1875/1875 [==============================] - 8s 4ms/step - loss: 0.1806 - accuracy: 0.9319 - val_loss: 0.3142 - val_accuracy: 0.8977\n",
      "Epoch 3/20\n",
      "1875/1875 [==============================] - 8s 4ms/step - loss: 0.1713 - accuracy: 0.9352 - val_loss: 0.3207 - val_accuracy: 0.8994\n",
      "Epoch 4/20\n",
      "1875/1875 [==============================] - 8s 4ms/step - loss: 0.1616 - accuracy: 0.9387 - val_loss: 0.3275 - val_accuracy: 0.9007\n",
      "Epoch 5/20\n",
      "1875/1875 [==============================] - 8s 4ms/step - loss: 0.1518 - accuracy: 0.9417 - val_loss: 0.3223 - val_accuracy: 0.8994\n",
      "Epoch 6/20\n",
      "1875/1875 [==============================] - 8s 4ms/step - loss: 0.1460 - accuracy: 0.9445 - val_loss: 0.3186 - val_accuracy: 0.9024\n",
      "Epoch 7/20\n",
      "1875/1875 [==============================] - 8s 4ms/step - loss: 0.1381 - accuracy: 0.9482 - val_loss: 0.3303 - val_accuracy: 0.9028\n",
      "Epoch 8/20\n",
      "1875/1875 [==============================] - 8s 4ms/step - loss: 0.1308 - accuracy: 0.9491 - val_loss: 0.3330 - val_accuracy: 0.9022\n",
      "Epoch 9/20\n",
      "1875/1875 [==============================] - 9s 5ms/step - loss: 0.1213 - accuracy: 0.9529 - val_loss: 0.3396 - val_accuracy: 0.9036\n",
      "Epoch 10/20\n",
      "1875/1875 [==============================] - 8s 4ms/step - loss: 0.1169 - accuracy: 0.9559 - val_loss: 0.3472 - val_accuracy: 0.8978\n",
      "Epoch 11/20\n",
      "1875/1875 [==============================] - 8s 4ms/step - loss: 0.1124 - accuracy: 0.9570 - val_loss: 0.3506 - val_accuracy: 0.9005\n",
      "Epoch 12/20\n",
      "1875/1875 [==============================] - 8s 4ms/step - loss: 0.1053 - accuracy: 0.9595 - val_loss: 0.3836 - val_accuracy: 0.8991\n",
      "Epoch 13/20\n",
      "1875/1875 [==============================] - 8s 4ms/step - loss: 0.1036 - accuracy: 0.9612 - val_loss: 0.3571 - val_accuracy: 0.8989\n",
      "Epoch 14/20\n",
      "1875/1875 [==============================] - 8s 4ms/step - loss: 0.0981 - accuracy: 0.9631 - val_loss: 0.3615 - val_accuracy: 0.9005\n",
      "Epoch 15/20\n",
      "1875/1875 [==============================] - 8s 4ms/step - loss: 0.0949 - accuracy: 0.9641 - val_loss: 0.3824 - val_accuracy: 0.9006\n",
      "Epoch 16/20\n",
      "1875/1875 [==============================] - 8s 4ms/step - loss: 0.0923 - accuracy: 0.9643 - val_loss: 0.3938 - val_accuracy: 0.9037\n",
      "Epoch 17/20\n",
      "1875/1875 [==============================] - 8s 4ms/step - loss: 0.0894 - accuracy: 0.9661 - val_loss: 0.3840 - val_accuracy: 0.8983\n",
      "Epoch 18/20\n",
      "1875/1875 [==============================] - 8s 4ms/step - loss: 0.0862 - accuracy: 0.9681 - val_loss: 0.3933 - val_accuracy: 0.9007\n",
      "Epoch 19/20\n",
      "1875/1875 [==============================] - 8s 4ms/step - loss: 0.0850 - accuracy: 0.9686 - val_loss: 0.4233 - val_accuracy: 0.9001\n",
      "Epoch 20/20\n",
      "1875/1875 [==============================] - 8s 4ms/step - loss: 0.0794 - accuracy: 0.9698 - val_loss: 0.3948 - val_accuracy: 0.9022\n"
     ]
    }
   ],
   "source": [
    "# fit\n",
    "r = best_model.fit(x_train, y_train, validation_data=(x_test, y_test),\n",
    "                  epochs=20)"
   ]
  },
  {
   "cell_type": "code",
   "execution_count": 31,
   "id": "b310749d",
   "metadata": {},
   "outputs": [
    {
     "data": {
      "text/plain": [
       "<matplotlib.legend.Legend at 0x14d9c44f0a0>"
      ]
     },
     "execution_count": 31,
     "metadata": {},
     "output_type": "execute_result"
    },
    {
     "data": {
      "image/png": "[encoded data removed]",
      "text/plain": [
       "<Figure size 640x480 with 1 Axes>"
      ]
     },
     "metadata": {},
     "output_type": "display_data"
    }
   ],
   "source": [
    "# plot the loss\n",
    "plt.plot(r.history['loss'], label='loss')\n",
    "plt.plot(r.history['val_loss'], label='val_loss')\n",
    "plt.legend()"
   ]
  },
  {
   "cell_type": "code",
   "execution_count": 32,
   "id": "5ee3ced8",
   "metadata": {},
   "outputs": [
    {
     "data": {
      "text/plain": [
       "<matplotlib.legend.Legend at 0x14dbcc6b400>"
      ]
     },
     "execution_count": 32,
     "metadata": {},
     "output_type": "execute_result"
    },
    {
     "data": {
      "image/png": "[encoded data removed]",
      "text/plain": [
       "<Figure size 640x480 with 1 Axes>"
      ]
     },
     "metadata": {},
     "output_type": "display_data"
    }
   ],
   "source": [
    "# plot accuracy per iteration\n",
    "plt.plot(r.history['accuracy'], label='accuracy')\n",
    "plt.plot(r.history['val_accuracy'], label='val_accuracy')\n",
    "plt.legend()"
   ]
  },
  {
   "cell_type": "code",
   "execution_count": 33,
   "id": "e7ee64b2",
   "metadata": {},
   "outputs": [
    {
     "name": "stdout",
     "output_type": "stream",
     "text": [
      "313/313 [==============================] - 0s 1ms/step - loss: 0.3948 - accuracy: 0.9022\n"
     ]
    },
    {
     "data": {
      "text/plain": [
       "[0.39478644728660583, 0.9021999835968018]"
      ]
     },
     "execution_count": 33,
     "metadata": {},
     "output_type": "execute_result"
    }
   ],
   "source": [
    "best_model.evaluate(x_test, y_test)"
   ]
  },
  {
   "cell_type": "code",
   "execution_count": 34,
   "id": "18fdf120",
   "metadata": {},
   "outputs": [],
   "source": [
    "best_model.save('fashion_mnist_v1.h5')"
   ]
  },
  {
   "cell_type": "code",
   "execution_count": null,
   "id": "ce81b21b",
   "metadata": {},
   "outputs": [],
   "source": []
  }
 ],
 "metadata": {
  "kernelspec": {
   "display_name": "Python 3 (ipykernel)",
   "language": "python",
   "name": "python3"
  },
  "language_info": {
   "codemirror_mode": {
    "name": "ipython",
    "version": 3
   },
   "file_extension": ".py",
   "mimetype": "text/x-python",
   "name": "python",
   "nbconvert_exporter": "python",
   "pygments_lexer": "ipython3",
   "version": "3.9.13"
  }
 },
 "nbformat": 4,
 "nbformat_minor": 5
}
