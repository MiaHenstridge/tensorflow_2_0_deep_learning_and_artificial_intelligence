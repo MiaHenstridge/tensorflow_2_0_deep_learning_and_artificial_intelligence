{
 "cells": [
  {
   "cell_type": "code",
   "execution_count": 1,
   "id": "5f170bba",
   "metadata": {},
   "outputs": [
    {
     "name": "stderr",
     "output_type": "stream",
     "text": [
      "2024-07-18 07:19:49.446485: I tensorflow/core/util/port.cc:110] oneDNN custom operations are on. You may see slightly different numerical results due to floating-point round-off errors from different computation orders. To turn them off, set the environment variable `TF_ENABLE_ONEDNN_OPTS=0`.\n",
      "2024-07-18 07:19:49.503655: I tensorflow/core/platform/cpu_feature_guard.cc:182] This TensorFlow binary is optimized to use available CPU instructions in performance-critical operations.\n",
      "To enable the following instructions: AVX2 AVX512F AVX512_VNNI FMA, in other operations, rebuild TensorFlow with the appropriate compiler flags.\n",
      "2024-07-18 07:19:50.307995: W tensorflow/compiler/tf2tensorrt/utils/py_utils.cc:38] TF-TRT Warning: Could not find TensorRT\n"
     ]
    }
   ],
   "source": [
    "import tensorflow as tf\n",
    "import numpy as np\n",
    "import pandas as pd\n",
    "import matplotlib.pyplot as plt\n",
    "\n",
    "from tensorflow.keras.layers import Input, Dense\n",
    "from tensorflow.keras.models import Model\n",
    "from tensorflow.keras.optimizers import SGD, Adam"
   ]
  },
  {
   "cell_type": "markdown",
   "id": "02406278",
   "metadata": {},
   "source": [
    "## Make dataset"
   ]
  },
  {
   "cell_type": "code",
   "execution_count": 2,
   "id": "280dffe2",
   "metadata": {},
   "outputs": [],
   "source": [
    "# create series (with noise)\n",
    "series = np.sin(0.1*np.arange(200)) + np.random.randn(200)*0.1"
   ]
  },
  {
   "cell_type": "code",
   "execution_count": 3,
   "id": "ea9d3fb3",
   "metadata": {},
   "outputs": [
    {
     "data": {
      "image/png": "[encoded data removed]",
      "text/plain": [
       "<Figure size 432x288 with 1 Axes>"
      ]
     },
     "metadata": {
      "needs_background": "light"
     },
     "output_type": "display_data"
    }
   ],
   "source": [
    "plt.plot(series)\n",
    "plt.show()"
   ]
  },
  {
   "cell_type": "markdown",
   "id": "686de644",
   "metadata": {},
   "source": [
    "## Build dataset"
   ]
  },
  {
   "cell_type": "code",
   "execution_count": 4,
   "id": "480c0e00",
   "metadata": {},
   "outputs": [],
   "source": [
    "T = 10\n",
    "X = []\n",
    "Y = []\n",
    "\n",
    "for t in range(len(series)-T):\n",
    "    x = series[t:t+T]\n",
    "    X.append(x)\n",
    "    y = series[t+T]\n",
    "    Y.append(y)\n",
    "    \n",
    "X = np.array(X).reshape(-1, T)\n",
    "Y = np.array(Y)\n",
    "N = len(X)"
   ]
  },
  {
   "cell_type": "code",
   "execution_count": 5,
   "id": "55e1cdc2",
   "metadata": {},
   "outputs": [
    {
     "data": {
      "text/plain": [
       "((190, 10), (190,))"
      ]
     },
     "execution_count": 5,
     "metadata": {},
     "output_type": "execute_result"
    }
   ],
   "source": [
    "X.shape, Y.shape"
   ]
  },
  {
   "cell_type": "markdown",
   "id": "cdb4fcc7",
   "metadata": {},
   "source": [
    "## Try autoregressive linear model"
   ]
  },
  {
   "cell_type": "code",
   "execution_count": 6,
   "id": "f3d2fa4d",
   "metadata": {},
   "outputs": [
    {
     "name": "stderr",
     "output_type": "stream",
     "text": [
      "2024-07-18 07:19:52.324760: W tensorflow/core/common_runtime/gpu/gpu_device.cc:1960] Cannot dlopen some GPU libraries. Please make sure the missing libraries mentioned above are installed properly if you would like to use GPU. Follow the guide at https://www.tensorflow.org/install/gpu for how to download and setup the required libraries for your platform.\n",
      "Skipping registering GPU devices...\n"
     ]
    }
   ],
   "source": [
    "i = Input(shape=(T,))\n",
    "x = Dense(1)(i)\n",
    "model = Model(i, x)"
   ]
  },
  {
   "cell_type": "code",
   "execution_count": 7,
   "id": "b15ad7d1",
   "metadata": {},
   "outputs": [],
   "source": [
    "model.compile(optimizer=Adam(learning_rate=0.1), loss='mse')"
   ]
  },
  {
   "cell_type": "code",
   "execution_count": 8,
   "id": "1a2a1c57",
   "metadata": {
    "scrolled": true
   },
   "outputs": [
    {
     "name": "stdout",
     "output_type": "stream",
     "text": [
      "Epoch 1/80\n",
      "3/3 [==============================] - 0s 68ms/step - loss: 0.2281 - val_loss: 0.1358\n",
      "Epoch 2/80\n",
      "3/3 [==============================] - 0s 17ms/step - loss: 0.1164 - val_loss: 0.1301\n",
      "Epoch 3/80\n",
      "3/3 [==============================] - 0s 16ms/step - loss: 0.0727 - val_loss: 0.0407\n",
      "Epoch 4/80\n",
      "3/3 [==============================] - 0s 19ms/step - loss: 0.0647 - val_loss: 0.0620\n",
      "Epoch 5/80\n",
      "3/3 [==============================] - 0s 16ms/step - loss: 0.0525 - val_loss: 0.0630\n",
      "Epoch 6/80\n",
      "3/3 [==============================] - 0s 16ms/step - loss: 0.0592 - val_loss: 0.0417\n",
      "Epoch 7/80\n",
      "3/3 [==============================] - 0s 16ms/step - loss: 0.0449 - val_loss: 0.0384\n",
      "Epoch 8/80\n",
      "3/3 [==============================] - 0s 19ms/step - loss: 0.0292 - val_loss: 0.0360\n",
      "Epoch 9/80\n",
      "3/3 [==============================] - 0s 15ms/step - loss: 0.0373 - val_loss: 0.0296\n",
      "Epoch 10/80\n",
      "3/3 [==============================] - 0s 17ms/step - loss: 0.0322 - val_loss: 0.0387\n",
      "Epoch 11/80\n",
      "3/3 [==============================] - 0s 19ms/step - loss: 0.0291 - val_loss: 0.0298\n",
      "Epoch 12/80\n",
      "3/3 [==============================] - 0s 20ms/step - loss: 0.0321 - val_loss: 0.0314\n",
      "Epoch 13/80\n",
      "3/3 [==============================] - 0s 18ms/step - loss: 0.0250 - val_loss: 0.0320\n",
      "Epoch 14/80\n",
      "3/3 [==============================] - 0s 19ms/step - loss: 0.0275 - val_loss: 0.0259\n",
      "Epoch 15/80\n",
      "3/3 [==============================] - 0s 16ms/step - loss: 0.0271 - val_loss: 0.0304\n",
      "Epoch 16/80\n",
      "3/3 [==============================] - 0s 18ms/step - loss: 0.0202 - val_loss: 0.0302\n",
      "Epoch 17/80\n",
      "3/3 [==============================] - 0s 16ms/step - loss: 0.0249 - val_loss: 0.0245\n",
      "Epoch 18/80\n",
      "3/3 [==============================] - 0s 18ms/step - loss: 0.0191 - val_loss: 0.0257\n",
      "Epoch 19/80\n",
      "3/3 [==============================] - 0s 15ms/step - loss: 0.0206 - val_loss: 0.0245\n",
      "Epoch 20/80\n",
      "3/3 [==============================] - 0s 15ms/step - loss: 0.0229 - val_loss: 0.0237\n",
      "Epoch 21/80\n",
      "3/3 [==============================] - 0s 16ms/step - loss: 0.0204 - val_loss: 0.0273\n",
      "Epoch 22/80\n",
      "3/3 [==============================] - 0s 15ms/step - loss: 0.0178 - val_loss: 0.0247\n",
      "Epoch 23/80\n",
      "3/3 [==============================] - 0s 18ms/step - loss: 0.0195 - val_loss: 0.0227\n",
      "Epoch 24/80\n",
      "3/3 [==============================] - 0s 18ms/step - loss: 0.0171 - val_loss: 0.0227\n",
      "Epoch 25/80\n",
      "3/3 [==============================] - 0s 16ms/step - loss: 0.0170 - val_loss: 0.0232\n",
      "Epoch 26/80\n",
      "3/3 [==============================] - 0s 15ms/step - loss: 0.0165 - val_loss: 0.0225\n",
      "Epoch 27/80\n",
      "3/3 [==============================] - 0s 16ms/step - loss: 0.0170 - val_loss: 0.0218\n",
      "Epoch 28/80\n",
      "3/3 [==============================] - 0s 18ms/step - loss: 0.0158 - val_loss: 0.0212\n",
      "Epoch 29/80\n",
      "3/3 [==============================] - 0s 16ms/step - loss: 0.0148 - val_loss: 0.0210\n",
      "Epoch 30/80\n",
      "3/3 [==============================] - 0s 17ms/step - loss: 0.0146 - val_loss: 0.0208\n",
      "Epoch 31/80\n",
      "3/3 [==============================] - 0s 17ms/step - loss: 0.0146 - val_loss: 0.0210\n",
      "Epoch 32/80\n",
      "3/3 [==============================] - 0s 15ms/step - loss: 0.0140 - val_loss: 0.0207\n",
      "Epoch 33/80\n",
      "3/3 [==============================] - 0s 20ms/step - loss: 0.0164 - val_loss: 0.0204\n",
      "Epoch 34/80\n",
      "3/3 [==============================] - 0s 18ms/step - loss: 0.0175 - val_loss: 0.0204\n",
      "Epoch 35/80\n",
      "3/3 [==============================] - 0s 16ms/step - loss: 0.0156 - val_loss: 0.0216\n",
      "Epoch 36/80\n",
      "3/3 [==============================] - 0s 15ms/step - loss: 0.0143 - val_loss: 0.0218\n",
      "Epoch 37/80\n",
      "3/3 [==============================] - 0s 20ms/step - loss: 0.0138 - val_loss: 0.0214\n",
      "Epoch 38/80\n",
      "3/3 [==============================] - 0s 19ms/step - loss: 0.0144 - val_loss: 0.0196\n",
      "Epoch 39/80\n",
      "3/3 [==============================] - 0s 17ms/step - loss: 0.0128 - val_loss: 0.0198\n",
      "Epoch 40/80\n",
      "3/3 [==============================] - 0s 15ms/step - loss: 0.0134 - val_loss: 0.0198\n",
      "Epoch 41/80\n",
      "3/3 [==============================] - 0s 19ms/step - loss: 0.0137 - val_loss: 0.0199\n",
      "Epoch 42/80\n",
      "3/3 [==============================] - 0s 18ms/step - loss: 0.0135 - val_loss: 0.0191\n",
      "Epoch 43/80\n",
      "3/3 [==============================] - 0s 18ms/step - loss: 0.0126 - val_loss: 0.0194\n",
      "Epoch 44/80\n",
      "3/3 [==============================] - 0s 17ms/step - loss: 0.0126 - val_loss: 0.0188\n",
      "Epoch 45/80\n",
      "3/3 [==============================] - 0s 17ms/step - loss: 0.0125 - val_loss: 0.0186\n",
      "Epoch 46/80\n",
      "3/3 [==============================] - 0s 17ms/step - loss: 0.0123 - val_loss: 0.0189\n",
      "Epoch 47/80\n",
      "3/3 [==============================] - 0s 18ms/step - loss: 0.0130 - val_loss: 0.0185\n",
      "Epoch 48/80\n",
      "3/3 [==============================] - 0s 16ms/step - loss: 0.0127 - val_loss: 0.0186\n",
      "Epoch 49/80\n",
      "3/3 [==============================] - 0s 15ms/step - loss: 0.0127 - val_loss: 0.0184\n",
      "Epoch 50/80\n",
      "3/3 [==============================] - 0s 19ms/step - loss: 0.0130 - val_loss: 0.0182\n",
      "Epoch 51/80\n",
      "3/3 [==============================] - 0s 16ms/step - loss: 0.0139 - val_loss: 0.0185\n",
      "Epoch 52/80\n",
      "3/3 [==============================] - 0s 18ms/step - loss: 0.0133 - val_loss: 0.0182\n",
      "Epoch 53/80\n",
      "3/3 [==============================] - 0s 16ms/step - loss: 0.0159 - val_loss: 0.0179\n",
      "Epoch 54/80\n",
      "3/3 [==============================] - 0s 17ms/step - loss: 0.0135 - val_loss: 0.0187\n",
      "Epoch 55/80\n",
      "3/3 [==============================] - 0s 16ms/step - loss: 0.0176 - val_loss: 0.0178\n",
      "Epoch 56/80\n",
      "3/3 [==============================] - 0s 19ms/step - loss: 0.0132 - val_loss: 0.0199\n",
      "Epoch 57/80\n",
      "3/3 [==============================] - 0s 15ms/step - loss: 0.0152 - val_loss: 0.0217\n",
      "Epoch 58/80\n",
      "3/3 [==============================] - 0s 20ms/step - loss: 0.0120 - val_loss: 0.0232\n",
      "Epoch 59/80\n",
      "3/3 [==============================] - 0s 18ms/step - loss: 0.0145 - val_loss: 0.0205\n",
      "Epoch 60/80\n",
      "3/3 [==============================] - 0s 17ms/step - loss: 0.0151 - val_loss: 0.0196\n",
      "Epoch 61/80\n",
      "3/3 [==============================] - 0s 17ms/step - loss: 0.0131 - val_loss: 0.0205\n",
      "Epoch 62/80\n",
      "3/3 [==============================] - 0s 15ms/step - loss: 0.0134 - val_loss: 0.0175\n",
      "Epoch 63/80\n",
      "3/3 [==============================] - 0s 18ms/step - loss: 0.0120 - val_loss: 0.0173\n",
      "Epoch 64/80\n",
      "3/3 [==============================] - 0s 16ms/step - loss: 0.0123 - val_loss: 0.0172\n",
      "Epoch 65/80\n",
      "3/3 [==============================] - 0s 17ms/step - loss: 0.0123 - val_loss: 0.0173\n",
      "Epoch 66/80\n",
      "3/3 [==============================] - 0s 16ms/step - loss: 0.0123 - val_loss: 0.0172\n",
      "Epoch 67/80\n",
      "3/3 [==============================] - 0s 16ms/step - loss: 0.0115 - val_loss: 0.0173\n",
      "Epoch 68/80\n",
      "3/3 [==============================] - 0s 16ms/step - loss: 0.0119 - val_loss: 0.0174\n",
      "Epoch 69/80\n",
      "3/3 [==============================] - 0s 20ms/step - loss: 0.0125 - val_loss: 0.0170\n",
      "Epoch 70/80\n",
      "3/3 [==============================] - 0s 16ms/step - loss: 0.0115 - val_loss: 0.0169\n",
      "Epoch 71/80\n",
      "3/3 [==============================] - 0s 17ms/step - loss: 0.0115 - val_loss: 0.0167\n",
      "Epoch 72/80\n",
      "3/3 [==============================] - 0s 18ms/step - loss: 0.0116 - val_loss: 0.0168\n",
      "Epoch 73/80\n",
      "3/3 [==============================] - 0s 16ms/step - loss: 0.0119 - val_loss: 0.0167\n",
      "Epoch 74/80\n",
      "3/3 [==============================] - 0s 17ms/step - loss: 0.0118 - val_loss: 0.0171\n",
      "Epoch 75/80\n",
      "3/3 [==============================] - 0s 16ms/step - loss: 0.0121 - val_loss: 0.0167\n",
      "Epoch 76/80\n",
      "3/3 [==============================] - 0s 16ms/step - loss: 0.0118 - val_loss: 0.0166\n",
      "Epoch 77/80\n",
      "3/3 [==============================] - 0s 16ms/step - loss: 0.0112 - val_loss: 0.0172\n",
      "Epoch 78/80\n",
      "3/3 [==============================] - 0s 18ms/step - loss: 0.0121 - val_loss: 0.0177\n",
      "Epoch 79/80\n",
      "3/3 [==============================] - 0s 17ms/step - loss: 0.0121 - val_loss: 0.0166\n",
      "Epoch 80/80\n",
      "3/3 [==============================] - 0s 16ms/step - loss: 0.0112 - val_loss: 0.0167\n"
     ]
    }
   ],
   "source": [
    "r = model.fit(\n",
    "    X[:-N//2], Y[:-N//2],\n",
    "    epochs=80,\n",
    "    validation_data=(X[-N//2:], Y[-N//2:]),\n",
    ")"
   ]
  },
  {
   "cell_type": "markdown",
   "id": "7c5749fe",
   "metadata": {},
   "source": [
    "## Plot loss per iteration"
   ]
  },
  {
   "cell_type": "code",
   "execution_count": 9,
   "id": "24d2dbf8",
   "metadata": {},
   "outputs": [
    {
     "data": {
      "text/plain": [
       "<matplotlib.legend.Legend at 0x7f95b888adc0>"
      ]
     },
     "execution_count": 9,
     "metadata": {},
     "output_type": "execute_result"
    },
    {
     "data": {
      "image/png": "[encoded data removed]",
      "text/plain": [
       "<Figure size 432x288 with 1 Axes>"
      ]
     },
     "metadata": {
      "needs_background": "light"
     },
     "output_type": "display_data"
    }
   ],
   "source": [
    "plt.plot(r.history['loss'], label='loss')\n",
    "plt.plot(r.history['val_loss'], label='val_loss')\n",
    "plt.legend()"
   ]
  },
  {
   "cell_type": "markdown",
   "id": "33d2175c",
   "metadata": {},
   "source": [
    "## Wrong forecasts using true targets"
   ]
  },
  {
   "cell_type": "code",
   "execution_count": 10,
   "id": "d3d383e1",
   "metadata": {
    "scrolled": true
   },
   "outputs": [
    {
     "name": "stdout",
     "output_type": "stream",
     "text": [
      "1/1 [==============================] - 0s 64ms/step\n",
      "1/1 [==============================] - 0s 18ms/step\n",
      "1/1 [==============================] - 0s 19ms/step\n",
      "1/1 [==============================] - 0s 18ms/step\n",
      "1/1 [==============================] - 0s 18ms/step\n",
      "1/1 [==============================] - 0s 18ms/step\n",
      "1/1 [==============================] - 0s 19ms/step\n",
      "1/1 [==============================] - 0s 18ms/step\n",
      "1/1 [==============================] - 0s 18ms/step\n",
      "1/1 [==============================] - 0s 19ms/step\n",
      "1/1 [==============================] - 0s 18ms/step\n",
      "1/1 [==============================] - 0s 18ms/step\n",
      "1/1 [==============================] - 0s 18ms/step\n",
      "1/1 [==============================] - 0s 18ms/step\n",
      "1/1 [==============================] - 0s 18ms/step\n",
      "1/1 [==============================] - 0s 18ms/step\n",
      "1/1 [==============================] - 0s 18ms/step\n",
      "1/1 [==============================] - 0s 18ms/step\n",
      "1/1 [==============================] - 0s 19ms/step\n",
      "1/1 [==============================] - 0s 19ms/step\n",
      "1/1 [==============================] - 0s 19ms/step\n",
      "1/1 [==============================] - 0s 18ms/step\n",
      "1/1 [==============================] - 0s 19ms/step\n",
      "1/1 [==============================] - 0s 18ms/step\n",
      "1/1 [==============================] - 0s 18ms/step\n",
      "1/1 [==============================] - 0s 18ms/step\n",
      "1/1 [==============================] - 0s 19ms/step\n",
      "1/1 [==============================] - 0s 19ms/step\n",
      "1/1 [==============================] - 0s 19ms/step\n",
      "1/1 [==============================] - 0s 18ms/step\n",
      "1/1 [==============================] - 0s 19ms/step\n",
      "1/1 [==============================] - 0s 18ms/step\n",
      "1/1 [==============================] - 0s 18ms/step\n",
      "1/1 [==============================] - 0s 18ms/step\n",
      "1/1 [==============================] - 0s 18ms/step\n",
      "1/1 [==============================] - 0s 18ms/step\n",
      "1/1 [==============================] - 0s 18ms/step\n",
      "1/1 [==============================] - 0s 19ms/step\n",
      "1/1 [==============================] - 0s 18ms/step\n",
      "1/1 [==============================] - 0s 19ms/step\n",
      "1/1 [==============================] - 0s 18ms/step\n",
      "1/1 [==============================] - 0s 18ms/step\n",
      "1/1 [==============================] - 0s 18ms/step\n",
      "1/1 [==============================] - 0s 19ms/step\n",
      "1/1 [==============================] - 0s 18ms/step\n",
      "1/1 [==============================] - 0s 18ms/step\n",
      "1/1 [==============================] - 0s 19ms/step\n",
      "1/1 [==============================] - 0s 18ms/step\n",
      "1/1 [==============================] - 0s 18ms/step\n",
      "1/1 [==============================] - 0s 18ms/step\n",
      "1/1 [==============================] - 0s 18ms/step\n",
      "1/1 [==============================] - 0s 19ms/step\n",
      "1/1 [==============================] - 0s 18ms/step\n",
      "1/1 [==============================] - 0s 19ms/step\n",
      "1/1 [==============================] - 0s 19ms/step\n",
      "1/1 [==============================] - 0s 19ms/step\n",
      "1/1 [==============================] - 0s 18ms/step\n",
      "1/1 [==============================] - 0s 18ms/step\n",
      "1/1 [==============================] - 0s 19ms/step\n",
      "1/1 [==============================] - 0s 18ms/step\n",
      "1/1 [==============================] - 0s 18ms/step\n",
      "1/1 [==============================] - 0s 18ms/step\n",
      "1/1 [==============================] - 0s 18ms/step\n",
      "1/1 [==============================] - 0s 18ms/step\n",
      "1/1 [==============================] - 0s 18ms/step\n",
      "1/1 [==============================] - 0s 19ms/step\n",
      "1/1 [==============================] - 0s 19ms/step\n",
      "1/1 [==============================] - 0s 19ms/step\n",
      "1/1 [==============================] - 0s 18ms/step\n",
      "1/1 [==============================] - 0s 19ms/step\n",
      "1/1 [==============================] - 0s 18ms/step\n",
      "1/1 [==============================] - 0s 18ms/step\n",
      "1/1 [==============================] - 0s 18ms/step\n",
      "1/1 [==============================] - 0s 18ms/step\n",
      "1/1 [==============================] - 0s 18ms/step\n",
      "1/1 [==============================] - 0s 18ms/step\n",
      "1/1 [==============================] - 0s 18ms/step\n",
      "1/1 [==============================] - 0s 18ms/step\n",
      "1/1 [==============================] - 0s 18ms/step\n",
      "1/1 [==============================] - 0s 18ms/step\n",
      "1/1 [==============================] - 0s 19ms/step\n",
      "1/1 [==============================] - 0s 18ms/step\n",
      "1/1 [==============================] - 0s 18ms/step\n",
      "1/1 [==============================] - 0s 18ms/step\n",
      "1/1 [==============================] - 0s 18ms/step\n",
      "1/1 [==============================] - 0s 19ms/step\n",
      "1/1 [==============================] - 0s 19ms/step\n",
      "1/1 [==============================] - 0s 18ms/step\n",
      "1/1 [==============================] - 0s 18ms/step\n",
      "1/1 [==============================] - 0s 18ms/step\n",
      "1/1 [==============================] - 0s 18ms/step\n",
      "1/1 [==============================] - 0s 18ms/step\n",
      "1/1 [==============================] - 0s 18ms/step\n",
      "1/1 [==============================] - 0s 18ms/step\n",
      "1/1 [==============================] - 0s 18ms/step\n"
     ]
    }
   ],
   "source": [
    "# \"Wrong\" forecast using true targets\n",
    "\n",
    "validation_target = Y[-N//2:]\n",
    "validation_predictions = []\n",
    "\n",
    "# index of first validation input\n",
    "i = -N//2\n",
    "\n",
    "while len(validation_predictions) < len(validation_target):\n",
    "    p = model.predict(X[i].reshape(1, -1))[0,0] # 1x1 array -> scalar\n",
    "    i += 1\n",
    "  \n",
    "    # update the predictions list\n",
    "    validation_predictions.append(p)"
   ]
  },
  {
   "cell_type": "code",
   "execution_count": 11,
   "id": "619d5efd",
   "metadata": {},
   "outputs": [
    {
     "data": {
      "text/plain": [
       "<matplotlib.legend.Legend at 0x7f95b886c730>"
      ]
     },
     "execution_count": 11,
     "metadata": {},
     "output_type": "execute_result"
    },
    {
     "data": {
      "image/png": "[encoded data removed]",
      "text/plain": [
       "<Figure size 432x288 with 1 Axes>"
      ]
     },
     "metadata": {
      "needs_background": "light"
     },
     "output_type": "display_data"
    }
   ],
   "source": [
    "plt.plot(validation_target, label='forecast target')\n",
    "plt.plot(validation_predictions, label='forecast prediction')\n",
    "plt.legend()"
   ]
  },
  {
   "cell_type": "markdown",
   "id": "b16af164",
   "metadata": {},
   "source": [
    "## Forecast future values (use only self-predictions for making future predictions)"
   ]
  },
  {
   "cell_type": "code",
   "execution_count": 12,
   "id": "6a3ebd77",
   "metadata": {
    "scrolled": true
   },
   "outputs": [
    {
     "name": "stdout",
     "output_type": "stream",
     "text": [
      "1/1 [==============================] - 0s 18ms/step\n",
      "1/1 [==============================] - 0s 18ms/step\n",
      "1/1 [==============================] - 0s 18ms/step\n",
      "1/1 [==============================] - 0s 18ms/step\n",
      "1/1 [==============================] - 0s 18ms/step\n",
      "1/1 [==============================] - 0s 18ms/step\n",
      "1/1 [==============================] - 0s 19ms/step\n",
      "1/1 [==============================] - 0s 19ms/step\n",
      "1/1 [==============================] - 0s 19ms/step\n",
      "1/1 [==============================] - 0s 18ms/step\n",
      "1/1 [==============================] - 0s 18ms/step\n",
      "1/1 [==============================] - 0s 19ms/step\n",
      "1/1 [==============================] - 0s 18ms/step\n",
      "1/1 [==============================] - 0s 19ms/step\n",
      "1/1 [==============================] - 0s 18ms/step\n",
      "1/1 [==============================] - 0s 19ms/step\n",
      "1/1 [==============================] - 0s 19ms/step\n",
      "1/1 [==============================] - 0s 18ms/step\n",
      "1/1 [==============================] - 0s 19ms/step\n",
      "1/1 [==============================] - 0s 18ms/step\n",
      "1/1 [==============================] - 0s 18ms/step\n",
      "1/1 [==============================] - 0s 18ms/step\n",
      "1/1 [==============================] - 0s 19ms/step\n",
      "1/1 [==============================] - 0s 19ms/step\n",
      "1/1 [==============================] - 0s 18ms/step\n",
      "1/1 [==============================] - 0s 18ms/step\n",
      "1/1 [==============================] - 0s 19ms/step\n",
      "1/1 [==============================] - 0s 18ms/step\n",
      "1/1 [==============================] - 0s 18ms/step\n",
      "1/1 [==============================] - 0s 18ms/step\n",
      "1/1 [==============================] - 0s 18ms/step\n",
      "1/1 [==============================] - 0s 19ms/step\n",
      "1/1 [==============================] - 0s 19ms/step\n",
      "1/1 [==============================] - 0s 18ms/step\n",
      "1/1 [==============================] - 0s 18ms/step\n",
      "1/1 [==============================] - 0s 18ms/step\n",
      "1/1 [==============================] - 0s 19ms/step\n",
      "1/1 [==============================] - 0s 18ms/step\n",
      "1/1 [==============================] - 0s 19ms/step\n",
      "1/1 [==============================] - 0s 19ms/step\n",
      "1/1 [==============================] - 0s 18ms/step\n",
      "1/1 [==============================] - 0s 18ms/step\n",
      "1/1 [==============================] - 0s 18ms/step\n",
      "1/1 [==============================] - 0s 18ms/step\n",
      "1/1 [==============================] - 0s 18ms/step\n",
      "1/1 [==============================] - 0s 18ms/step\n",
      "1/1 [==============================] - 0s 18ms/step\n",
      "1/1 [==============================] - 0s 19ms/step\n",
      "1/1 [==============================] - 0s 19ms/step\n",
      "1/1 [==============================] - 0s 19ms/step\n",
      "1/1 [==============================] - 0s 18ms/step\n",
      "1/1 [==============================] - 0s 18ms/step\n",
      "1/1 [==============================] - 0s 19ms/step\n",
      "1/1 [==============================] - 0s 19ms/step\n",
      "1/1 [==============================] - 0s 18ms/step\n",
      "1/1 [==============================] - 0s 19ms/step\n",
      "1/1 [==============================] - 0s 19ms/step\n",
      "1/1 [==============================] - 0s 18ms/step\n",
      "1/1 [==============================] - 0s 18ms/step\n",
      "1/1 [==============================] - 0s 18ms/step\n",
      "1/1 [==============================] - 0s 17ms/step\n",
      "1/1 [==============================] - 0s 18ms/step\n",
      "1/1 [==============================] - 0s 18ms/step\n",
      "1/1 [==============================] - 0s 19ms/step\n",
      "1/1 [==============================] - 0s 20ms/step\n",
      "1/1 [==============================] - 0s 24ms/step\n",
      "1/1 [==============================] - 0s 20ms/step\n",
      "1/1 [==============================] - 0s 21ms/step\n",
      "1/1 [==============================] - 0s 20ms/step\n",
      "1/1 [==============================] - 0s 19ms/step\n",
      "1/1 [==============================] - 0s 19ms/step\n",
      "1/1 [==============================] - 0s 19ms/step\n",
      "1/1 [==============================] - 0s 31ms/step\n",
      "1/1 [==============================] - 0s 19ms/step\n",
      "1/1 [==============================] - 0s 19ms/step\n",
      "1/1 [==============================] - 0s 19ms/step\n",
      "1/1 [==============================] - 0s 19ms/step\n",
      "1/1 [==============================] - 0s 18ms/step\n",
      "1/1 [==============================] - 0s 18ms/step\n",
      "1/1 [==============================] - 0s 19ms/step\n",
      "1/1 [==============================] - 0s 19ms/step\n",
      "1/1 [==============================] - 0s 19ms/step\n",
      "1/1 [==============================] - 0s 19ms/step\n",
      "1/1 [==============================] - 0s 18ms/step\n",
      "1/1 [==============================] - 0s 19ms/step\n",
      "1/1 [==============================] - 0s 18ms/step\n",
      "1/1 [==============================] - 0s 18ms/step\n",
      "1/1 [==============================] - 0s 18ms/step\n",
      "1/1 [==============================] - 0s 19ms/step\n",
      "1/1 [==============================] - 0s 18ms/step\n",
      "1/1 [==============================] - 0s 18ms/step\n",
      "1/1 [==============================] - 0s 19ms/step\n",
      "1/1 [==============================] - 0s 18ms/step\n",
      "1/1 [==============================] - 0s 18ms/step\n",
      "1/1 [==============================] - 0s 19ms/step\n"
     ]
    }
   ],
   "source": [
    "# Forecast future values (use only self-predictions for making future predictions)\n",
    "\n",
    "validation_target = Y[-N//2:]\n",
    "validation_predictions = []\n",
    "\n",
    "# first validation input\n",
    "last_x = X[-N//2] # 1-D array of length T\n",
    "\n",
    "while len(validation_predictions) < len(validation_target):\n",
    "    p = model.predict(last_x.reshape(1, -1))[0,0] # 1x1 array -> scalar\n",
    "  \n",
    "    # update the predictions list\n",
    "    validation_predictions.append(p)\n",
    "  \n",
    "    # make the new input\n",
    "    last_x = np.roll(last_x, -1)\n",
    "    last_x[-1] = p"
   ]
  },
  {
   "cell_type": "code",
   "execution_count": 13,
   "id": "e0226abe",
   "metadata": {},
   "outputs": [
    {
     "data": {
      "text/plain": [
       "<matplotlib.legend.Legend at 0x7f95b86b7ca0>"
      ]
     },
     "execution_count": 13,
     "metadata": {},
     "output_type": "execute_result"
    },
    {
     "data": {
      "image/png": "[encoded data removed]",
      "text/plain": [
       "<Figure size 432x288 with 1 Axes>"
      ]
     },
     "metadata": {
      "needs_background": "light"
     },
     "output_type": "display_data"
    }
   ],
   "source": [
    "plt.plot(validation_target, label='forecast target')\n",
    "plt.plot(validation_predictions, label='forecast prediction')\n",
    "plt.legend()"
   ]
  },
  {
   "cell_type": "code",
   "execution_count": null,
   "id": "7b93a5ac",
   "metadata": {},
   "outputs": [],
   "source": []
  }
 ],
 "metadata": {
  "kernelspec": {
   "display_name": "Python 3 (ipykernel)",
   "language": "python",
   "name": "python3"
  },
  "language_info": {
   "codemirror_mode": {
    "name": "ipython",
    "version": 3
   },
   "file_extension": ".py",
   "mimetype": "text/x-python",
   "name": "python",
   "nbconvert_exporter": "python",
   "pygments_lexer": "ipython3",
   "version": "3.8.10"
  }
 },
 "nbformat": 4,
 "nbformat_minor": 5
}
