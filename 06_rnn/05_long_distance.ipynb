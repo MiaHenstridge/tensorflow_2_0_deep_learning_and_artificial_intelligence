{
 "cells": [
  {
   "cell_type": "code",
   "execution_count": 1,
   "id": "482529d4",
   "metadata": {},
   "outputs": [],
   "source": [
    "import tensorflow as tf\n",
    "import numpy as np\n",
    "import pandas as pd\n",
    "\n",
    "from tensorflow.keras.layers import Input, SimpleRNN, GRU, LSTM, Dense, Flatten, GlobalMaxPool1D\n",
    "from tensorflow.keras.models import Model\n",
    "from tensorflow.keras.optimizers import Adam, SGD"
   ]
  },
  {
   "cell_type": "code",
   "execution_count": 2,
   "id": "988db4d0",
   "metadata": {},
   "outputs": [],
   "source": [
    "import matplotlib.pyplot as plt"
   ]
  },
  {
   "cell_type": "markdown",
   "id": "b8e8ad68",
   "metadata": {},
   "source": [
    "## 1. Short distance problem"
   ]
  },
  {
   "cell_type": "code",
   "execution_count": 3,
   "id": "ce50c810",
   "metadata": {},
   "outputs": [],
   "source": [
    "# nonlinear and long-distance dataset\n",
    "# test long-distance vs. short-distance patterns\n",
    "\n",
    "# start with a small T and increase it later\n",
    "T = 10\n",
    "D = 1\n",
    "X = []\n",
    "Y = []\n"
   ]
  },
  {
   "cell_type": "code",
   "execution_count": 4,
   "id": "f514da99",
   "metadata": {},
   "outputs": [],
   "source": [
    "def get_label(x, i1, i2, i3):\n",
    "    # x = sequence\n",
    "    if x[i1] < 0 and x[i2] < 0 and x[i3] < 0:\n",
    "        return 1\n",
    "    if x[i1] < 0 and x[i2] > 0 and x[i3] > 0:\n",
    "        return 1\n",
    "    if x[i1] > 0 and x[i2] < 0 and x[i3] > 0:\n",
    "        return 1\n",
    "    if x[i1] > 0 and x[i2] > 0 and x[i3] < 0:\n",
    "        return 1\n",
    "    return 0\n",
    "\n",
    "for t in range(5000):\n",
    "    x = np.random.randn(T)    # generate x\n",
    "    X.append(x)\n",
    "    y = get_label(x, -1, -2, -3)   # short distance\n",
    "#     y = get_label(x, 0, 1, 2)      # long distance\n",
    "    Y.append(y)"
   ]
  },
  {
   "cell_type": "code",
   "execution_count": 5,
   "id": "2c0a1e4f",
   "metadata": {},
   "outputs": [],
   "source": [
    "X = np.array(X)\n",
    "Y = np.array(Y)\n",
    "N = len(X)"
   ]
  },
  {
   "cell_type": "code",
   "execution_count": 6,
   "id": "7109f548",
   "metadata": {},
   "outputs": [
    {
     "data": {
      "text/plain": [
       "((5000, 10), (5000,))"
      ]
     },
     "execution_count": 6,
     "metadata": {},
     "output_type": "execute_result"
    }
   ],
   "source": [
    "X.shape, Y.shape"
   ]
  },
  {
   "cell_type": "markdown",
   "id": "7d422cbe",
   "metadata": {},
   "source": [
    "### 1.1. Try a linear model - classification model"
   ]
  },
  {
   "cell_type": "code",
   "execution_count": 9,
   "id": "ad09ea0d",
   "metadata": {},
   "outputs": [
    {
     "name": "stderr",
     "output_type": "stream",
     "text": [
      "2024-07-19 04:34:07.845387: W tensorflow/core/common_runtime/gpu/gpu_device.cc:1960] Cannot dlopen some GPU libraries. Please make sure the missing libraries mentioned above are installed properly if you would like to use GPU. Follow the guide at https://www.tensorflow.org/install/gpu for how to download and setup the required libraries for your platform.\n",
      "Skipping registering GPU devices...\n"
     ]
    }
   ],
   "source": [
    "i = Input(shape=(T, ))\n",
    "x = Dense(1, activation='sigmoid')(i)\n",
    "\n",
    "model = Model(i,x)"
   ]
  },
  {
   "cell_type": "code",
   "execution_count": 10,
   "id": "b7e5d745",
   "metadata": {},
   "outputs": [],
   "source": [
    "model.compile(loss='binary_crossentropy',\n",
    "             optimizer=Adam(learning_rate=0.01),\n",
    "             metrics=['accuracy'])"
   ]
  },
  {
   "cell_type": "code",
   "execution_count": 11,
   "id": "cc2c404f",
   "metadata": {
    "scrolled": true
   },
   "outputs": [
    {
     "name": "stdout",
     "output_type": "stream",
     "text": [
      "Epoch 1/100\n",
      "79/79 [==============================] - 1s 4ms/step - loss: 0.7382 - accuracy: 0.5052 - val_loss: 0.6997 - val_accuracy: 0.5228\n",
      "Epoch 2/100\n",
      "79/79 [==============================] - 0s 3ms/step - loss: 0.6957 - accuracy: 0.5004 - val_loss: 0.6956 - val_accuracy: 0.5084\n",
      "Epoch 3/100\n",
      "79/79 [==============================] - 0s 3ms/step - loss: 0.6954 - accuracy: 0.5048 - val_loss: 0.6937 - val_accuracy: 0.5216\n",
      "Epoch 4/100\n",
      "79/79 [==============================] - 0s 3ms/step - loss: 0.6942 - accuracy: 0.5152 - val_loss: 0.6939 - val_accuracy: 0.5088\n",
      "Epoch 5/100\n",
      "79/79 [==============================] - 0s 2ms/step - loss: 0.6957 - accuracy: 0.4928 - val_loss: 0.6938 - val_accuracy: 0.5108\n",
      "Epoch 6/100\n",
      "79/79 [==============================] - 0s 2ms/step - loss: 0.6946 - accuracy: 0.5044 - val_loss: 0.6942 - val_accuracy: 0.5236\n",
      "Epoch 7/100\n",
      "79/79 [==============================] - 0s 3ms/step - loss: 0.6950 - accuracy: 0.5064 - val_loss: 0.6947 - val_accuracy: 0.5040\n",
      "Epoch 8/100\n",
      "79/79 [==============================] - 0s 2ms/step - loss: 0.6957 - accuracy: 0.5012 - val_loss: 0.6947 - val_accuracy: 0.5152\n",
      "Epoch 9/100\n",
      "79/79 [==============================] - 0s 3ms/step - loss: 0.6948 - accuracy: 0.5048 - val_loss: 0.6937 - val_accuracy: 0.5080\n",
      "Epoch 10/100\n",
      "79/79 [==============================] - 0s 2ms/step - loss: 0.6948 - accuracy: 0.5028 - val_loss: 0.6943 - val_accuracy: 0.5084\n",
      "Epoch 11/100\n",
      "79/79 [==============================] - 0s 2ms/step - loss: 0.6944 - accuracy: 0.5036 - val_loss: 0.6946 - val_accuracy: 0.5140\n",
      "Epoch 12/100\n",
      "79/79 [==============================] - 0s 2ms/step - loss: 0.6958 - accuracy: 0.5128 - val_loss: 0.6954 - val_accuracy: 0.5012\n",
      "Epoch 13/100\n",
      "79/79 [==============================] - 0s 3ms/step - loss: 0.6948 - accuracy: 0.4948 - val_loss: 0.6937 - val_accuracy: 0.5128\n",
      "Epoch 14/100\n",
      "79/79 [==============================] - 0s 2ms/step - loss: 0.6958 - accuracy: 0.4916 - val_loss: 0.6941 - val_accuracy: 0.4996\n",
      "Epoch 15/100\n",
      "79/79 [==============================] - 0s 3ms/step - loss: 0.6953 - accuracy: 0.4924 - val_loss: 0.6945 - val_accuracy: 0.5004\n",
      "Epoch 16/100\n",
      "79/79 [==============================] - 0s 3ms/step - loss: 0.6948 - accuracy: 0.5016 - val_loss: 0.6948 - val_accuracy: 0.5024\n",
      "Epoch 17/100\n",
      "79/79 [==============================] - 0s 3ms/step - loss: 0.6944 - accuracy: 0.4912 - val_loss: 0.6948 - val_accuracy: 0.5148\n",
      "Epoch 18/100\n",
      "79/79 [==============================] - 0s 3ms/step - loss: 0.6953 - accuracy: 0.5036 - val_loss: 0.6962 - val_accuracy: 0.4964\n",
      "Epoch 19/100\n",
      "79/79 [==============================] - 0s 3ms/step - loss: 0.6953 - accuracy: 0.5216 - val_loss: 0.6954 - val_accuracy: 0.4892\n",
      "Epoch 20/100\n",
      "79/79 [==============================] - 0s 3ms/step - loss: 0.6957 - accuracy: 0.4992 - val_loss: 0.6948 - val_accuracy: 0.5084\n",
      "Epoch 21/100\n",
      "79/79 [==============================] - 0s 2ms/step - loss: 0.6961 - accuracy: 0.5044 - val_loss: 0.6948 - val_accuracy: 0.4904\n",
      "Epoch 22/100\n",
      "79/79 [==============================] - 0s 2ms/step - loss: 0.6954 - accuracy: 0.5020 - val_loss: 0.6941 - val_accuracy: 0.5104\n",
      "Epoch 23/100\n",
      "79/79 [==============================] - 0s 2ms/step - loss: 0.6951 - accuracy: 0.4916 - val_loss: 0.6939 - val_accuracy: 0.5184\n",
      "Epoch 24/100\n",
      "79/79 [==============================] - 0s 2ms/step - loss: 0.6951 - accuracy: 0.5060 - val_loss: 0.6945 - val_accuracy: 0.4936\n",
      "Epoch 25/100\n",
      "79/79 [==============================] - 0s 2ms/step - loss: 0.6945 - accuracy: 0.5032 - val_loss: 0.6942 - val_accuracy: 0.5040\n",
      "Epoch 26/100\n",
      "79/79 [==============================] - 0s 3ms/step - loss: 0.6948 - accuracy: 0.5104 - val_loss: 0.6947 - val_accuracy: 0.5140\n",
      "Epoch 27/100\n",
      "79/79 [==============================] - 0s 3ms/step - loss: 0.6950 - accuracy: 0.5136 - val_loss: 0.6944 - val_accuracy: 0.5152\n",
      "Epoch 28/100\n",
      "79/79 [==============================] - 0s 2ms/step - loss: 0.6946 - accuracy: 0.5000 - val_loss: 0.6943 - val_accuracy: 0.5144\n",
      "Epoch 29/100\n",
      "79/79 [==============================] - 0s 3ms/step - loss: 0.6957 - accuracy: 0.5096 - val_loss: 0.6946 - val_accuracy: 0.5032\n",
      "Epoch 30/100\n",
      "79/79 [==============================] - 0s 2ms/step - loss: 0.6947 - accuracy: 0.5088 - val_loss: 0.6954 - val_accuracy: 0.5200\n",
      "Epoch 31/100\n",
      "79/79 [==============================] - 0s 2ms/step - loss: 0.6946 - accuracy: 0.5076 - val_loss: 0.6960 - val_accuracy: 0.4992\n",
      "Epoch 32/100\n",
      "79/79 [==============================] - 0s 2ms/step - loss: 0.6955 - accuracy: 0.5084 - val_loss: 0.6954 - val_accuracy: 0.5088\n",
      "Epoch 33/100\n",
      "79/79 [==============================] - 0s 2ms/step - loss: 0.6949 - accuracy: 0.5080 - val_loss: 0.6936 - val_accuracy: 0.5196\n",
      "Epoch 34/100\n",
      "79/79 [==============================] - 0s 2ms/step - loss: 0.6965 - accuracy: 0.4980 - val_loss: 0.6935 - val_accuracy: 0.5136\n",
      "Epoch 35/100\n",
      "79/79 [==============================] - 0s 2ms/step - loss: 0.6955 - accuracy: 0.5036 - val_loss: 0.6940 - val_accuracy: 0.5100\n",
      "Epoch 36/100\n",
      "79/79 [==============================] - 0s 3ms/step - loss: 0.6945 - accuracy: 0.4948 - val_loss: 0.6944 - val_accuracy: 0.5056\n",
      "Epoch 37/100\n",
      "79/79 [==============================] - 0s 2ms/step - loss: 0.6951 - accuracy: 0.5024 - val_loss: 0.6935 - val_accuracy: 0.5284\n",
      "Epoch 38/100\n",
      "79/79 [==============================] - 0s 2ms/step - loss: 0.6951 - accuracy: 0.5164 - val_loss: 0.6948 - val_accuracy: 0.5084\n",
      "Epoch 39/100\n",
      "79/79 [==============================] - 0s 2ms/step - loss: 0.6952 - accuracy: 0.5020 - val_loss: 0.6951 - val_accuracy: 0.4984\n",
      "Epoch 40/100\n",
      "79/79 [==============================] - 0s 3ms/step - loss: 0.6945 - accuracy: 0.4964 - val_loss: 0.6941 - val_accuracy: 0.5052\n",
      "Epoch 41/100\n",
      "79/79 [==============================] - 0s 2ms/step - loss: 0.6944 - accuracy: 0.5012 - val_loss: 0.6942 - val_accuracy: 0.5148\n",
      "Epoch 42/100\n",
      "79/79 [==============================] - 0s 2ms/step - loss: 0.6955 - accuracy: 0.4900 - val_loss: 0.6947 - val_accuracy: 0.5180\n",
      "Epoch 43/100\n",
      "79/79 [==============================] - 0s 2ms/step - loss: 0.6972 - accuracy: 0.5056 - val_loss: 0.6957 - val_accuracy: 0.5076\n",
      "Epoch 44/100\n",
      "79/79 [==============================] - 0s 2ms/step - loss: 0.6947 - accuracy: 0.4976 - val_loss: 0.6940 - val_accuracy: 0.4996\n",
      "Epoch 45/100\n",
      "79/79 [==============================] - 0s 2ms/step - loss: 0.6945 - accuracy: 0.4936 - val_loss: 0.6940 - val_accuracy: 0.5032\n",
      "Epoch 46/100\n",
      "79/79 [==============================] - 0s 2ms/step - loss: 0.6950 - accuracy: 0.5024 - val_loss: 0.6951 - val_accuracy: 0.5020\n",
      "Epoch 47/100\n",
      "79/79 [==============================] - 0s 2ms/step - loss: 0.6964 - accuracy: 0.4972 - val_loss: 0.6949 - val_accuracy: 0.5120\n",
      "Epoch 48/100\n",
      "79/79 [==============================] - 0s 2ms/step - loss: 0.6955 - accuracy: 0.5056 - val_loss: 0.6955 - val_accuracy: 0.5160\n",
      "Epoch 49/100\n",
      "79/79 [==============================] - 0s 2ms/step - loss: 0.6955 - accuracy: 0.4956 - val_loss: 0.6934 - val_accuracy: 0.5144\n",
      "Epoch 50/100\n",
      "79/79 [==============================] - 0s 2ms/step - loss: 0.6948 - accuracy: 0.4972 - val_loss: 0.6945 - val_accuracy: 0.5096\n",
      "Epoch 51/100\n",
      "79/79 [==============================] - 0s 2ms/step - loss: 0.6949 - accuracy: 0.5020 - val_loss: 0.6944 - val_accuracy: 0.5160\n",
      "Epoch 52/100\n",
      "79/79 [==============================] - 0s 2ms/step - loss: 0.6951 - accuracy: 0.5020 - val_loss: 0.6946 - val_accuracy: 0.5036\n",
      "Epoch 53/100\n",
      "79/79 [==============================] - 0s 2ms/step - loss: 0.6953 - accuracy: 0.5068 - val_loss: 0.6931 - val_accuracy: 0.5160\n",
      "Epoch 54/100\n",
      "79/79 [==============================] - 0s 2ms/step - loss: 0.6953 - accuracy: 0.4912 - val_loss: 0.6940 - val_accuracy: 0.5108\n",
      "Epoch 55/100\n",
      "79/79 [==============================] - 0s 2ms/step - loss: 0.6942 - accuracy: 0.4956 - val_loss: 0.6939 - val_accuracy: 0.5132\n",
      "Epoch 56/100\n",
      "79/79 [==============================] - 0s 2ms/step - loss: 0.6954 - accuracy: 0.5100 - val_loss: 0.6940 - val_accuracy: 0.5056\n",
      "Epoch 57/100\n",
      "79/79 [==============================] - 0s 2ms/step - loss: 0.6955 - accuracy: 0.4876 - val_loss: 0.6933 - val_accuracy: 0.5192\n",
      "Epoch 58/100\n",
      "79/79 [==============================] - 0s 2ms/step - loss: 0.6950 - accuracy: 0.5028 - val_loss: 0.6952 - val_accuracy: 0.4996\n"
     ]
    },
    {
     "name": "stdout",
     "output_type": "stream",
     "text": [
      "Epoch 59/100\n",
      "79/79 [==============================] - 0s 2ms/step - loss: 0.6949 - accuracy: 0.5004 - val_loss: 0.6936 - val_accuracy: 0.5180\n",
      "Epoch 60/100\n",
      "79/79 [==============================] - 0s 3ms/step - loss: 0.6953 - accuracy: 0.5140 - val_loss: 0.6936 - val_accuracy: 0.5084\n",
      "Epoch 61/100\n",
      "79/79 [==============================] - 0s 2ms/step - loss: 0.6954 - accuracy: 0.5116 - val_loss: 0.6947 - val_accuracy: 0.5024\n",
      "Epoch 62/100\n",
      "79/79 [==============================] - 0s 2ms/step - loss: 0.6960 - accuracy: 0.4876 - val_loss: 0.6932 - val_accuracy: 0.5184\n",
      "Epoch 63/100\n",
      "79/79 [==============================] - 0s 2ms/step - loss: 0.6955 - accuracy: 0.5036 - val_loss: 0.6942 - val_accuracy: 0.5216\n",
      "Epoch 64/100\n",
      "79/79 [==============================] - 0s 2ms/step - loss: 0.6966 - accuracy: 0.4900 - val_loss: 0.6932 - val_accuracy: 0.5052\n",
      "Epoch 65/100\n",
      "79/79 [==============================] - 0s 2ms/step - loss: 0.6951 - accuracy: 0.5088 - val_loss: 0.6947 - val_accuracy: 0.5176\n",
      "Epoch 66/100\n",
      "79/79 [==============================] - 0s 2ms/step - loss: 0.6961 - accuracy: 0.4892 - val_loss: 0.6948 - val_accuracy: 0.5124\n",
      "Epoch 67/100\n",
      "79/79 [==============================] - 0s 2ms/step - loss: 0.6949 - accuracy: 0.5008 - val_loss: 0.6938 - val_accuracy: 0.5020\n",
      "Epoch 68/100\n",
      "79/79 [==============================] - 0s 2ms/step - loss: 0.6948 - accuracy: 0.5012 - val_loss: 0.6934 - val_accuracy: 0.5112\n",
      "Epoch 69/100\n",
      "79/79 [==============================] - 0s 3ms/step - loss: 0.6949 - accuracy: 0.4964 - val_loss: 0.6936 - val_accuracy: 0.5132\n",
      "Epoch 70/100\n",
      "79/79 [==============================] - 0s 2ms/step - loss: 0.6959 - accuracy: 0.5040 - val_loss: 0.6943 - val_accuracy: 0.5196\n",
      "Epoch 71/100\n",
      "79/79 [==============================] - 0s 2ms/step - loss: 0.6951 - accuracy: 0.4916 - val_loss: 0.6934 - val_accuracy: 0.5172\n",
      "Epoch 72/100\n",
      "79/79 [==============================] - 0s 3ms/step - loss: 0.6950 - accuracy: 0.5000 - val_loss: 0.6946 - val_accuracy: 0.5192\n",
      "Epoch 73/100\n",
      "79/79 [==============================] - 0s 2ms/step - loss: 0.6952 - accuracy: 0.4996 - val_loss: 0.6935 - val_accuracy: 0.5192\n",
      "Epoch 74/100\n",
      "79/79 [==============================] - 0s 2ms/step - loss: 0.6949 - accuracy: 0.5032 - val_loss: 0.6942 - val_accuracy: 0.5064\n",
      "Epoch 75/100\n",
      "79/79 [==============================] - 0s 2ms/step - loss: 0.6958 - accuracy: 0.4944 - val_loss: 0.6946 - val_accuracy: 0.5000\n",
      "Epoch 76/100\n",
      "79/79 [==============================] - 0s 2ms/step - loss: 0.6950 - accuracy: 0.5028 - val_loss: 0.6942 - val_accuracy: 0.5144\n",
      "Epoch 77/100\n",
      "79/79 [==============================] - 0s 2ms/step - loss: 0.6950 - accuracy: 0.5112 - val_loss: 0.6942 - val_accuracy: 0.5028\n",
      "Epoch 78/100\n",
      "79/79 [==============================] - 0s 2ms/step - loss: 0.6948 - accuracy: 0.4932 - val_loss: 0.6942 - val_accuracy: 0.5084\n",
      "Epoch 79/100\n",
      "79/79 [==============================] - 0s 2ms/step - loss: 0.6950 - accuracy: 0.5140 - val_loss: 0.6935 - val_accuracy: 0.5192\n",
      "Epoch 80/100\n",
      "79/79 [==============================] - 0s 2ms/step - loss: 0.6952 - accuracy: 0.5000 - val_loss: 0.6935 - val_accuracy: 0.5164\n",
      "Epoch 81/100\n",
      "79/79 [==============================] - 0s 2ms/step - loss: 0.6951 - accuracy: 0.4976 - val_loss: 0.6944 - val_accuracy: 0.5168\n",
      "Epoch 82/100\n",
      "79/79 [==============================] - 0s 2ms/step - loss: 0.6955 - accuracy: 0.4972 - val_loss: 0.6941 - val_accuracy: 0.5028\n",
      "Epoch 83/100\n",
      "79/79 [==============================] - 0s 2ms/step - loss: 0.6948 - accuracy: 0.5008 - val_loss: 0.6942 - val_accuracy: 0.5256\n",
      "Epoch 84/100\n",
      "79/79 [==============================] - 0s 2ms/step - loss: 0.6950 - accuracy: 0.5056 - val_loss: 0.6935 - val_accuracy: 0.5092\n",
      "Epoch 85/100\n",
      "79/79 [==============================] - 0s 2ms/step - loss: 0.6948 - accuracy: 0.5060 - val_loss: 0.6944 - val_accuracy: 0.5072\n",
      "Epoch 86/100\n",
      "79/79 [==============================] - 0s 3ms/step - loss: 0.6955 - accuracy: 0.5068 - val_loss: 0.6944 - val_accuracy: 0.5044\n",
      "Epoch 87/100\n",
      "79/79 [==============================] - 0s 2ms/step - loss: 0.6953 - accuracy: 0.4956 - val_loss: 0.6949 - val_accuracy: 0.5020\n",
      "Epoch 88/100\n",
      "79/79 [==============================] - 0s 2ms/step - loss: 0.6951 - accuracy: 0.5100 - val_loss: 0.6947 - val_accuracy: 0.5056\n",
      "Epoch 89/100\n",
      "79/79 [==============================] - 0s 2ms/step - loss: 0.6955 - accuracy: 0.5020 - val_loss: 0.6944 - val_accuracy: 0.5108\n",
      "Epoch 90/100\n",
      "79/79 [==============================] - 0s 2ms/step - loss: 0.6958 - accuracy: 0.5068 - val_loss: 0.6942 - val_accuracy: 0.5004\n",
      "Epoch 91/100\n",
      "79/79 [==============================] - 0s 2ms/step - loss: 0.6962 - accuracy: 0.4928 - val_loss: 0.6934 - val_accuracy: 0.5176\n",
      "Epoch 92/100\n",
      "79/79 [==============================] - 0s 2ms/step - loss: 0.6953 - accuracy: 0.4892 - val_loss: 0.6946 - val_accuracy: 0.5160\n",
      "Epoch 93/100\n",
      "79/79 [==============================] - 0s 2ms/step - loss: 0.6950 - accuracy: 0.5016 - val_loss: 0.6948 - val_accuracy: 0.5020\n",
      "Epoch 94/100\n",
      "79/79 [==============================] - 0s 2ms/step - loss: 0.6952 - accuracy: 0.5224 - val_loss: 0.6949 - val_accuracy: 0.5056\n",
      "Epoch 95/100\n",
      "79/79 [==============================] - 0s 2ms/step - loss: 0.6958 - accuracy: 0.4904 - val_loss: 0.6953 - val_accuracy: 0.5044\n",
      "Epoch 96/100\n",
      "79/79 [==============================] - 0s 2ms/step - loss: 0.6947 - accuracy: 0.5108 - val_loss: 0.6944 - val_accuracy: 0.5212\n",
      "Epoch 97/100\n",
      "79/79 [==============================] - 0s 2ms/step - loss: 0.6951 - accuracy: 0.5056 - val_loss: 0.6952 - val_accuracy: 0.5012\n",
      "Epoch 98/100\n",
      "79/79 [==============================] - 0s 2ms/step - loss: 0.6956 - accuracy: 0.4952 - val_loss: 0.6946 - val_accuracy: 0.5112\n",
      "Epoch 99/100\n",
      "79/79 [==============================] - 0s 2ms/step - loss: 0.6948 - accuracy: 0.5000 - val_loss: 0.6940 - val_accuracy: 0.5076\n",
      "Epoch 100/100\n",
      "79/79 [==============================] - 0s 2ms/step - loss: 0.6950 - accuracy: 0.5028 - val_loss: 0.6947 - val_accuracy: 0.4940\n"
     ]
    }
   ],
   "source": [
    "# train the model\n",
    "r = model.fit(X, Y,\n",
    "             epochs=100,\n",
    "             validation_split=0.5)"
   ]
  },
  {
   "cell_type": "code",
   "execution_count": 12,
   "id": "348ec695",
   "metadata": {},
   "outputs": [
    {
     "data": {
      "text/plain": [
       "<matplotlib.legend.Legend at 0x7f94619ae670>"
      ]
     },
     "execution_count": 12,
     "metadata": {},
     "output_type": "execute_result"
    },
    {
     "data": {
      "image/png": "[encoded data removed]",
      "text/plain": [
       "<Figure size 432x288 with 1 Axes>"
      ]
     },
     "metadata": {
      "needs_background": "light"
     },
     "output_type": "display_data"
    }
   ],
   "source": [
    "# Plot the loss\n",
    "plt.plot(r.history['loss'], label='loss')\n",
    "plt.plot(r.history['val_loss'], label='val_loss')\n",
    "plt.legend()"
   ]
  },
  {
   "cell_type": "code",
   "execution_count": 13,
   "id": "3a325771",
   "metadata": {},
   "outputs": [
    {
     "data": {
      "text/plain": [
       "<matplotlib.legend.Legend at 0x7f9460894fa0>"
      ]
     },
     "execution_count": 13,
     "metadata": {},
     "output_type": "execute_result"
    },
    {
     "data": {
      "image/png": "[encoded data removed]",
      "text/plain": [
       "<Figure size 432x288 with 1 Axes>"
      ]
     },
     "metadata": {
      "needs_background": "light"
     },
     "output_type": "display_data"
    }
   ],
   "source": [
    "# Plot the accuracy too - should be around 50%\n",
    "plt.plot(r.history['accuracy'], label='acc')\n",
    "plt.plot(r.history['val_accuracy'], label='val_acc')\n",
    "plt.legend()"
   ]
  },
  {
   "cell_type": "markdown",
   "id": "8e498ea1",
   "metadata": {},
   "source": [
    "### 1.2. Try a simple RNN / LSTM / GRU"
   ]
  },
  {
   "cell_type": "code",
   "execution_count": 34,
   "id": "467cf7a6",
   "metadata": {},
   "outputs": [],
   "source": [
    "inputs = np.expand_dims(X, -1)"
   ]
  },
  {
   "cell_type": "code",
   "execution_count": 35,
   "id": "48ec1200",
   "metadata": {},
   "outputs": [
    {
     "data": {
      "text/plain": [
       "((5000, 10, 1), (5000, 10))"
      ]
     },
     "execution_count": 35,
     "metadata": {},
     "output_type": "execute_result"
    }
   ],
   "source": [
    "inputs.shape, X.shape"
   ]
  },
  {
   "cell_type": "code",
   "execution_count": 54,
   "id": "afda1861",
   "metadata": {},
   "outputs": [],
   "source": [
    "# make the RNN\n",
    "i = Input(shape=(T, D))\n",
    "\n",
    "# method 1\n",
    "x = LSTM(5)(i)\n",
    "# x = SimpleRNN(5)(i)\n",
    "# x = GRU(5)(i)\n",
    "\n",
    "# method 2\n",
    "# x = LSTM(5, return_sequences=True)(i)\n",
    "# x = GlobalMaxPool1D()(x)\n",
    "\n",
    "x = Dense(1, activation='sigmoid')(x)\n",
    "\n",
    "model = Model(i, x)"
   ]
  },
  {
   "cell_type": "code",
   "execution_count": 59,
   "id": "ee894b56",
   "metadata": {},
   "outputs": [],
   "source": [
    "# compile\n",
    "model.compile(loss='binary_crossentropy',\n",
    "#             optimizer='rmsprop',\n",
    "            # optimizer='adam',\n",
    "            optimizer=Adam(learning_rate=0.01),\n",
    "#             optimizer=SGD(learning_rate=0.1, momentum=0.9),\n",
    "            metrics=['accuracy'],)"
   ]
  },
  {
   "cell_type": "code",
   "execution_count": 60,
   "id": "aec00977",
   "metadata": {
    "scrolled": true
   },
   "outputs": [
    {
     "name": "stdout",
     "output_type": "stream",
     "text": [
      "Epoch 1/200\n",
      "79/79 [==============================] - 3s 15ms/step - loss: 0.6956 - accuracy: 0.5368 - val_loss: 0.6928 - val_accuracy: 0.5636\n",
      "Epoch 2/200\n",
      "79/79 [==============================] - 1s 10ms/step - loss: 0.6914 - accuracy: 0.5476 - val_loss: 0.6916 - val_accuracy: 0.5072\n",
      "Epoch 3/200\n",
      "79/79 [==============================] - 1s 9ms/step - loss: 0.6754 - accuracy: 0.5816 - val_loss: 0.6420 - val_accuracy: 0.6532\n",
      "Epoch 4/200\n",
      "79/79 [==============================] - 1s 10ms/step - loss: 0.5231 - accuracy: 0.7704 - val_loss: 0.4048 - val_accuracy: 0.8564\n",
      "Epoch 5/200\n",
      "79/79 [==============================] - 1s 10ms/step - loss: 0.3068 - accuracy: 0.9048 - val_loss: 0.2286 - val_accuracy: 0.9320\n",
      "Epoch 6/200\n",
      "79/79 [==============================] - 1s 10ms/step - loss: 0.1992 - accuracy: 0.9372 - val_loss: 0.1654 - val_accuracy: 0.9512\n",
      "Epoch 7/200\n",
      "79/79 [==============================] - 1s 10ms/step - loss: 0.1479 - accuracy: 0.9584 - val_loss: 0.1283 - val_accuracy: 0.9612\n",
      "Epoch 8/200\n",
      "79/79 [==============================] - 1s 10ms/step - loss: 0.1199 - accuracy: 0.9632 - val_loss: 0.1006 - val_accuracy: 0.9736\n",
      "Epoch 9/200\n",
      "79/79 [==============================] - 1s 9ms/step - loss: 0.0976 - accuracy: 0.9744 - val_loss: 0.0852 - val_accuracy: 0.9788\n",
      "Epoch 10/200\n",
      "79/79 [==============================] - 1s 9ms/step - loss: 0.0869 - accuracy: 0.9764 - val_loss: 0.0846 - val_accuracy: 0.9720\n",
      "Epoch 11/200\n",
      "79/79 [==============================] - 1s 10ms/step - loss: 0.0759 - accuracy: 0.9792 - val_loss: 0.0715 - val_accuracy: 0.9796\n",
      "Epoch 12/200\n",
      "79/79 [==============================] - 1s 10ms/step - loss: 0.0695 - accuracy: 0.9800 - val_loss: 0.0653 - val_accuracy: 0.9812\n",
      "Epoch 13/200\n",
      "79/79 [==============================] - 1s 10ms/step - loss: 0.0618 - accuracy: 0.9840 - val_loss: 0.0643 - val_accuracy: 0.9804\n",
      "Epoch 14/200\n",
      "79/79 [==============================] - 1s 10ms/step - loss: 0.0575 - accuracy: 0.9824 - val_loss: 0.0555 - val_accuracy: 0.9856\n",
      "Epoch 15/200\n",
      "79/79 [==============================] - 1s 10ms/step - loss: 0.0548 - accuracy: 0.9852 - val_loss: 0.0545 - val_accuracy: 0.9848\n",
      "Epoch 16/200\n",
      "79/79 [==============================] - 1s 10ms/step - loss: 0.0623 - accuracy: 0.9788 - val_loss: 0.0519 - val_accuracy: 0.9852\n",
      "Epoch 17/200\n",
      "79/79 [==============================] - 1s 9ms/step - loss: 0.0462 - accuracy: 0.9868 - val_loss: 0.0488 - val_accuracy: 0.9864\n",
      "Epoch 18/200\n",
      "79/79 [==============================] - 1s 9ms/step - loss: 0.0441 - accuracy: 0.9896 - val_loss: 0.0515 - val_accuracy: 0.9856\n",
      "Epoch 19/200\n",
      "79/79 [==============================] - 1s 9ms/step - loss: 0.0400 - accuracy: 0.9920 - val_loss: 0.0400 - val_accuracy: 0.9888\n",
      "Epoch 20/200\n",
      "79/79 [==============================] - 1s 10ms/step - loss: 0.0409 - accuracy: 0.9864 - val_loss: 0.0472 - val_accuracy: 0.9844\n",
      "Epoch 21/200\n",
      "79/79 [==============================] - 1s 9ms/step - loss: 0.0396 - accuracy: 0.9888 - val_loss: 0.0455 - val_accuracy: 0.9852\n",
      "Epoch 22/200\n",
      "79/79 [==============================] - 1s 9ms/step - loss: 0.0345 - accuracy: 0.9888 - val_loss: 0.0430 - val_accuracy: 0.9844\n",
      "Epoch 23/200\n",
      "79/79 [==============================] - 1s 10ms/step - loss: 0.0338 - accuracy: 0.9900 - val_loss: 0.0439 - val_accuracy: 0.9860\n",
      "Epoch 24/200\n",
      "79/79 [==============================] - 1s 9ms/step - loss: 0.0329 - accuracy: 0.9884 - val_loss: 0.0393 - val_accuracy: 0.9880\n",
      "Epoch 25/200\n",
      "79/79 [==============================] - 1s 9ms/step - loss: 0.0288 - accuracy: 0.9932 - val_loss: 0.0365 - val_accuracy: 0.9884\n",
      "Epoch 26/200\n",
      "79/79 [==============================] - 1s 9ms/step - loss: 0.0310 - accuracy: 0.9920 - val_loss: 0.0433 - val_accuracy: 0.9868\n",
      "Epoch 27/200\n",
      "79/79 [==============================] - 1s 9ms/step - loss: 0.0337 - accuracy: 0.9892 - val_loss: 0.0358 - val_accuracy: 0.9868\n",
      "Epoch 28/200\n",
      "79/79 [==============================] - 1s 10ms/step - loss: 0.0279 - accuracy: 0.9920 - val_loss: 0.0397 - val_accuracy: 0.9848\n",
      "Epoch 29/200\n",
      "79/79 [==============================] - 1s 10ms/step - loss: 0.0305 - accuracy: 0.9924 - val_loss: 0.0317 - val_accuracy: 0.9904\n",
      "Epoch 30/200\n",
      "79/79 [==============================] - 1s 10ms/step - loss: 0.0255 - accuracy: 0.9932 - val_loss: 0.0335 - val_accuracy: 0.9904\n",
      "Epoch 31/200\n",
      "79/79 [==============================] - 1s 9ms/step - loss: 0.0242 - accuracy: 0.9936 - val_loss: 0.0320 - val_accuracy: 0.9904\n",
      "Epoch 32/200\n",
      "79/79 [==============================] - 1s 9ms/step - loss: 0.0233 - accuracy: 0.9940 - val_loss: 0.0311 - val_accuracy: 0.9896\n",
      "Epoch 33/200\n",
      "79/79 [==============================] - 1s 10ms/step - loss: 0.0237 - accuracy: 0.9944 - val_loss: 0.0350 - val_accuracy: 0.9896\n",
      "Epoch 34/200\n",
      "79/79 [==============================] - 1s 9ms/step - loss: 0.0231 - accuracy: 0.9924 - val_loss: 0.0288 - val_accuracy: 0.9932\n",
      "Epoch 35/200\n",
      "79/79 [==============================] - 1s 10ms/step - loss: 0.0217 - accuracy: 0.9948 - val_loss: 0.0391 - val_accuracy: 0.9884\n",
      "Epoch 36/200\n",
      "79/79 [==============================] - 1s 9ms/step - loss: 0.0221 - accuracy: 0.9936 - val_loss: 0.0404 - val_accuracy: 0.9884\n",
      "Epoch 37/200\n",
      "79/79 [==============================] - 1s 10ms/step - loss: 0.0216 - accuracy: 0.9916 - val_loss: 0.0299 - val_accuracy: 0.9908\n",
      "Epoch 38/200\n",
      "79/79 [==============================] - 1s 10ms/step - loss: 0.0206 - accuracy: 0.9940 - val_loss: 0.0355 - val_accuracy: 0.9884\n",
      "Epoch 39/200\n",
      "79/79 [==============================] - 1s 9ms/step - loss: 0.0180 - accuracy: 0.9960 - val_loss: 0.0303 - val_accuracy: 0.9920\n",
      "Epoch 40/200\n",
      "79/79 [==============================] - 1s 9ms/step - loss: 0.0168 - accuracy: 0.9964 - val_loss: 0.0321 - val_accuracy: 0.9888\n",
      "Epoch 41/200\n",
      "79/79 [==============================] - 1s 9ms/step - loss: 0.0178 - accuracy: 0.9952 - val_loss: 0.0277 - val_accuracy: 0.9920\n",
      "Epoch 42/200\n",
      "79/79 [==============================] - 1s 8ms/step - loss: 0.0163 - accuracy: 0.9960 - val_loss: 0.0261 - val_accuracy: 0.9908\n",
      "Epoch 43/200\n",
      "79/79 [==============================] - 1s 9ms/step - loss: 0.0225 - accuracy: 0.9932 - val_loss: 0.0358 - val_accuracy: 0.9888\n",
      "Epoch 44/200\n",
      "79/79 [==============================] - 1s 8ms/step - loss: 0.0182 - accuracy: 0.9952 - val_loss: 0.0259 - val_accuracy: 0.9940\n",
      "Epoch 45/200\n",
      "79/79 [==============================] - 1s 8ms/step - loss: 0.0178 - accuracy: 0.9948 - val_loss: 0.0355 - val_accuracy: 0.9888\n",
      "Epoch 46/200\n",
      "79/79 [==============================] - 1s 8ms/step - loss: 0.0156 - accuracy: 0.9956 - val_loss: 0.0328 - val_accuracy: 0.9908\n",
      "Epoch 47/200\n",
      "79/79 [==============================] - 1s 8ms/step - loss: 0.0156 - accuracy: 0.9952 - val_loss: 0.0261 - val_accuracy: 0.9932\n",
      "Epoch 48/200\n",
      "79/79 [==============================] - 1s 9ms/step - loss: 0.0143 - accuracy: 0.9968 - val_loss: 0.0330 - val_accuracy: 0.9892\n",
      "Epoch 49/200\n",
      "79/79 [==============================] - 1s 8ms/step - loss: 0.0167 - accuracy: 0.9952 - val_loss: 0.0271 - val_accuracy: 0.9916\n",
      "Epoch 50/200\n",
      "79/79 [==============================] - 1s 8ms/step - loss: 0.0151 - accuracy: 0.9956 - val_loss: 0.0426 - val_accuracy: 0.9892\n",
      "Epoch 51/200\n",
      "79/79 [==============================] - 1s 8ms/step - loss: 0.0154 - accuracy: 0.9952 - val_loss: 0.0306 - val_accuracy: 0.9900\n",
      "Epoch 52/200\n",
      "79/79 [==============================] - 1s 9ms/step - loss: 0.0121 - accuracy: 0.9972 - val_loss: 0.0294 - val_accuracy: 0.9912\n",
      "Epoch 53/200\n",
      "79/79 [==============================] - 1s 8ms/step - loss: 0.0133 - accuracy: 0.9956 - val_loss: 0.0443 - val_accuracy: 0.9880\n",
      "Epoch 54/200\n",
      "79/79 [==============================] - 1s 8ms/step - loss: 0.0198 - accuracy: 0.9924 - val_loss: 0.0312 - val_accuracy: 0.9916\n",
      "Epoch 55/200\n",
      "79/79 [==============================] - 1s 8ms/step - loss: 0.0147 - accuracy: 0.9952 - val_loss: 0.0686 - val_accuracy: 0.9848\n",
      "Epoch 56/200\n",
      "79/79 [==============================] - 1s 8ms/step - loss: 0.0361 - accuracy: 0.9900 - val_loss: 0.0325 - val_accuracy: 0.9928\n",
      "Epoch 57/200\n",
      "79/79 [==============================] - 1s 9ms/step - loss: 0.0143 - accuracy: 0.9960 - val_loss: 0.0273 - val_accuracy: 0.9936\n",
      "Epoch 58/200\n"
     ]
    },
    {
     "name": "stdout",
     "output_type": "stream",
     "text": [
      "79/79 [==============================] - 1s 9ms/step - loss: 0.0117 - accuracy: 0.9980 - val_loss: 0.0271 - val_accuracy: 0.9936\n",
      "Epoch 59/200\n",
      "79/79 [==============================] - 1s 8ms/step - loss: 0.0104 - accuracy: 0.9980 - val_loss: 0.0235 - val_accuracy: 0.9944\n",
      "Epoch 60/200\n",
      "79/79 [==============================] - 1s 9ms/step - loss: 0.0098 - accuracy: 0.9980 - val_loss: 0.0303 - val_accuracy: 0.9924\n",
      "Epoch 61/200\n",
      "79/79 [==============================] - 1s 9ms/step - loss: 0.0156 - accuracy: 0.9928 - val_loss: 0.0276 - val_accuracy: 0.9924\n",
      "Epoch 62/200\n",
      "79/79 [==============================] - 1s 9ms/step - loss: 0.0110 - accuracy: 0.9972 - val_loss: 0.0323 - val_accuracy: 0.9916\n",
      "Epoch 63/200\n",
      "79/79 [==============================] - 1s 9ms/step - loss: 0.0148 - accuracy: 0.9952 - val_loss: 0.0270 - val_accuracy: 0.9924\n",
      "Epoch 64/200\n",
      "79/79 [==============================] - 1s 9ms/step - loss: 0.0091 - accuracy: 0.9984 - val_loss: 0.0297 - val_accuracy: 0.9920\n",
      "Epoch 65/200\n",
      "79/79 [==============================] - 1s 9ms/step - loss: 0.0109 - accuracy: 0.9976 - val_loss: 0.0310 - val_accuracy: 0.9924\n",
      "Epoch 66/200\n",
      "79/79 [==============================] - 1s 9ms/step - loss: 0.0086 - accuracy: 0.9984 - val_loss: 0.0284 - val_accuracy: 0.9928\n",
      "Epoch 67/200\n",
      "79/79 [==============================] - 1s 9ms/step - loss: 0.0122 - accuracy: 0.9964 - val_loss: 0.0295 - val_accuracy: 0.9924\n",
      "Epoch 68/200\n",
      "79/79 [==============================] - 1s 9ms/step - loss: 0.0124 - accuracy: 0.9944 - val_loss: 0.0314 - val_accuracy: 0.9924\n",
      "Epoch 69/200\n",
      "79/79 [==============================] - 1s 8ms/step - loss: 0.0089 - accuracy: 0.9972 - val_loss: 0.0463 - val_accuracy: 0.9876\n",
      "Epoch 70/200\n",
      "79/79 [==============================] - 1s 9ms/step - loss: 0.0170 - accuracy: 0.9952 - val_loss: 0.0284 - val_accuracy: 0.9920\n",
      "Epoch 71/200\n",
      "79/79 [==============================] - 1s 9ms/step - loss: 0.0117 - accuracy: 0.9956 - val_loss: 0.0298 - val_accuracy: 0.9916\n",
      "Epoch 72/200\n",
      "79/79 [==============================] - 1s 8ms/step - loss: 0.0079 - accuracy: 0.9984 - val_loss: 0.0246 - val_accuracy: 0.9936\n",
      "Epoch 73/200\n",
      "79/79 [==============================] - 1s 9ms/step - loss: 0.0069 - accuracy: 0.9984 - val_loss: 0.0281 - val_accuracy: 0.9924\n",
      "Epoch 74/200\n",
      "79/79 [==============================] - 1s 9ms/step - loss: 0.0076 - accuracy: 0.9980 - val_loss: 0.0276 - val_accuracy: 0.9928\n",
      "Epoch 75/200\n",
      "79/79 [==============================] - 1s 8ms/step - loss: 0.0079 - accuracy: 0.9980 - val_loss: 0.0269 - val_accuracy: 0.9924\n",
      "Epoch 76/200\n",
      "79/79 [==============================] - 1s 8ms/step - loss: 0.0077 - accuracy: 0.9976 - val_loss: 0.0316 - val_accuracy: 0.9928\n",
      "Epoch 77/200\n",
      "79/79 [==============================] - 1s 9ms/step - loss: 0.0067 - accuracy: 0.9984 - val_loss: 0.0232 - val_accuracy: 0.9944\n",
      "Epoch 78/200\n",
      "79/79 [==============================] - 1s 8ms/step - loss: 0.0076 - accuracy: 0.9972 - val_loss: 0.0245 - val_accuracy: 0.9948\n",
      "Epoch 79/200\n",
      "79/79 [==============================] - 1s 8ms/step - loss: 0.0090 - accuracy: 0.9976 - val_loss: 0.0270 - val_accuracy: 0.9932\n",
      "Epoch 80/200\n",
      "79/79 [==============================] - 1s 9ms/step - loss: 0.0066 - accuracy: 0.9988 - val_loss: 0.0239 - val_accuracy: 0.9940\n",
      "Epoch 81/200\n",
      "79/79 [==============================] - 1s 9ms/step - loss: 0.0059 - accuracy: 0.9996 - val_loss: 0.0293 - val_accuracy: 0.9932\n",
      "Epoch 82/200\n",
      "79/79 [==============================] - 1s 8ms/step - loss: 0.0086 - accuracy: 0.9976 - val_loss: 0.0293 - val_accuracy: 0.9928\n",
      "Epoch 83/200\n",
      "79/79 [==============================] - 1s 8ms/step - loss: 0.0151 - accuracy: 0.9960 - val_loss: 0.0353 - val_accuracy: 0.9924\n",
      "Epoch 84/200\n",
      "79/79 [==============================] - 1s 9ms/step - loss: 0.0127 - accuracy: 0.9972 - val_loss: 0.0420 - val_accuracy: 0.9928\n",
      "Epoch 85/200\n",
      "79/79 [==============================] - 1s 9ms/step - loss: 0.0088 - accuracy: 0.9968 - val_loss: 0.0330 - val_accuracy: 0.9932\n",
      "Epoch 86/200\n",
      "79/79 [==============================] - 1s 8ms/step - loss: 0.0088 - accuracy: 0.9980 - val_loss: 0.0299 - val_accuracy: 0.9940\n",
      "Epoch 87/200\n",
      "79/79 [==============================] - 1s 9ms/step - loss: 0.0054 - accuracy: 0.9992 - val_loss: 0.0286 - val_accuracy: 0.9924\n",
      "Epoch 88/200\n",
      "79/79 [==============================] - 1s 8ms/step - loss: 0.0052 - accuracy: 0.9996 - val_loss: 0.0303 - val_accuracy: 0.9928\n",
      "Epoch 89/200\n",
      "79/79 [==============================] - 1s 9ms/step - loss: 0.0053 - accuracy: 0.9992 - val_loss: 0.0275 - val_accuracy: 0.9932\n",
      "Epoch 90/200\n",
      "79/79 [==============================] - 1s 9ms/step - loss: 0.0134 - accuracy: 0.9964 - val_loss: 0.0596 - val_accuracy: 0.9868\n",
      "Epoch 91/200\n",
      "79/79 [==============================] - 1s 8ms/step - loss: 0.0135 - accuracy: 0.9968 - val_loss: 0.0410 - val_accuracy: 0.9904\n",
      "Epoch 92/200\n",
      "79/79 [==============================] - 1s 9ms/step - loss: 0.0071 - accuracy: 0.9980 - val_loss: 0.0301 - val_accuracy: 0.9920\n",
      "Epoch 93/200\n",
      "79/79 [==============================] - 1s 9ms/step - loss: 0.0056 - accuracy: 0.9988 - val_loss: 0.0280 - val_accuracy: 0.9940\n",
      "Epoch 94/200\n",
      "79/79 [==============================] - 1s 8ms/step - loss: 0.0055 - accuracy: 0.9984 - val_loss: 0.0263 - val_accuracy: 0.9948\n",
      "Epoch 95/200\n",
      "79/79 [==============================] - 1s 8ms/step - loss: 0.0048 - accuracy: 0.9992 - val_loss: 0.0266 - val_accuracy: 0.9936\n",
      "Epoch 96/200\n",
      "79/79 [==============================] - 1s 8ms/step - loss: 0.0048 - accuracy: 0.9992 - val_loss: 0.0301 - val_accuracy: 0.9928\n",
      "Epoch 97/200\n",
      "79/79 [==============================] - 1s 8ms/step - loss: 0.0045 - accuracy: 0.9992 - val_loss: 0.0269 - val_accuracy: 0.9948\n",
      "Epoch 98/200\n",
      "79/79 [==============================] - 1s 8ms/step - loss: 0.0050 - accuracy: 0.9988 - val_loss: 0.0266 - val_accuracy: 0.9944\n",
      "Epoch 99/200\n",
      "79/79 [==============================] - 1s 9ms/step - loss: 0.0042 - accuracy: 0.9996 - val_loss: 0.0303 - val_accuracy: 0.9928\n",
      "Epoch 100/200\n",
      "79/79 [==============================] - 1s 9ms/step - loss: 0.0043 - accuracy: 0.9992 - val_loss: 0.0269 - val_accuracy: 0.9944\n",
      "Epoch 101/200\n",
      "79/79 [==============================] - 1s 8ms/step - loss: 0.0043 - accuracy: 0.9992 - val_loss: 0.0308 - val_accuracy: 0.9932\n",
      "Epoch 102/200\n",
      "79/79 [==============================] - 1s 9ms/step - loss: 0.0054 - accuracy: 0.9976 - val_loss: 0.0263 - val_accuracy: 0.9952\n",
      "Epoch 103/200\n",
      "79/79 [==============================] - 1s 9ms/step - loss: 0.0042 - accuracy: 0.9992 - val_loss: 0.0272 - val_accuracy: 0.9948\n",
      "Epoch 104/200\n",
      "79/79 [==============================] - 1s 9ms/step - loss: 0.0047 - accuracy: 0.9992 - val_loss: 0.0280 - val_accuracy: 0.9944\n",
      "Epoch 105/200\n",
      "79/79 [==============================] - 1s 8ms/step - loss: 0.0046 - accuracy: 0.9988 - val_loss: 0.0347 - val_accuracy: 0.9932\n",
      "Epoch 106/200\n",
      "79/79 [==============================] - 1s 9ms/step - loss: 0.0066 - accuracy: 0.9980 - val_loss: 0.0380 - val_accuracy: 0.9920\n",
      "Epoch 107/200\n",
      "79/79 [==============================] - 1s 9ms/step - loss: 0.0378 - accuracy: 0.9892 - val_loss: 0.0355 - val_accuracy: 0.9924\n",
      "Epoch 108/200\n",
      "79/79 [==============================] - 1s 9ms/step - loss: 0.0101 - accuracy: 0.9968 - val_loss: 0.0366 - val_accuracy: 0.9924\n",
      "Epoch 109/200\n",
      "79/79 [==============================] - 1s 9ms/step - loss: 0.0049 - accuracy: 0.9992 - val_loss: 0.0282 - val_accuracy: 0.9940\n",
      "Epoch 110/200\n",
      "79/79 [==============================] - 1s 9ms/step - loss: 0.0037 - accuracy: 0.9996 - val_loss: 0.0251 - val_accuracy: 0.9948\n",
      "Epoch 111/200\n",
      "79/79 [==============================] - 1s 8ms/step - loss: 0.0033 - accuracy: 0.9996 - val_loss: 0.0261 - val_accuracy: 0.9936\n",
      "Epoch 112/200\n",
      "79/79 [==============================] - 1s 8ms/step - loss: 0.0077 - accuracy: 0.9964 - val_loss: 0.0279 - val_accuracy: 0.9936\n",
      "Epoch 113/200\n",
      "79/79 [==============================] - 1s 8ms/step - loss: 0.0101 - accuracy: 0.9956 - val_loss: 0.0395 - val_accuracy: 0.9920\n",
      "Epoch 114/200\n",
      "79/79 [==============================] - 1s 8ms/step - loss: 0.0048 - accuracy: 0.9988 - val_loss: 0.0243 - val_accuracy: 0.9940\n",
      "Epoch 115/200\n"
     ]
    },
    {
     "name": "stdout",
     "output_type": "stream",
     "text": [
      "79/79 [==============================] - 1s 9ms/step - loss: 0.0035 - accuracy: 0.9996 - val_loss: 0.0269 - val_accuracy: 0.9932\n",
      "Epoch 116/200\n",
      "79/79 [==============================] - 1s 8ms/step - loss: 0.0035 - accuracy: 0.9992 - val_loss: 0.0239 - val_accuracy: 0.9944\n",
      "Epoch 117/200\n",
      "79/79 [==============================] - 1s 9ms/step - loss: 0.0033 - accuracy: 0.9996 - val_loss: 0.0278 - val_accuracy: 0.9924\n",
      "Epoch 118/200\n",
      "79/79 [==============================] - 1s 9ms/step - loss: 0.0058 - accuracy: 0.9976 - val_loss: 0.0237 - val_accuracy: 0.9940\n",
      "Epoch 119/200\n",
      "79/79 [==============================] - 1s 9ms/step - loss: 0.0032 - accuracy: 0.9996 - val_loss: 0.0260 - val_accuracy: 0.9944\n",
      "Epoch 120/200\n",
      "79/79 [==============================] - 1s 8ms/step - loss: 0.0027 - accuracy: 0.9992 - val_loss: 0.0281 - val_accuracy: 0.9936\n",
      "Epoch 121/200\n",
      "79/79 [==============================] - 1s 8ms/step - loss: 0.0030 - accuracy: 0.9996 - val_loss: 0.0270 - val_accuracy: 0.9940\n",
      "Epoch 122/200\n",
      "79/79 [==============================] - 1s 9ms/step - loss: 0.0029 - accuracy: 1.0000 - val_loss: 0.0339 - val_accuracy: 0.9924\n",
      "Epoch 123/200\n",
      "79/79 [==============================] - 1s 8ms/step - loss: 0.0034 - accuracy: 0.9992 - val_loss: 0.0280 - val_accuracy: 0.9936\n",
      "Epoch 124/200\n",
      "79/79 [==============================] - 1s 9ms/step - loss: 0.0033 - accuracy: 0.9992 - val_loss: 0.0278 - val_accuracy: 0.9944\n",
      "Epoch 125/200\n",
      "79/79 [==============================] - 1s 8ms/step - loss: 0.0032 - accuracy: 0.9992 - val_loss: 0.0293 - val_accuracy: 0.9940\n",
      "Epoch 126/200\n",
      "79/79 [==============================] - 1s 9ms/step - loss: 0.0030 - accuracy: 0.9996 - val_loss: 0.0250 - val_accuracy: 0.9944\n",
      "Epoch 127/200\n",
      "79/79 [==============================] - 1s 8ms/step - loss: 0.0035 - accuracy: 0.9984 - val_loss: 0.0278 - val_accuracy: 0.9940\n",
      "Epoch 128/200\n",
      "79/79 [==============================] - 1s 8ms/step - loss: 0.0032 - accuracy: 0.9992 - val_loss: 0.0284 - val_accuracy: 0.9944\n",
      "Epoch 129/200\n",
      "79/79 [==============================] - 1s 8ms/step - loss: 0.0036 - accuracy: 0.9992 - val_loss: 0.0292 - val_accuracy: 0.9936\n",
      "Epoch 130/200\n",
      "79/79 [==============================] - 1s 8ms/step - loss: 0.0024 - accuracy: 0.9996 - val_loss: 0.0292 - val_accuracy: 0.9936\n",
      "Epoch 131/200\n",
      "79/79 [==============================] - 1s 8ms/step - loss: 0.0032 - accuracy: 0.9992 - val_loss: 0.0270 - val_accuracy: 0.9944\n",
      "Epoch 132/200\n",
      "79/79 [==============================] - 1s 8ms/step - loss: 0.0047 - accuracy: 0.9984 - val_loss: 0.0371 - val_accuracy: 0.9928\n",
      "Epoch 133/200\n",
      "79/79 [==============================] - 1s 9ms/step - loss: 0.0141 - accuracy: 0.9956 - val_loss: 0.0348 - val_accuracy: 0.9944\n",
      "Epoch 134/200\n",
      "79/79 [==============================] - 1s 9ms/step - loss: 0.0125 - accuracy: 0.9964 - val_loss: 0.0283 - val_accuracy: 0.9944\n",
      "Epoch 135/200\n",
      "79/79 [==============================] - 1s 9ms/step - loss: 0.0054 - accuracy: 0.9984 - val_loss: 0.0275 - val_accuracy: 0.9932\n",
      "Epoch 136/200\n",
      "79/79 [==============================] - 1s 9ms/step - loss: 0.0033 - accuracy: 0.9988 - val_loss: 0.0217 - val_accuracy: 0.9964\n",
      "Epoch 137/200\n",
      "79/79 [==============================] - 1s 8ms/step - loss: 0.0026 - accuracy: 0.9996 - val_loss: 0.0229 - val_accuracy: 0.9956\n",
      "Epoch 138/200\n",
      "79/79 [==============================] - 1s 8ms/step - loss: 0.0026 - accuracy: 0.9996 - val_loss: 0.0248 - val_accuracy: 0.9948\n",
      "Epoch 139/200\n",
      "79/79 [==============================] - 1s 8ms/step - loss: 0.0024 - accuracy: 0.9996 - val_loss: 0.0250 - val_accuracy: 0.9948\n",
      "Epoch 140/200\n",
      "79/79 [==============================] - 1s 9ms/step - loss: 0.0027 - accuracy: 0.9996 - val_loss: 0.0261 - val_accuracy: 0.9948\n",
      "Epoch 141/200\n",
      "79/79 [==============================] - 1s 8ms/step - loss: 0.0024 - accuracy: 0.9996 - val_loss: 0.0258 - val_accuracy: 0.9952\n",
      "Epoch 142/200\n",
      "79/79 [==============================] - 1s 8ms/step - loss: 0.0072 - accuracy: 0.9984 - val_loss: 0.0639 - val_accuracy: 0.9868\n",
      "Epoch 143/200\n",
      "79/79 [==============================] - 1s 8ms/step - loss: 0.0152 - accuracy: 0.9952 - val_loss: 0.0362 - val_accuracy: 0.9908\n",
      "Epoch 144/200\n",
      "79/79 [==============================] - 1s 8ms/step - loss: 0.0044 - accuracy: 0.9972 - val_loss: 0.0383 - val_accuracy: 0.9912\n",
      "Epoch 145/200\n",
      "79/79 [==============================] - 1s 9ms/step - loss: 0.0045 - accuracy: 0.9980 - val_loss: 0.0335 - val_accuracy: 0.9920\n",
      "Epoch 146/200\n",
      "79/79 [==============================] - 1s 9ms/step - loss: 0.0032 - accuracy: 0.9992 - val_loss: 0.0322 - val_accuracy: 0.9932\n",
      "Epoch 147/200\n",
      "79/79 [==============================] - 1s 8ms/step - loss: 0.0019 - accuracy: 0.9996 - val_loss: 0.0345 - val_accuracy: 0.9932\n",
      "Epoch 148/200\n",
      "79/79 [==============================] - 1s 9ms/step - loss: 0.0021 - accuracy: 1.0000 - val_loss: 0.0337 - val_accuracy: 0.9928\n",
      "Epoch 149/200\n",
      "79/79 [==============================] - 1s 9ms/step - loss: 0.0018 - accuracy: 1.0000 - val_loss: 0.0293 - val_accuracy: 0.9940\n",
      "Epoch 150/200\n",
      "79/79 [==============================] - 1s 9ms/step - loss: 0.0023 - accuracy: 0.9992 - val_loss: 0.0312 - val_accuracy: 0.9940\n",
      "Epoch 151/200\n",
      "79/79 [==============================] - 1s 9ms/step - loss: 0.0019 - accuracy: 0.9996 - val_loss: 0.0314 - val_accuracy: 0.9940\n",
      "Epoch 152/200\n",
      "79/79 [==============================] - 1s 9ms/step - loss: 0.0022 - accuracy: 0.9992 - val_loss: 0.0328 - val_accuracy: 0.9932\n",
      "Epoch 153/200\n",
      "79/79 [==============================] - 1s 9ms/step - loss: 0.0020 - accuracy: 0.9996 - val_loss: 0.0287 - val_accuracy: 0.9940\n",
      "Epoch 154/200\n",
      "79/79 [==============================] - 1s 8ms/step - loss: 0.0016 - accuracy: 1.0000 - val_loss: 0.0358 - val_accuracy: 0.9928\n",
      "Epoch 155/200\n",
      "79/79 [==============================] - 1s 8ms/step - loss: 0.0021 - accuracy: 0.9996 - val_loss: 0.0346 - val_accuracy: 0.9940\n",
      "Epoch 156/200\n",
      "79/79 [==============================] - 1s 9ms/step - loss: 0.0031 - accuracy: 0.9992 - val_loss: 0.0305 - val_accuracy: 0.9936\n",
      "Epoch 157/200\n",
      "79/79 [==============================] - 1s 9ms/step - loss: 0.0088 - accuracy: 0.9984 - val_loss: 0.0340 - val_accuracy: 0.9932\n",
      "Epoch 158/200\n",
      "79/79 [==============================] - 1s 8ms/step - loss: 0.0096 - accuracy: 0.9980 - val_loss: 0.0303 - val_accuracy: 0.9932\n",
      "Epoch 159/200\n",
      "79/79 [==============================] - 1s 9ms/step - loss: 0.0044 - accuracy: 0.9984 - val_loss: 0.0427 - val_accuracy: 0.9916\n",
      "Epoch 160/200\n",
      "79/79 [==============================] - 1s 8ms/step - loss: 0.0149 - accuracy: 0.9948 - val_loss: 0.0358 - val_accuracy: 0.9908\n",
      "Epoch 161/200\n",
      "79/79 [==============================] - 1s 8ms/step - loss: 0.0198 - accuracy: 0.9932 - val_loss: 0.0412 - val_accuracy: 0.9908\n",
      "Epoch 162/200\n",
      "79/79 [==============================] - 1s 9ms/step - loss: 0.0046 - accuracy: 0.9984 - val_loss: 0.0285 - val_accuracy: 0.9928\n",
      "Epoch 163/200\n",
      "79/79 [==============================] - 1s 9ms/step - loss: 0.0032 - accuracy: 0.9988 - val_loss: 0.0234 - val_accuracy: 0.9932\n",
      "Epoch 164/200\n",
      "79/79 [==============================] - 1s 8ms/step - loss: 0.0022 - accuracy: 0.9996 - val_loss: 0.0214 - val_accuracy: 0.9956\n",
      "Epoch 165/200\n",
      "79/79 [==============================] - 1s 9ms/step - loss: 0.0026 - accuracy: 0.9992 - val_loss: 0.0257 - val_accuracy: 0.9940\n",
      "Epoch 166/200\n",
      "79/79 [==============================] - 1s 9ms/step - loss: 0.0022 - accuracy: 1.0000 - val_loss: 0.0229 - val_accuracy: 0.9948\n",
      "Epoch 167/200\n",
      "79/79 [==============================] - 1s 9ms/step - loss: 0.0020 - accuracy: 0.9996 - val_loss: 0.0255 - val_accuracy: 0.9928\n",
      "Epoch 168/200\n",
      "79/79 [==============================] - 1s 9ms/step - loss: 0.0017 - accuracy: 1.0000 - val_loss: 0.0282 - val_accuracy: 0.9928\n",
      "Epoch 169/200\n",
      "79/79 [==============================] - 1s 9ms/step - loss: 0.0018 - accuracy: 0.9996 - val_loss: 0.0281 - val_accuracy: 0.9936\n",
      "Epoch 170/200\n",
      "79/79 [==============================] - 1s 9ms/step - loss: 0.0023 - accuracy: 0.9992 - val_loss: 0.0216 - val_accuracy: 0.9948\n",
      "Epoch 171/200\n",
      "79/79 [==============================] - 1s 9ms/step - loss: 0.0021 - accuracy: 0.9996 - val_loss: 0.0241 - val_accuracy: 0.9940\n",
      "Epoch 172/200\n"
     ]
    },
    {
     "name": "stdout",
     "output_type": "stream",
     "text": [
      "79/79 [==============================] - 1s 10ms/step - loss: 0.0019 - accuracy: 0.9996 - val_loss: 0.0230 - val_accuracy: 0.9948\n",
      "Epoch 173/200\n",
      "79/79 [==============================] - 1s 10ms/step - loss: 0.0017 - accuracy: 0.9996 - val_loss: 0.0197 - val_accuracy: 0.9952\n",
      "Epoch 174/200\n",
      "79/79 [==============================] - 1s 10ms/step - loss: 0.0018 - accuracy: 0.9996 - val_loss: 0.0298 - val_accuracy: 0.9936\n",
      "Epoch 175/200\n",
      "79/79 [==============================] - 1s 9ms/step - loss: 0.0020 - accuracy: 0.9996 - val_loss: 0.0260 - val_accuracy: 0.9952\n",
      "Epoch 176/200\n",
      "79/79 [==============================] - 1s 9ms/step - loss: 0.0017 - accuracy: 0.9996 - val_loss: 0.0276 - val_accuracy: 0.9944\n",
      "Epoch 177/200\n",
      "79/79 [==============================] - 1s 8ms/step - loss: 0.0019 - accuracy: 0.9996 - val_loss: 0.0266 - val_accuracy: 0.9948\n",
      "Epoch 178/200\n",
      "79/79 [==============================] - 1s 9ms/step - loss: 0.0017 - accuracy: 0.9996 - val_loss: 0.0261 - val_accuracy: 0.9948\n",
      "Epoch 179/200\n",
      "79/79 [==============================] - 1s 8ms/step - loss: 0.0018 - accuracy: 0.9992 - val_loss: 0.0214 - val_accuracy: 0.9960\n",
      "Epoch 180/200\n",
      "79/79 [==============================] - 1s 8ms/step - loss: 0.0016 - accuracy: 0.9996 - val_loss: 0.0256 - val_accuracy: 0.9948\n",
      "Epoch 181/200\n",
      "79/79 [==============================] - 1s 9ms/step - loss: 0.0014 - accuracy: 1.0000 - val_loss: 0.0251 - val_accuracy: 0.9944\n",
      "Epoch 182/200\n",
      "79/79 [==============================] - 1s 9ms/step - loss: 0.0013 - accuracy: 1.0000 - val_loss: 0.0259 - val_accuracy: 0.9948\n",
      "Epoch 183/200\n",
      "79/79 [==============================] - 1s 8ms/step - loss: 0.0015 - accuracy: 1.0000 - val_loss: 0.0247 - val_accuracy: 0.9952\n",
      "Epoch 184/200\n",
      "79/79 [==============================] - 1s 8ms/step - loss: 0.0076 - accuracy: 0.9984 - val_loss: 0.0388 - val_accuracy: 0.9920\n",
      "Epoch 185/200\n",
      "79/79 [==============================] - 1s 9ms/step - loss: 0.0081 - accuracy: 0.9976 - val_loss: 0.0358 - val_accuracy: 0.9908\n",
      "Epoch 186/200\n",
      "79/79 [==============================] - 1s 9ms/step - loss: 0.0061 - accuracy: 0.9980 - val_loss: 0.0363 - val_accuracy: 0.9924\n",
      "Epoch 187/200\n",
      "79/79 [==============================] - 1s 9ms/step - loss: 0.0020 - accuracy: 0.9992 - val_loss: 0.0390 - val_accuracy: 0.9924\n",
      "Epoch 188/200\n",
      "79/79 [==============================] - 1s 8ms/step - loss: 0.0040 - accuracy: 0.9984 - val_loss: 0.0425 - val_accuracy: 0.9924\n",
      "Epoch 189/200\n",
      "79/79 [==============================] - 1s 9ms/step - loss: 0.0020 - accuracy: 0.9992 - val_loss: 0.0444 - val_accuracy: 0.9920\n",
      "Epoch 190/200\n",
      "79/79 [==============================] - 1s 9ms/step - loss: 0.0020 - accuracy: 0.9992 - val_loss: 0.0414 - val_accuracy: 0.9924\n",
      "Epoch 191/200\n",
      "79/79 [==============================] - 1s 9ms/step - loss: 0.0014 - accuracy: 0.9996 - val_loss: 0.0354 - val_accuracy: 0.9940\n",
      "Epoch 192/200\n",
      "79/79 [==============================] - 1s 9ms/step - loss: 0.0016 - accuracy: 0.9996 - val_loss: 0.0383 - val_accuracy: 0.9932\n",
      "Epoch 193/200\n",
      "79/79 [==============================] - 1s 8ms/step - loss: 0.0011 - accuracy: 1.0000 - val_loss: 0.0380 - val_accuracy: 0.9932\n",
      "Epoch 194/200\n",
      "79/79 [==============================] - 1s 9ms/step - loss: 0.0011 - accuracy: 1.0000 - val_loss: 0.0365 - val_accuracy: 0.9932\n",
      "Epoch 195/200\n",
      "79/79 [==============================] - 1s 9ms/step - loss: 0.0011 - accuracy: 1.0000 - val_loss: 0.0327 - val_accuracy: 0.9940\n",
      "Epoch 196/200\n",
      "79/79 [==============================] - 1s 8ms/step - loss: 0.0014 - accuracy: 0.9996 - val_loss: 0.0310 - val_accuracy: 0.9936\n",
      "Epoch 197/200\n",
      "79/79 [==============================] - 1s 9ms/step - loss: 0.0055 - accuracy: 0.9992 - val_loss: 0.0393 - val_accuracy: 0.9936\n",
      "Epoch 198/200\n",
      "79/79 [==============================] - 1s 9ms/step - loss: 0.0011 - accuracy: 1.0000 - val_loss: 0.0318 - val_accuracy: 0.9936\n",
      "Epoch 199/200\n",
      "79/79 [==============================] - 1s 9ms/step - loss: 9.6562e-04 - accuracy: 1.0000 - val_loss: 0.0332 - val_accuracy: 0.9936\n",
      "Epoch 200/200\n",
      "79/79 [==============================] - 1s 10ms/step - loss: 8.4043e-04 - accuracy: 1.0000 - val_loss: 0.0357 - val_accuracy: 0.9936\n"
     ]
    }
   ],
   "source": [
    "# train\n",
    "r = model.fit(\n",
    "    inputs, Y,\n",
    "    epochs=200,\n",
    "    validation_split=0.5,\n",
    ")"
   ]
  },
  {
   "cell_type": "code",
   "execution_count": 61,
   "id": "d36a1e79",
   "metadata": {},
   "outputs": [
    {
     "data": {
      "text/plain": [
       "<matplotlib.legend.Legend at 0x7f925bec3a60>"
      ]
     },
     "execution_count": 61,
     "metadata": {},
     "output_type": "execute_result"
    },
    {
     "data": {
      "image/png": "[encoded data removed]",
      "text/plain": [
       "<Figure size 432x288 with 1 Axes>"
      ]
     },
     "metadata": {
      "needs_background": "light"
     },
     "output_type": "display_data"
    }
   ],
   "source": [
    "# Plot the loss\n",
    "plt.plot(r.history['loss'], label='loss')\n",
    "plt.plot(r.history['val_loss'], label='val_loss')\n",
    "plt.legend()"
   ]
  },
  {
   "cell_type": "code",
   "execution_count": 62,
   "id": "ba80f0e0",
   "metadata": {},
   "outputs": [
    {
     "data": {
      "text/plain": [
       "<matplotlib.legend.Legend at 0x7f925beb7fd0>"
      ]
     },
     "execution_count": 62,
     "metadata": {},
     "output_type": "execute_result"
    },
    {
     "data": {
      "image/png": "[encoded data removed]",
      "text/plain": [
       "<Figure size 432x288 with 1 Axes>"
      ]
     },
     "metadata": {
      "needs_background": "light"
     },
     "output_type": "display_data"
    }
   ],
   "source": [
    "# Plot the accuracy too - should be around 50%\n",
    "plt.plot(r.history['accuracy'], label='acc')\n",
    "plt.plot(r.history['val_accuracy'], label='val_acc')\n",
    "plt.legend()"
   ]
  },
  {
   "cell_type": "markdown",
   "id": "b1cad504",
   "metadata": {},
   "source": [
    "## 2. Long distance problem"
   ]
  },
  {
   "cell_type": "code",
   "execution_count": 63,
   "id": "97bf87fe",
   "metadata": {},
   "outputs": [],
   "source": [
    "# nonlinear and long-distance dataset\n",
    "# test long-distance vs. short-distance patterns\n",
    "\n",
    "# start with a small T and increase it later\n",
    "T = 10\n",
    "D = 1\n",
    "X = []\n",
    "Y = []\n"
   ]
  },
  {
   "cell_type": "code",
   "execution_count": 64,
   "id": "d83250ca",
   "metadata": {},
   "outputs": [],
   "source": [
    "def get_label(x, i1, i2, i3):\n",
    "    # x = sequence\n",
    "    if x[i1] < 0 and x[i2] < 0 and x[i3] < 0:\n",
    "        return 1\n",
    "    if x[i1] < 0 and x[i2] > 0 and x[i3] > 0:\n",
    "        return 1\n",
    "    if x[i1] > 0 and x[i2] < 0 and x[i3] > 0:\n",
    "        return 1\n",
    "    if x[i1] > 0 and x[i2] > 0 and x[i3] < 0:\n",
    "        return 1\n",
    "    return 0\n",
    "\n",
    "for t in range(5000):\n",
    "    x = np.random.randn(T)    # generate x\n",
    "    X.append(x)\n",
    "#     y = get_label(x, -1, -2, -3)   # short distance\n",
    "    y = get_label(x, 0, 1, 2)      # long distance\n",
    "    Y.append(y)"
   ]
  },
  {
   "cell_type": "code",
   "execution_count": 65,
   "id": "e99820f2",
   "metadata": {},
   "outputs": [],
   "source": [
    "X = np.array(X)\n",
    "Y = np.array(Y)\n",
    "N = len(X)"
   ]
  },
  {
   "cell_type": "code",
   "execution_count": 66,
   "id": "9732814f",
   "metadata": {},
   "outputs": [
    {
     "data": {
      "text/plain": [
       "((5000, 10), (5000,))"
      ]
     },
     "execution_count": 66,
     "metadata": {},
     "output_type": "execute_result"
    }
   ],
   "source": [
    "X.shape, Y.shape"
   ]
  },
  {
   "cell_type": "markdown",
   "id": "257a805d",
   "metadata": {},
   "source": [
    "### 2.1. Try a simple RNN / LSTM / GRU"
   ]
  },
  {
   "cell_type": "code",
   "execution_count": 67,
   "id": "513c9387",
   "metadata": {},
   "outputs": [],
   "source": [
    "inputs = np.expand_dims(X, -1)"
   ]
  },
  {
   "cell_type": "code",
   "execution_count": 68,
   "id": "4f848195",
   "metadata": {},
   "outputs": [
    {
     "data": {
      "text/plain": [
       "((5000, 10, 1), (5000, 10))"
      ]
     },
     "execution_count": 68,
     "metadata": {},
     "output_type": "execute_result"
    }
   ],
   "source": [
    "inputs.shape, X.shape"
   ]
  },
  {
   "cell_type": "code",
   "execution_count": 74,
   "id": "2568203c",
   "metadata": {},
   "outputs": [],
   "source": [
    "# make the RNN\n",
    "i = Input(shape=(T, D))\n",
    "\n",
    "# method 1\n",
    "x = LSTM(5)(i)\n",
    "# x = SimpleRNN(5)(i)\n",
    "# x = GRU(5)(i)\n",
    "\n",
    "# method 2\n",
    "# x = LSTM(5, return_sequences=True)(i)\n",
    "# x = GlobalMaxPool1D()(x)\n",
    "\n",
    "x = Dense(1, activation='sigmoid')(x)\n",
    "\n",
    "model = Model(i, x)"
   ]
  },
  {
   "cell_type": "code",
   "execution_count": 75,
   "id": "a33ec1f8",
   "metadata": {},
   "outputs": [],
   "source": [
    "# compile\n",
    "model.compile(loss='binary_crossentropy',\n",
    "#             optimizer='rmsprop',\n",
    "            # optimizer='adam',\n",
    "            optimizer=Adam(learning_rate=0.01),\n",
    "#             optimizer=SGD(learning_rate=0.1, momentum=0.9),\n",
    "            metrics=['accuracy'],)"
   ]
  },
  {
   "cell_type": "code",
   "execution_count": 76,
   "id": "ab9606f9",
   "metadata": {
    "scrolled": true
   },
   "outputs": [
    {
     "name": "stdout",
     "output_type": "stream",
     "text": [
      "Epoch 1/200\n",
      "79/79 [==============================] - 3s 15ms/step - loss: 0.6938 - accuracy: 0.5096 - val_loss: 0.6944 - val_accuracy: 0.4876\n",
      "Epoch 2/200\n",
      "79/79 [==============================] - 1s 9ms/step - loss: 0.6936 - accuracy: 0.5080 - val_loss: 0.6956 - val_accuracy: 0.4824\n",
      "Epoch 3/200\n",
      "79/79 [==============================] - 1s 9ms/step - loss: 0.6927 - accuracy: 0.5100 - val_loss: 0.6923 - val_accuracy: 0.5164\n",
      "Epoch 4/200\n",
      "79/79 [==============================] - 1s 9ms/step - loss: 0.6926 - accuracy: 0.5244 - val_loss: 0.6934 - val_accuracy: 0.5116\n",
      "Epoch 5/200\n",
      "79/79 [==============================] - 1s 9ms/step - loss: 0.6921 - accuracy: 0.5160 - val_loss: 0.6941 - val_accuracy: 0.5084\n",
      "Epoch 6/200\n",
      "79/79 [==============================] - 1s 9ms/step - loss: 0.6922 - accuracy: 0.5064 - val_loss: 0.6930 - val_accuracy: 0.5044\n",
      "Epoch 7/200\n",
      "79/79 [==============================] - 1s 9ms/step - loss: 0.6917 - accuracy: 0.5180 - val_loss: 0.6943 - val_accuracy: 0.5120\n",
      "Epoch 8/200\n",
      "79/79 [==============================] - 1s 9ms/step - loss: 0.6918 - accuracy: 0.5108 - val_loss: 0.6950 - val_accuracy: 0.5036\n",
      "Epoch 9/200\n",
      "79/79 [==============================] - 1s 9ms/step - loss: 0.6911 - accuracy: 0.5200 - val_loss: 0.6923 - val_accuracy: 0.5184\n",
      "Epoch 10/200\n",
      "79/79 [==============================] - 1s 9ms/step - loss: 0.6919 - accuracy: 0.5248 - val_loss: 0.6933 - val_accuracy: 0.5200\n",
      "Epoch 11/200\n",
      "79/79 [==============================] - 1s 9ms/step - loss: 0.6909 - accuracy: 0.5196 - val_loss: 0.6940 - val_accuracy: 0.5220\n",
      "Epoch 12/200\n",
      "79/79 [==============================] - 1s 9ms/step - loss: 0.6898 - accuracy: 0.5272 - val_loss: 0.6940 - val_accuracy: 0.5224\n",
      "Epoch 13/200\n",
      "79/79 [==============================] - 1s 9ms/step - loss: 0.6903 - accuracy: 0.5232 - val_loss: 0.6935 - val_accuracy: 0.5224\n",
      "Epoch 14/200\n",
      "79/79 [==============================] - 1s 9ms/step - loss: 0.6885 - accuracy: 0.5360 - val_loss: 0.6964 - val_accuracy: 0.5176\n",
      "Epoch 15/200\n",
      "79/79 [==============================] - 1s 9ms/step - loss: 0.6880 - accuracy: 0.5380 - val_loss: 0.6973 - val_accuracy: 0.5136\n",
      "Epoch 16/200\n",
      "79/79 [==============================] - 1s 9ms/step - loss: 0.6882 - accuracy: 0.5440 - val_loss: 0.6952 - val_accuracy: 0.5128\n",
      "Epoch 17/200\n",
      "79/79 [==============================] - 1s 9ms/step - loss: 0.6861 - accuracy: 0.5456 - val_loss: 0.6945 - val_accuracy: 0.5288\n",
      "Epoch 18/200\n",
      "79/79 [==============================] - 1s 9ms/step - loss: 0.6852 - accuracy: 0.5508 - val_loss: 0.6962 - val_accuracy: 0.5280\n",
      "Epoch 19/200\n",
      "79/79 [==============================] - 1s 9ms/step - loss: 0.6813 - accuracy: 0.5548 - val_loss: 0.6958 - val_accuracy: 0.5264\n",
      "Epoch 20/200\n",
      "79/79 [==============================] - 1s 9ms/step - loss: 0.6787 - accuracy: 0.5588 - val_loss: 0.6897 - val_accuracy: 0.5308\n",
      "Epoch 21/200\n",
      "79/79 [==============================] - 1s 9ms/step - loss: 0.6670 - accuracy: 0.5780 - val_loss: 0.6742 - val_accuracy: 0.5560\n",
      "Epoch 22/200\n",
      "79/79 [==============================] - 1s 9ms/step - loss: 0.6385 - accuracy: 0.6188 - val_loss: 0.6288 - val_accuracy: 0.6264\n",
      "Epoch 23/200\n",
      "79/79 [==============================] - 1s 9ms/step - loss: 0.6076 - accuracy: 0.6572 - val_loss: 0.6015 - val_accuracy: 0.6584\n",
      "Epoch 24/200\n",
      "79/79 [==============================] - 1s 9ms/step - loss: 0.5630 - accuracy: 0.7080 - val_loss: 0.5730 - val_accuracy: 0.7024\n",
      "Epoch 25/200\n",
      "79/79 [==============================] - 1s 8ms/step - loss: 0.5029 - accuracy: 0.7572 - val_loss: 0.5290 - val_accuracy: 0.7352\n",
      "Epoch 26/200\n",
      "79/79 [==============================] - 1s 9ms/step - loss: 0.4508 - accuracy: 0.7956 - val_loss: 0.4639 - val_accuracy: 0.7912\n",
      "Epoch 27/200\n",
      "79/79 [==============================] - 1s 9ms/step - loss: 0.3880 - accuracy: 0.8400 - val_loss: 0.4139 - val_accuracy: 0.8328\n",
      "Epoch 28/200\n",
      "79/79 [==============================] - 1s 9ms/step - loss: 0.3302 - accuracy: 0.8680 - val_loss: 0.3677 - val_accuracy: 0.8508\n",
      "Epoch 29/200\n",
      "79/79 [==============================] - 1s 8ms/step - loss: 0.3019 - accuracy: 0.8824 - val_loss: 0.3105 - val_accuracy: 0.8808\n",
      "Epoch 30/200\n",
      "79/79 [==============================] - 1s 9ms/step - loss: 0.2850 - accuracy: 0.8924 - val_loss: 0.2988 - val_accuracy: 0.8892\n",
      "Epoch 31/200\n",
      "79/79 [==============================] - 1s 9ms/step - loss: 0.2515 - accuracy: 0.9108 - val_loss: 0.3043 - val_accuracy: 0.8896\n",
      "Epoch 32/200\n",
      "79/79 [==============================] - 1s 9ms/step - loss: 0.2394 - accuracy: 0.9148 - val_loss: 0.2539 - val_accuracy: 0.9024\n",
      "Epoch 33/200\n",
      "79/79 [==============================] - 1s 9ms/step - loss: 0.2291 - accuracy: 0.9188 - val_loss: 0.2518 - val_accuracy: 0.9132\n",
      "Epoch 34/200\n",
      "79/79 [==============================] - 1s 9ms/step - loss: 0.2171 - accuracy: 0.9236 - val_loss: 0.2631 - val_accuracy: 0.9056\n",
      "Epoch 35/200\n",
      "79/79 [==============================] - 1s 9ms/step - loss: 0.2083 - accuracy: 0.9244 - val_loss: 0.2242 - val_accuracy: 0.9236\n",
      "Epoch 36/200\n",
      "79/79 [==============================] - 1s 9ms/step - loss: 0.2037 - accuracy: 0.9280 - val_loss: 0.2364 - val_accuracy: 0.9140\n",
      "Epoch 37/200\n",
      "79/79 [==============================] - 1s 9ms/step - loss: 0.1768 - accuracy: 0.9460 - val_loss: 0.2057 - val_accuracy: 0.9308\n",
      "Epoch 38/200\n",
      "79/79 [==============================] - 1s 9ms/step - loss: 0.1692 - accuracy: 0.9460 - val_loss: 0.2209 - val_accuracy: 0.9244\n",
      "Epoch 39/200\n",
      "79/79 [==============================] - 1s 9ms/step - loss: 0.1735 - accuracy: 0.9400 - val_loss: 0.1800 - val_accuracy: 0.9428\n",
      "Epoch 40/200\n",
      "79/79 [==============================] - 1s 9ms/step - loss: 0.1602 - accuracy: 0.9512 - val_loss: 0.1751 - val_accuracy: 0.9472\n",
      "Epoch 41/200\n",
      "79/79 [==============================] - 1s 9ms/step - loss: 0.1528 - accuracy: 0.9540 - val_loss: 0.1728 - val_accuracy: 0.9448\n",
      "Epoch 42/200\n",
      "79/79 [==============================] - 1s 9ms/step - loss: 0.1452 - accuracy: 0.9552 - val_loss: 0.1941 - val_accuracy: 0.9440\n",
      "Epoch 43/200\n",
      "79/79 [==============================] - 1s 9ms/step - loss: 0.1449 - accuracy: 0.9540 - val_loss: 0.2021 - val_accuracy: 0.9392\n",
      "Epoch 44/200\n",
      "79/79 [==============================] - 1s 9ms/step - loss: 0.1367 - accuracy: 0.9560 - val_loss: 0.2071 - val_accuracy: 0.9376\n",
      "Epoch 45/200\n",
      "79/79 [==============================] - 1s 9ms/step - loss: 0.1431 - accuracy: 0.9568 - val_loss: 0.1868 - val_accuracy: 0.9372\n",
      "Epoch 46/200\n",
      "79/79 [==============================] - 1s 9ms/step - loss: 0.1336 - accuracy: 0.9604 - val_loss: 0.1629 - val_accuracy: 0.9476\n",
      "Epoch 47/200\n",
      "79/79 [==============================] - 1s 9ms/step - loss: 0.1264 - accuracy: 0.9612 - val_loss: 0.1490 - val_accuracy: 0.9564\n",
      "Epoch 48/200\n",
      "79/79 [==============================] - 1s 9ms/step - loss: 0.1141 - accuracy: 0.9676 - val_loss: 0.1467 - val_accuracy: 0.9560\n",
      "Epoch 49/200\n",
      "79/79 [==============================] - 1s 9ms/step - loss: 0.1169 - accuracy: 0.9636 - val_loss: 0.2078 - val_accuracy: 0.9396\n",
      "Epoch 50/200\n",
      "79/79 [==============================] - 1s 9ms/step - loss: 0.1162 - accuracy: 0.9664 - val_loss: 0.1392 - val_accuracy: 0.9600\n",
      "Epoch 51/200\n",
      "79/79 [==============================] - 1s 9ms/step - loss: 0.1167 - accuracy: 0.9652 - val_loss: 0.1577 - val_accuracy: 0.9548\n",
      "Epoch 52/200\n",
      "79/79 [==============================] - 1s 9ms/step - loss: 0.1346 - accuracy: 0.9604 - val_loss: 0.1365 - val_accuracy: 0.9624\n",
      "Epoch 53/200\n",
      "79/79 [==============================] - 1s 9ms/step - loss: 0.1198 - accuracy: 0.9660 - val_loss: 0.1489 - val_accuracy: 0.9540\n",
      "Epoch 54/200\n",
      "79/79 [==============================] - 1s 9ms/step - loss: 0.1022 - accuracy: 0.9708 - val_loss: 0.1359 - val_accuracy: 0.9596\n",
      "Epoch 55/200\n",
      "79/79 [==============================] - 1s 9ms/step - loss: 0.1227 - accuracy: 0.9644 - val_loss: 0.1479 - val_accuracy: 0.9572\n",
      "Epoch 56/200\n",
      "79/79 [==============================] - 1s 9ms/step - loss: 0.1143 - accuracy: 0.9680 - val_loss: 0.1454 - val_accuracy: 0.9556\n",
      "Epoch 57/200\n",
      "79/79 [==============================] - 1s 9ms/step - loss: 0.0990 - accuracy: 0.9736 - val_loss: 0.1327 - val_accuracy: 0.9616\n",
      "Epoch 58/200\n",
      "79/79 [==============================] - 1s 9ms/step - loss: 0.1019 - accuracy: 0.9708 - val_loss: 0.1595 - val_accuracy: 0.9508\n"
     ]
    },
    {
     "name": "stdout",
     "output_type": "stream",
     "text": [
      "Epoch 59/200\n",
      "79/79 [==============================] - 1s 9ms/step - loss: 0.0955 - accuracy: 0.9728 - val_loss: 0.1275 - val_accuracy: 0.9608\n",
      "Epoch 60/200\n",
      "79/79 [==============================] - 1s 9ms/step - loss: 0.0968 - accuracy: 0.9720 - val_loss: 0.1310 - val_accuracy: 0.9592\n",
      "Epoch 61/200\n",
      "79/79 [==============================] - 1s 9ms/step - loss: 0.0895 - accuracy: 0.9756 - val_loss: 0.1333 - val_accuracy: 0.9608\n",
      "Epoch 62/200\n",
      "79/79 [==============================] - 1s 9ms/step - loss: 0.0877 - accuracy: 0.9776 - val_loss: 0.1374 - val_accuracy: 0.9616\n",
      "Epoch 63/200\n",
      "79/79 [==============================] - 1s 9ms/step - loss: 0.0886 - accuracy: 0.9740 - val_loss: 0.1261 - val_accuracy: 0.9616\n",
      "Epoch 64/200\n",
      "79/79 [==============================] - 1s 9ms/step - loss: 0.0958 - accuracy: 0.9740 - val_loss: 0.1291 - val_accuracy: 0.9632\n",
      "Epoch 65/200\n",
      "79/79 [==============================] - 1s 9ms/step - loss: 0.1033 - accuracy: 0.9724 - val_loss: 0.1261 - val_accuracy: 0.9644\n",
      "Epoch 66/200\n",
      "79/79 [==============================] - 1s 9ms/step - loss: 0.1034 - accuracy: 0.9732 - val_loss: 0.1194 - val_accuracy: 0.9660\n",
      "Epoch 67/200\n",
      "79/79 [==============================] - 1s 9ms/step - loss: 0.0901 - accuracy: 0.9752 - val_loss: 0.1174 - val_accuracy: 0.9676\n",
      "Epoch 68/200\n",
      "79/79 [==============================] - 1s 9ms/step - loss: 0.0840 - accuracy: 0.9792 - val_loss: 0.1219 - val_accuracy: 0.9660\n",
      "Epoch 69/200\n",
      "79/79 [==============================] - 1s 8ms/step - loss: 0.0860 - accuracy: 0.9744 - val_loss: 0.1188 - val_accuracy: 0.9656\n",
      "Epoch 70/200\n",
      "79/79 [==============================] - 1s 9ms/step - loss: 0.0835 - accuracy: 0.9772 - val_loss: 0.1176 - val_accuracy: 0.9672\n",
      "Epoch 71/200\n",
      "79/79 [==============================] - 1s 9ms/step - loss: 0.0752 - accuracy: 0.9808 - val_loss: 0.1310 - val_accuracy: 0.9652\n",
      "Epoch 72/200\n",
      "79/79 [==============================] - 1s 9ms/step - loss: 0.0763 - accuracy: 0.9816 - val_loss: 0.1159 - val_accuracy: 0.9688\n",
      "Epoch 73/200\n",
      "79/79 [==============================] - 1s 8ms/step - loss: 0.0710 - accuracy: 0.9808 - val_loss: 0.1170 - val_accuracy: 0.9676\n",
      "Epoch 74/200\n",
      "79/79 [==============================] - 1s 9ms/step - loss: 0.1350 - accuracy: 0.9592 - val_loss: 0.1130 - val_accuracy: 0.9684\n",
      "Epoch 75/200\n",
      "79/79 [==============================] - 1s 9ms/step - loss: 0.0849 - accuracy: 0.9764 - val_loss: 0.1509 - val_accuracy: 0.9552\n",
      "Epoch 76/200\n",
      "79/79 [==============================] - 1s 9ms/step - loss: 0.0864 - accuracy: 0.9756 - val_loss: 0.1195 - val_accuracy: 0.9652\n",
      "Epoch 77/200\n",
      "79/79 [==============================] - 1s 8ms/step - loss: 0.0730 - accuracy: 0.9812 - val_loss: 0.1218 - val_accuracy: 0.9648\n",
      "Epoch 78/200\n",
      "79/79 [==============================] - 1s 9ms/step - loss: 0.0825 - accuracy: 0.9800 - val_loss: 0.1220 - val_accuracy: 0.9684\n",
      "Epoch 79/200\n",
      "79/79 [==============================] - 1s 9ms/step - loss: 0.0817 - accuracy: 0.9788 - val_loss: 0.1014 - val_accuracy: 0.9724\n",
      "Epoch 80/200\n",
      "79/79 [==============================] - 1s 8ms/step - loss: 0.0750 - accuracy: 0.9788 - val_loss: 0.1050 - val_accuracy: 0.9712\n",
      "Epoch 81/200\n",
      "79/79 [==============================] - 1s 8ms/step - loss: 0.0781 - accuracy: 0.9800 - val_loss: 0.1074 - val_accuracy: 0.9700\n",
      "Epoch 82/200\n",
      "79/79 [==============================] - 1s 9ms/step - loss: 0.0762 - accuracy: 0.9796 - val_loss: 0.1126 - val_accuracy: 0.9716\n",
      "Epoch 83/200\n",
      "79/79 [==============================] - 1s 8ms/step - loss: 0.0697 - accuracy: 0.9820 - val_loss: 0.1051 - val_accuracy: 0.9724\n",
      "Epoch 84/200\n",
      "79/79 [==============================] - 1s 9ms/step - loss: 0.0662 - accuracy: 0.9820 - val_loss: 0.1878 - val_accuracy: 0.9524\n",
      "Epoch 85/200\n",
      "79/79 [==============================] - 1s 8ms/step - loss: 0.0900 - accuracy: 0.9772 - val_loss: 0.1068 - val_accuracy: 0.9688\n",
      "Epoch 86/200\n",
      "79/79 [==============================] - 1s 9ms/step - loss: 0.0711 - accuracy: 0.9828 - val_loss: 0.0981 - val_accuracy: 0.9768\n",
      "Epoch 87/200\n",
      "79/79 [==============================] - 1s 9ms/step - loss: 0.0729 - accuracy: 0.9804 - val_loss: 0.1203 - val_accuracy: 0.9700\n",
      "Epoch 88/200\n",
      "79/79 [==============================] - 1s 8ms/step - loss: 0.0715 - accuracy: 0.9812 - val_loss: 0.1058 - val_accuracy: 0.9736\n",
      "Epoch 89/200\n",
      "79/79 [==============================] - 1s 8ms/step - loss: 0.0720 - accuracy: 0.9840 - val_loss: 0.1261 - val_accuracy: 0.9680\n",
      "Epoch 90/200\n",
      "79/79 [==============================] - 1s 8ms/step - loss: 0.0764 - accuracy: 0.9796 - val_loss: 0.1078 - val_accuracy: 0.9708\n",
      "Epoch 91/200\n",
      "79/79 [==============================] - 1s 8ms/step - loss: 0.0728 - accuracy: 0.9808 - val_loss: 0.1411 - val_accuracy: 0.9616\n",
      "Epoch 92/200\n",
      "79/79 [==============================] - 1s 9ms/step - loss: 0.0887 - accuracy: 0.9756 - val_loss: 0.1080 - val_accuracy: 0.9716\n",
      "Epoch 93/200\n",
      "79/79 [==============================] - 1s 9ms/step - loss: 0.0734 - accuracy: 0.9796 - val_loss: 0.1254 - val_accuracy: 0.9688\n",
      "Epoch 94/200\n",
      "79/79 [==============================] - 1s 9ms/step - loss: 0.0706 - accuracy: 0.9808 - val_loss: 0.0959 - val_accuracy: 0.9764\n",
      "Epoch 95/200\n",
      "79/79 [==============================] - 1s 8ms/step - loss: 0.0622 - accuracy: 0.9840 - val_loss: 0.1108 - val_accuracy: 0.9724\n",
      "Epoch 96/200\n",
      "79/79 [==============================] - 1s 9ms/step - loss: 0.0634 - accuracy: 0.9832 - val_loss: 0.1030 - val_accuracy: 0.9740\n",
      "Epoch 97/200\n",
      "79/79 [==============================] - 1s 9ms/step - loss: 0.0663 - accuracy: 0.9836 - val_loss: 0.1167 - val_accuracy: 0.9712\n",
      "Epoch 98/200\n",
      "79/79 [==============================] - 1s 9ms/step - loss: 0.0739 - accuracy: 0.9792 - val_loss: 0.1566 - val_accuracy: 0.9520\n",
      "Epoch 99/200\n",
      "79/79 [==============================] - 1s 9ms/step - loss: 0.1035 - accuracy: 0.9700 - val_loss: 0.1385 - val_accuracy: 0.9616\n",
      "Epoch 100/200\n",
      "79/79 [==============================] - 1s 8ms/step - loss: 0.0850 - accuracy: 0.9772 - val_loss: 0.1121 - val_accuracy: 0.9708\n",
      "Epoch 101/200\n",
      "79/79 [==============================] - 1s 9ms/step - loss: 0.0614 - accuracy: 0.9844 - val_loss: 0.1075 - val_accuracy: 0.9728\n",
      "Epoch 102/200\n",
      "79/79 [==============================] - 1s 9ms/step - loss: 0.0567 - accuracy: 0.9868 - val_loss: 0.0927 - val_accuracy: 0.9768\n",
      "Epoch 103/200\n",
      "79/79 [==============================] - 1s 9ms/step - loss: 0.0604 - accuracy: 0.9824 - val_loss: 0.0933 - val_accuracy: 0.9756\n",
      "Epoch 104/200\n",
      "79/79 [==============================] - 1s 10ms/step - loss: 0.0858 - accuracy: 0.9732 - val_loss: 0.0996 - val_accuracy: 0.9732\n",
      "Epoch 105/200\n",
      "79/79 [==============================] - 1s 9ms/step - loss: 0.0671 - accuracy: 0.9816 - val_loss: 0.1277 - val_accuracy: 0.9684\n",
      "Epoch 106/200\n",
      "79/79 [==============================] - 1s 9ms/step - loss: 0.0639 - accuracy: 0.9828 - val_loss: 0.1040 - val_accuracy: 0.9740\n",
      "Epoch 107/200\n",
      "79/79 [==============================] - 1s 9ms/step - loss: 0.0597 - accuracy: 0.9840 - val_loss: 0.1069 - val_accuracy: 0.9724\n",
      "Epoch 108/200\n",
      "79/79 [==============================] - 1s 9ms/step - loss: 0.0629 - accuracy: 0.9820 - val_loss: 0.1185 - val_accuracy: 0.9700\n",
      "Epoch 109/200\n",
      "79/79 [==============================] - 1s 9ms/step - loss: 0.0713 - accuracy: 0.9820 - val_loss: 0.1174 - val_accuracy: 0.9680\n",
      "Epoch 110/200\n",
      "79/79 [==============================] - 1s 9ms/step - loss: 0.0630 - accuracy: 0.9820 - val_loss: 0.0940 - val_accuracy: 0.9756\n",
      "Epoch 111/200\n",
      "79/79 [==============================] - 1s 10ms/step - loss: 0.0620 - accuracy: 0.9852 - val_loss: 0.1147 - val_accuracy: 0.9724\n",
      "Epoch 112/200\n",
      "79/79 [==============================] - 1s 9ms/step - loss: 0.0547 - accuracy: 0.9856 - val_loss: 0.1028 - val_accuracy: 0.9744\n",
      "Epoch 113/200\n",
      "79/79 [==============================] - 1s 10ms/step - loss: 0.0690 - accuracy: 0.9820 - val_loss: 0.1043 - val_accuracy: 0.9736\n",
      "Epoch 114/200\n",
      "79/79 [==============================] - 1s 10ms/step - loss: 0.0603 - accuracy: 0.9820 - val_loss: 0.0973 - val_accuracy: 0.9744\n",
      "Epoch 115/200\n",
      "79/79 [==============================] - 1s 10ms/step - loss: 0.0557 - accuracy: 0.9868 - val_loss: 0.1031 - val_accuracy: 0.9740\n",
      "Epoch 116/200\n"
     ]
    },
    {
     "name": "stdout",
     "output_type": "stream",
     "text": [
      "79/79 [==============================] - 1s 10ms/step - loss: 0.0545 - accuracy: 0.9852 - val_loss: 0.0945 - val_accuracy: 0.9752\n",
      "Epoch 117/200\n",
      "79/79 [==============================] - 1s 10ms/step - loss: 0.0591 - accuracy: 0.9848 - val_loss: 0.1354 - val_accuracy: 0.9672\n",
      "Epoch 118/200\n",
      "79/79 [==============================] - 1s 10ms/step - loss: 0.0523 - accuracy: 0.9864 - val_loss: 0.1124 - val_accuracy: 0.9720\n",
      "Epoch 119/200\n",
      "79/79 [==============================] - 1s 9ms/step - loss: 0.0498 - accuracy: 0.9868 - val_loss: 0.0873 - val_accuracy: 0.9792\n",
      "Epoch 120/200\n",
      "79/79 [==============================] - 1s 10ms/step - loss: 0.0621 - accuracy: 0.9836 - val_loss: 0.0931 - val_accuracy: 0.9760\n",
      "Epoch 121/200\n",
      "79/79 [==============================] - 1s 9ms/step - loss: 0.0686 - accuracy: 0.9796 - val_loss: 0.1292 - val_accuracy: 0.9644\n",
      "Epoch 122/200\n",
      "79/79 [==============================] - 1s 10ms/step - loss: 0.0655 - accuracy: 0.9832 - val_loss: 0.0979 - val_accuracy: 0.9780\n",
      "Epoch 123/200\n",
      "79/79 [==============================] - 1s 10ms/step - loss: 0.0625 - accuracy: 0.9844 - val_loss: 0.1059 - val_accuracy: 0.9708\n",
      "Epoch 124/200\n",
      "79/79 [==============================] - 1s 10ms/step - loss: 0.0690 - accuracy: 0.9816 - val_loss: 0.1080 - val_accuracy: 0.9716\n",
      "Epoch 125/200\n",
      "79/79 [==============================] - 1s 10ms/step - loss: 0.0555 - accuracy: 0.9860 - val_loss: 0.0950 - val_accuracy: 0.9756\n",
      "Epoch 126/200\n",
      "79/79 [==============================] - 1s 10ms/step - loss: 0.0546 - accuracy: 0.9860 - val_loss: 0.0941 - val_accuracy: 0.9772\n",
      "Epoch 127/200\n",
      "79/79 [==============================] - 1s 10ms/step - loss: 0.0529 - accuracy: 0.9856 - val_loss: 0.1229 - val_accuracy: 0.9700\n",
      "Epoch 128/200\n",
      "79/79 [==============================] - 1s 10ms/step - loss: 0.0566 - accuracy: 0.9832 - val_loss: 0.0983 - val_accuracy: 0.9756\n",
      "Epoch 129/200\n",
      "79/79 [==============================] - 1s 10ms/step - loss: 0.0575 - accuracy: 0.9848 - val_loss: 0.1046 - val_accuracy: 0.9740\n",
      "Epoch 130/200\n",
      "79/79 [==============================] - 1s 10ms/step - loss: 0.0619 - accuracy: 0.9828 - val_loss: 0.1182 - val_accuracy: 0.9700\n",
      "Epoch 131/200\n",
      "79/79 [==============================] - 1s 9ms/step - loss: 0.0535 - accuracy: 0.9836 - val_loss: 0.1077 - val_accuracy: 0.9732\n",
      "Epoch 132/200\n",
      "79/79 [==============================] - 1s 10ms/step - loss: 0.0648 - accuracy: 0.9828 - val_loss: 0.1211 - val_accuracy: 0.9736\n",
      "Epoch 133/200\n",
      "79/79 [==============================] - 1s 10ms/step - loss: 0.0593 - accuracy: 0.9844 - val_loss: 0.1008 - val_accuracy: 0.9764\n",
      "Epoch 134/200\n",
      "79/79 [==============================] - 1s 9ms/step - loss: 0.0628 - accuracy: 0.9840 - val_loss: 0.0970 - val_accuracy: 0.9724\n",
      "Epoch 135/200\n",
      "79/79 [==============================] - 1s 10ms/step - loss: 0.0573 - accuracy: 0.9828 - val_loss: 0.1007 - val_accuracy: 0.9760\n",
      "Epoch 136/200\n",
      "79/79 [==============================] - 1s 10ms/step - loss: 0.0626 - accuracy: 0.9828 - val_loss: 0.0936 - val_accuracy: 0.9768\n",
      "Epoch 137/200\n",
      "79/79 [==============================] - 1s 10ms/step - loss: 0.0561 - accuracy: 0.9852 - val_loss: 0.0823 - val_accuracy: 0.9800\n",
      "Epoch 138/200\n",
      "79/79 [==============================] - 1s 9ms/step - loss: 0.0488 - accuracy: 0.9888 - val_loss: 0.1160 - val_accuracy: 0.9732\n",
      "Epoch 139/200\n",
      "79/79 [==============================] - 1s 8ms/step - loss: 0.0519 - accuracy: 0.9860 - val_loss: 0.0933 - val_accuracy: 0.9740\n",
      "Epoch 140/200\n",
      "79/79 [==============================] - 1s 9ms/step - loss: 0.0486 - accuracy: 0.9872 - val_loss: 0.0959 - val_accuracy: 0.9764\n",
      "Epoch 141/200\n",
      "79/79 [==============================] - 1s 9ms/step - loss: 0.0466 - accuracy: 0.9876 - val_loss: 0.1022 - val_accuracy: 0.9752\n",
      "Epoch 142/200\n",
      "79/79 [==============================] - 1s 9ms/step - loss: 0.0521 - accuracy: 0.9852 - val_loss: 0.0974 - val_accuracy: 0.9760\n",
      "Epoch 143/200\n",
      "79/79 [==============================] - 1s 8ms/step - loss: 0.0516 - accuracy: 0.9864 - val_loss: 0.0891 - val_accuracy: 0.9780\n",
      "Epoch 144/200\n",
      "79/79 [==============================] - 1s 8ms/step - loss: 0.0526 - accuracy: 0.9844 - val_loss: 0.0943 - val_accuracy: 0.9768\n",
      "Epoch 145/200\n",
      "79/79 [==============================] - 1s 9ms/step - loss: 0.0414 - accuracy: 0.9876 - val_loss: 0.0936 - val_accuracy: 0.9764\n",
      "Epoch 146/200\n",
      "79/79 [==============================] - 1s 8ms/step - loss: 0.0549 - accuracy: 0.9852 - val_loss: 0.0876 - val_accuracy: 0.9776\n",
      "Epoch 147/200\n",
      "79/79 [==============================] - 1s 8ms/step - loss: 0.0472 - accuracy: 0.9872 - val_loss: 0.1055 - val_accuracy: 0.9716\n",
      "Epoch 148/200\n",
      "79/79 [==============================] - 1s 9ms/step - loss: 0.0459 - accuracy: 0.9892 - val_loss: 0.0883 - val_accuracy: 0.9788\n",
      "Epoch 149/200\n",
      "79/79 [==============================] - 1s 9ms/step - loss: 0.0478 - accuracy: 0.9888 - val_loss: 0.1007 - val_accuracy: 0.9736\n",
      "Epoch 150/200\n",
      "79/79 [==============================] - 1s 9ms/step - loss: 0.0466 - accuracy: 0.9864 - val_loss: 0.0871 - val_accuracy: 0.9800\n",
      "Epoch 151/200\n",
      "79/79 [==============================] - 1s 9ms/step - loss: 0.0483 - accuracy: 0.9868 - val_loss: 0.1126 - val_accuracy: 0.9736\n",
      "Epoch 152/200\n",
      "79/79 [==============================] - 1s 9ms/step - loss: 0.0491 - accuracy: 0.9844 - val_loss: 0.1008 - val_accuracy: 0.9768\n",
      "Epoch 153/200\n",
      "79/79 [==============================] - 1s 9ms/step - loss: 0.0566 - accuracy: 0.9880 - val_loss: 0.0978 - val_accuracy: 0.9760\n",
      "Epoch 154/200\n",
      "79/79 [==============================] - 1s 9ms/step - loss: 0.0490 - accuracy: 0.9872 - val_loss: 0.0923 - val_accuracy: 0.9784\n",
      "Epoch 155/200\n",
      "79/79 [==============================] - 1s 9ms/step - loss: 0.0431 - accuracy: 0.9892 - val_loss: 0.0900 - val_accuracy: 0.9784\n",
      "Epoch 156/200\n",
      "79/79 [==============================] - 1s 9ms/step - loss: 0.0443 - accuracy: 0.9884 - val_loss: 0.0889 - val_accuracy: 0.9784\n",
      "Epoch 157/200\n",
      "79/79 [==============================] - 1s 9ms/step - loss: 0.0389 - accuracy: 0.9904 - val_loss: 0.0838 - val_accuracy: 0.9796\n",
      "Epoch 158/200\n",
      "79/79 [==============================] - 1s 9ms/step - loss: 0.0441 - accuracy: 0.9904 - val_loss: 0.0919 - val_accuracy: 0.9764\n",
      "Epoch 159/200\n",
      "79/79 [==============================] - 1s 9ms/step - loss: 0.0409 - accuracy: 0.9900 - val_loss: 0.1042 - val_accuracy: 0.9772\n",
      "Epoch 160/200\n",
      "79/79 [==============================] - 1s 9ms/step - loss: 0.0444 - accuracy: 0.9876 - val_loss: 0.1066 - val_accuracy: 0.9732\n",
      "Epoch 161/200\n",
      "79/79 [==============================] - 1s 9ms/step - loss: 0.0481 - accuracy: 0.9868 - val_loss: 0.1089 - val_accuracy: 0.9720\n",
      "Epoch 162/200\n",
      "79/79 [==============================] - 1s 9ms/step - loss: 0.0423 - accuracy: 0.9892 - val_loss: 0.0968 - val_accuracy: 0.9788\n",
      "Epoch 163/200\n",
      "79/79 [==============================] - 1s 9ms/step - loss: 0.0512 - accuracy: 0.9884 - val_loss: 0.0921 - val_accuracy: 0.9772\n",
      "Epoch 164/200\n",
      "79/79 [==============================] - 1s 8ms/step - loss: 0.0498 - accuracy: 0.9876 - val_loss: 0.0860 - val_accuracy: 0.9780\n",
      "Epoch 165/200\n",
      "79/79 [==============================] - 1s 9ms/step - loss: 0.0556 - accuracy: 0.9852 - val_loss: 0.0846 - val_accuracy: 0.9784\n",
      "Epoch 166/200\n",
      "79/79 [==============================] - 1s 9ms/step - loss: 0.0507 - accuracy: 0.9880 - val_loss: 0.0894 - val_accuracy: 0.9784\n",
      "Epoch 167/200\n",
      "79/79 [==============================] - 1s 9ms/step - loss: 0.0428 - accuracy: 0.9900 - val_loss: 0.1292 - val_accuracy: 0.9692\n",
      "Epoch 168/200\n",
      "79/79 [==============================] - 1s 9ms/step - loss: 0.0798 - accuracy: 0.9788 - val_loss: 0.0815 - val_accuracy: 0.9772\n",
      "Epoch 169/200\n",
      "79/79 [==============================] - 1s 9ms/step - loss: 0.0618 - accuracy: 0.9832 - val_loss: 0.0881 - val_accuracy: 0.9768\n",
      "Epoch 170/200\n",
      "79/79 [==============================] - 1s 8ms/step - loss: 0.0526 - accuracy: 0.9864 - val_loss: 0.0982 - val_accuracy: 0.9740\n",
      "Epoch 171/200\n",
      "79/79 [==============================] - 1s 9ms/step - loss: 0.0416 - accuracy: 0.9888 - val_loss: 0.0845 - val_accuracy: 0.9796\n",
      "Epoch 172/200\n",
      "79/79 [==============================] - 1s 9ms/step - loss: 0.0402 - accuracy: 0.9908 - val_loss: 0.0810 - val_accuracy: 0.9804\n",
      "Epoch 173/200\n"
     ]
    },
    {
     "name": "stdout",
     "output_type": "stream",
     "text": [
      "79/79 [==============================] - 1s 9ms/step - loss: 0.0345 - accuracy: 0.9932 - val_loss: 0.0873 - val_accuracy: 0.9796\n",
      "Epoch 174/200\n",
      "79/79 [==============================] - 1s 9ms/step - loss: 0.0346 - accuracy: 0.9924 - val_loss: 0.0886 - val_accuracy: 0.9804\n",
      "Epoch 175/200\n",
      "79/79 [==============================] - 1s 9ms/step - loss: 0.0337 - accuracy: 0.9932 - val_loss: 0.0881 - val_accuracy: 0.9804\n",
      "Epoch 176/200\n",
      "79/79 [==============================] - 1s 9ms/step - loss: 0.0366 - accuracy: 0.9924 - val_loss: 0.0851 - val_accuracy: 0.9800\n",
      "Epoch 177/200\n",
      "79/79 [==============================] - 1s 9ms/step - loss: 0.0474 - accuracy: 0.9892 - val_loss: 0.0956 - val_accuracy: 0.9788\n",
      "Epoch 178/200\n",
      "79/79 [==============================] - 1s 9ms/step - loss: 0.0631 - accuracy: 0.9812 - val_loss: 0.0986 - val_accuracy: 0.9760\n",
      "Epoch 179/200\n",
      "79/79 [==============================] - 1s 9ms/step - loss: 0.0436 - accuracy: 0.9884 - val_loss: 0.0717 - val_accuracy: 0.9812\n",
      "Epoch 180/200\n",
      "79/79 [==============================] - 1s 9ms/step - loss: 0.0362 - accuracy: 0.9904 - val_loss: 0.0744 - val_accuracy: 0.9824\n",
      "Epoch 181/200\n",
      "79/79 [==============================] - 1s 9ms/step - loss: 0.0351 - accuracy: 0.9904 - val_loss: 0.0803 - val_accuracy: 0.9796\n",
      "Epoch 182/200\n",
      "79/79 [==============================] - 1s 9ms/step - loss: 0.0306 - accuracy: 0.9928 - val_loss: 0.0786 - val_accuracy: 0.9824\n",
      "Epoch 183/200\n",
      "79/79 [==============================] - 1s 9ms/step - loss: 0.0348 - accuracy: 0.9920 - val_loss: 0.0782 - val_accuracy: 0.9836\n",
      "Epoch 184/200\n",
      "79/79 [==============================] - 1s 9ms/step - loss: 0.0643 - accuracy: 0.9852 - val_loss: 0.0892 - val_accuracy: 0.9796\n",
      "Epoch 185/200\n",
      "79/79 [==============================] - 1s 9ms/step - loss: 0.0524 - accuracy: 0.9876 - val_loss: 0.0789 - val_accuracy: 0.9828\n",
      "Epoch 186/200\n",
      "79/79 [==============================] - 1s 9ms/step - loss: 0.0484 - accuracy: 0.9888 - val_loss: 0.0901 - val_accuracy: 0.9800\n",
      "Epoch 187/200\n",
      "79/79 [==============================] - 1s 8ms/step - loss: 0.0488 - accuracy: 0.9868 - val_loss: 0.0953 - val_accuracy: 0.9764\n",
      "Epoch 188/200\n",
      "79/79 [==============================] - 1s 9ms/step - loss: 0.0512 - accuracy: 0.9868 - val_loss: 0.0966 - val_accuracy: 0.9780\n",
      "Epoch 189/200\n",
      "79/79 [==============================] - 1s 9ms/step - loss: 0.0405 - accuracy: 0.9884 - val_loss: 0.0787 - val_accuracy: 0.9816\n",
      "Epoch 190/200\n",
      "79/79 [==============================] - 1s 10ms/step - loss: 0.0374 - accuracy: 0.9900 - val_loss: 0.0734 - val_accuracy: 0.9832\n",
      "Epoch 191/200\n",
      "79/79 [==============================] - 1s 9ms/step - loss: 0.0311 - accuracy: 0.9916 - val_loss: 0.0714 - val_accuracy: 0.9844\n",
      "Epoch 192/200\n",
      "79/79 [==============================] - 1s 9ms/step - loss: 0.0563 - accuracy: 0.9844 - val_loss: 0.0831 - val_accuracy: 0.9800\n",
      "Epoch 193/200\n",
      "79/79 [==============================] - 1s 9ms/step - loss: 0.0434 - accuracy: 0.9880 - val_loss: 0.0718 - val_accuracy: 0.9828\n",
      "Epoch 194/200\n",
      "79/79 [==============================] - 1s 9ms/step - loss: 0.0358 - accuracy: 0.9920 - val_loss: 0.0912 - val_accuracy: 0.9788\n",
      "Epoch 195/200\n",
      "79/79 [==============================] - 1s 9ms/step - loss: 0.0314 - accuracy: 0.9920 - val_loss: 0.0947 - val_accuracy: 0.9804\n",
      "Epoch 196/200\n",
      "79/79 [==============================] - 1s 9ms/step - loss: 0.0330 - accuracy: 0.9924 - val_loss: 0.0640 - val_accuracy: 0.9848\n",
      "Epoch 197/200\n",
      "79/79 [==============================] - 1s 9ms/step - loss: 0.0328 - accuracy: 0.9916 - val_loss: 0.0832 - val_accuracy: 0.9808\n",
      "Epoch 198/200\n",
      "79/79 [==============================] - 1s 9ms/step - loss: 0.0407 - accuracy: 0.9900 - val_loss: 0.0725 - val_accuracy: 0.9816\n",
      "Epoch 199/200\n",
      "79/79 [==============================] - 1s 9ms/step - loss: 0.0497 - accuracy: 0.9852 - val_loss: 0.0844 - val_accuracy: 0.9808\n",
      "Epoch 200/200\n",
      "79/79 [==============================] - 1s 9ms/step - loss: 0.0359 - accuracy: 0.9904 - val_loss: 0.0889 - val_accuracy: 0.9776\n"
     ]
    }
   ],
   "source": [
    "# train\n",
    "r = model.fit(\n",
    "    inputs, Y,\n",
    "    epochs=200,\n",
    "    validation_split=0.5,\n",
    ")"
   ]
  },
  {
   "cell_type": "code",
   "execution_count": 77,
   "id": "cdb833b1",
   "metadata": {},
   "outputs": [
    {
     "data": {
      "text/plain": [
       "<matplotlib.legend.Legend at 0x7f9220118790>"
      ]
     },
     "execution_count": 77,
     "metadata": {},
     "output_type": "execute_result"
    },
    {
     "data": {
      "image/png": "[encoded data removed]",
      "text/plain": [
       "<Figure size 432x288 with 1 Axes>"
      ]
     },
     "metadata": {
      "needs_background": "light"
     },
     "output_type": "display_data"
    }
   ],
   "source": [
    "# Plot the loss\n",
    "plt.plot(r.history['loss'], label='loss')\n",
    "plt.plot(r.history['val_loss'], label='val_loss')\n",
    "plt.legend()"
   ]
  },
  {
   "cell_type": "code",
   "execution_count": 78,
   "id": "02aee9d4",
   "metadata": {},
   "outputs": [
    {
     "data": {
      "text/plain": [
       "<matplotlib.legend.Legend at 0x7f925bb65d60>"
      ]
     },
     "execution_count": 78,
     "metadata": {},
     "output_type": "execute_result"
    },
    {
     "data": {
      "image/png": "[encoded data removed]",
      "text/plain": [
       "<Figure size 432x288 with 1 Axes>"
      ]
     },
     "metadata": {
      "needs_background": "light"
     },
     "output_type": "display_data"
    }
   ],
   "source": [
    "# Plot the accuracy too - should be around 50%\n",
    "plt.plot(r.history['accuracy'], label='acc')\n",
    "plt.plot(r.history['val_accuracy'], label='val_acc')\n",
    "plt.legend()"
   ]
  },
  {
   "cell_type": "markdown",
   "id": "ccaf2ba0",
   "metadata": {},
   "source": [
    "## 3. Extend sequence length to 20"
   ]
  },
  {
   "cell_type": "code",
   "execution_count": 100,
   "id": "d0e2f6e6",
   "metadata": {},
   "outputs": [],
   "source": [
    "# nonlinear and long-distance dataset\n",
    "# test long-distance vs. short-distance patterns\n",
    "\n",
    "# start with a small T and increase it later\n",
    "T = 30\n",
    "D = 1\n",
    "X = []\n",
    "Y = []\n"
   ]
  },
  {
   "cell_type": "code",
   "execution_count": 101,
   "id": "fbd3a150",
   "metadata": {},
   "outputs": [],
   "source": [
    "def get_label(x, i1, i2, i3):\n",
    "    # x = sequence\n",
    "    if x[i1] < 0 and x[i2] < 0 and x[i3] < 0:\n",
    "        return 1\n",
    "    if x[i1] < 0 and x[i2] > 0 and x[i3] > 0:\n",
    "        return 1\n",
    "    if x[i1] > 0 and x[i2] < 0 and x[i3] > 0:\n",
    "        return 1\n",
    "    if x[i1] > 0 and x[i2] > 0 and x[i3] < 0:\n",
    "        return 1\n",
    "    return 0\n",
    "\n",
    "for t in range(5000):\n",
    "    x = np.random.randn(T)    # generate x\n",
    "    X.append(x)\n",
    "#     y = get_label(x, -1, -2, -3)   # short distance\n",
    "    y = get_label(x, 0, 1, 2)      # long distance\n",
    "    Y.append(y)"
   ]
  },
  {
   "cell_type": "code",
   "execution_count": 102,
   "id": "f275941a",
   "metadata": {},
   "outputs": [],
   "source": [
    "X = np.array(X)\n",
    "Y = np.array(Y)\n",
    "N = len(X)"
   ]
  },
  {
   "cell_type": "code",
   "execution_count": 103,
   "id": "d0cccec6",
   "metadata": {},
   "outputs": [
    {
     "data": {
      "text/plain": [
       "((5000, 30), (5000,))"
      ]
     },
     "execution_count": 103,
     "metadata": {},
     "output_type": "execute_result"
    }
   ],
   "source": [
    "X.shape, Y.shape"
   ]
  },
  {
   "cell_type": "markdown",
   "id": "eb7d28ba",
   "metadata": {},
   "source": [
    "### 3.1. Try a simple RNN / LSTM / GRU (longer sequence, with GlobalMaxPool)"
   ]
  },
  {
   "cell_type": "code",
   "execution_count": 109,
   "id": "4f383147",
   "metadata": {},
   "outputs": [],
   "source": [
    "inputs = np.expand_dims(X, -1)"
   ]
  },
  {
   "cell_type": "code",
   "execution_count": 110,
   "id": "3edcfcf5",
   "metadata": {},
   "outputs": [
    {
     "data": {
      "text/plain": [
       "((5000, 30, 1), (5000, 30))"
      ]
     },
     "execution_count": 110,
     "metadata": {},
     "output_type": "execute_result"
    }
   ],
   "source": [
    "inputs.shape, X.shape"
   ]
  },
  {
   "cell_type": "code",
   "execution_count": 111,
   "id": "c1972ea7",
   "metadata": {},
   "outputs": [],
   "source": [
    "# make the RNN\n",
    "i = Input(shape=(T, D))\n",
    "\n",
    "# method 1\n",
    "# x = LSTM(5)(i)\n",
    "# x = SimpleRNN(5)(i)\n",
    "# x = GRU(5)(i)\n",
    "\n",
    "# method 2\n",
    "x = LSTM(5, return_sequences=True)(i)\n",
    "x = GlobalMaxPool1D()(x)                  # apply to all the hidden states returned (instead of using the last hidden state)\n",
    "\n",
    "x = Dense(1, activation='sigmoid')(x)\n",
    "\n",
    "model = Model(i, x)"
   ]
  },
  {
   "cell_type": "code",
   "execution_count": 112,
   "id": "eb501ca6",
   "metadata": {},
   "outputs": [],
   "source": [
    "# compile\n",
    "model.compile(loss='binary_crossentropy',\n",
    "#             optimizer='rmsprop',\n",
    "            # optimizer='adam',\n",
    "            optimizer=Adam(learning_rate=0.01),\n",
    "#             optimizer=SGD(learning_rate=0.1, momentum=0.9),\n",
    "            metrics=['accuracy'],)"
   ]
  },
  {
   "cell_type": "code",
   "execution_count": 113,
   "id": "b05fb7ff",
   "metadata": {
    "scrolled": true
   },
   "outputs": [
    {
     "name": "stdout",
     "output_type": "stream",
     "text": [
      "Epoch 1/100\n",
      "79/79 [==============================] - 4s 25ms/step - loss: 0.6936 - accuracy: 0.5012 - val_loss: 0.6936 - val_accuracy: 0.4924\n",
      "Epoch 2/100\n",
      "79/79 [==============================] - 2s 19ms/step - loss: 0.6935 - accuracy: 0.4976 - val_loss: 0.6941 - val_accuracy: 0.4876\n",
      "Epoch 3/100\n",
      "79/79 [==============================] - 1s 18ms/step - loss: 0.6927 - accuracy: 0.5244 - val_loss: 0.6973 - val_accuracy: 0.4936\n",
      "Epoch 4/100\n",
      "79/79 [==============================] - 1s 19ms/step - loss: 0.6926 - accuracy: 0.5132 - val_loss: 0.6942 - val_accuracy: 0.4764\n",
      "Epoch 5/100\n",
      "79/79 [==============================] - 1s 18ms/step - loss: 0.6937 - accuracy: 0.4996 - val_loss: 0.6953 - val_accuracy: 0.4932\n",
      "Epoch 6/100\n",
      "79/79 [==============================] - 1s 18ms/step - loss: 0.6919 - accuracy: 0.5216 - val_loss: 0.6955 - val_accuracy: 0.4868\n",
      "Epoch 7/100\n",
      "79/79 [==============================] - 1s 19ms/step - loss: 0.6908 - accuracy: 0.5304 - val_loss: 0.6972 - val_accuracy: 0.4956\n",
      "Epoch 8/100\n",
      "79/79 [==============================] - 1s 17ms/step - loss: 0.6911 - accuracy: 0.5340 - val_loss: 0.6967 - val_accuracy: 0.4944\n",
      "Epoch 9/100\n",
      "79/79 [==============================] - 1s 16ms/step - loss: 0.6899 - accuracy: 0.5440 - val_loss: 0.6943 - val_accuracy: 0.4980\n",
      "Epoch 10/100\n",
      "79/79 [==============================] - 1s 17ms/step - loss: 0.6896 - accuracy: 0.5332 - val_loss: 0.6935 - val_accuracy: 0.5048\n",
      "Epoch 11/100\n",
      "79/79 [==============================] - 1s 18ms/step - loss: 0.6820 - accuracy: 0.5588 - val_loss: 0.6814 - val_accuracy: 0.5264\n",
      "Epoch 12/100\n",
      "79/79 [==============================] - 1s 19ms/step - loss: 0.6569 - accuracy: 0.5856 - val_loss: 0.6568 - val_accuracy: 0.5600\n",
      "Epoch 13/100\n",
      "79/79 [==============================] - 1s 16ms/step - loss: 0.6322 - accuracy: 0.6288 - val_loss: 0.6260 - val_accuracy: 0.6396\n",
      "Epoch 14/100\n",
      "79/79 [==============================] - 1s 16ms/step - loss: 0.6021 - accuracy: 0.6608 - val_loss: 0.5984 - val_accuracy: 0.6424\n",
      "Epoch 15/100\n",
      "79/79 [==============================] - 1s 17ms/step - loss: 0.5501 - accuracy: 0.6888 - val_loss: 0.5568 - val_accuracy: 0.6796\n",
      "Epoch 16/100\n",
      "79/79 [==============================] - 1s 16ms/step - loss: 0.5498 - accuracy: 0.6992 - val_loss: 0.5870 - val_accuracy: 0.6496\n",
      "Epoch 17/100\n",
      "79/79 [==============================] - 1s 16ms/step - loss: 0.5189 - accuracy: 0.6964 - val_loss: 0.5167 - val_accuracy: 0.7044\n",
      "Epoch 18/100\n",
      "79/79 [==============================] - 1s 16ms/step - loss: 0.4674 - accuracy: 0.7540 - val_loss: 0.4688 - val_accuracy: 0.7516\n",
      "Epoch 19/100\n",
      "79/79 [==============================] - 1s 16ms/step - loss: 0.4629 - accuracy: 0.7732 - val_loss: 0.6029 - val_accuracy: 0.6876\n",
      "Epoch 20/100\n",
      "79/79 [==============================] - 1s 16ms/step - loss: 0.5342 - accuracy: 0.7128 - val_loss: 0.4915 - val_accuracy: 0.7692\n",
      "Epoch 21/100\n",
      "79/79 [==============================] - 1s 16ms/step - loss: 0.4346 - accuracy: 0.8004 - val_loss: 0.4274 - val_accuracy: 0.8168\n",
      "Epoch 22/100\n",
      "79/79 [==============================] - 1s 16ms/step - loss: 0.4864 - accuracy: 0.7560 - val_loss: 0.5065 - val_accuracy: 0.7184\n",
      "Epoch 23/100\n",
      "79/79 [==============================] - 1s 15ms/step - loss: 0.4853 - accuracy: 0.7324 - val_loss: 0.4873 - val_accuracy: 0.7484\n",
      "Epoch 24/100\n",
      "79/79 [==============================] - 1s 16ms/step - loss: 0.4658 - accuracy: 0.7576 - val_loss: 0.4703 - val_accuracy: 0.7728\n",
      "Epoch 25/100\n",
      "79/79 [==============================] - 1s 17ms/step - loss: 0.4509 - accuracy: 0.7720 - val_loss: 0.4592 - val_accuracy: 0.7708\n",
      "Epoch 26/100\n",
      "79/79 [==============================] - 1s 16ms/step - loss: 0.4473 - accuracy: 0.7784 - val_loss: 0.4472 - val_accuracy: 0.7656\n",
      "Epoch 27/100\n",
      "79/79 [==============================] - 1s 16ms/step - loss: 0.4287 - accuracy: 0.7908 - val_loss: 0.4577 - val_accuracy: 0.7628\n",
      "Epoch 28/100\n",
      "79/79 [==============================] - 1s 16ms/step - loss: 0.4107 - accuracy: 0.8104 - val_loss: 0.3818 - val_accuracy: 0.8448\n",
      "Epoch 29/100\n",
      "79/79 [==============================] - 1s 16ms/step - loss: 0.3583 - accuracy: 0.8512 - val_loss: 0.3526 - val_accuracy: 0.8592\n",
      "Epoch 30/100\n",
      "79/79 [==============================] - 1s 17ms/step - loss: 0.3293 - accuracy: 0.8620 - val_loss: 0.3366 - val_accuracy: 0.8644\n",
      "Epoch 31/100\n",
      "79/79 [==============================] - 1s 16ms/step - loss: 0.3190 - accuracy: 0.8684 - val_loss: 0.3219 - val_accuracy: 0.8732\n",
      "Epoch 32/100\n",
      "79/79 [==============================] - 1s 15ms/step - loss: 0.3007 - accuracy: 0.8736 - val_loss: 0.3115 - val_accuracy: 0.8756\n",
      "Epoch 33/100\n",
      "79/79 [==============================] - 1s 15ms/step - loss: 0.2947 - accuracy: 0.8780 - val_loss: 0.3098 - val_accuracy: 0.8788\n",
      "Epoch 34/100\n",
      "79/79 [==============================] - 1s 17ms/step - loss: 0.2796 - accuracy: 0.8872 - val_loss: 0.2979 - val_accuracy: 0.8784\n",
      "Epoch 35/100\n",
      "79/79 [==============================] - 1s 17ms/step - loss: 0.2727 - accuracy: 0.8888 - val_loss: 0.2898 - val_accuracy: 0.8804\n",
      "Epoch 36/100\n",
      "79/79 [==============================] - 1s 17ms/step - loss: 0.2634 - accuracy: 0.8908 - val_loss: 0.2839 - val_accuracy: 0.8804\n",
      "Epoch 37/100\n",
      "79/79 [==============================] - 1s 17ms/step - loss: 0.2582 - accuracy: 0.8908 - val_loss: 0.2820 - val_accuracy: 0.8840\n",
      "Epoch 38/100\n",
      "79/79 [==============================] - 1s 16ms/step - loss: 0.2488 - accuracy: 0.8952 - val_loss: 0.2782 - val_accuracy: 0.8892\n",
      "Epoch 39/100\n",
      "79/79 [==============================] - 1s 16ms/step - loss: 0.2532 - accuracy: 0.8940 - val_loss: 0.2752 - val_accuracy: 0.8900\n",
      "Epoch 40/100\n",
      "79/79 [==============================] - 1s 16ms/step - loss: 0.2457 - accuracy: 0.8940 - val_loss: 0.2720 - val_accuracy: 0.8856\n",
      "Epoch 41/100\n",
      "79/79 [==============================] - 1s 16ms/step - loss: 0.2415 - accuracy: 0.8956 - val_loss: 0.2633 - val_accuracy: 0.8916\n",
      "Epoch 42/100\n",
      "79/79 [==============================] - 1s 16ms/step - loss: 0.2432 - accuracy: 0.8976 - val_loss: 0.2833 - val_accuracy: 0.8840\n",
      "Epoch 43/100\n",
      "79/79 [==============================] - 1s 17ms/step - loss: 0.2492 - accuracy: 0.8968 - val_loss: 0.3814 - val_accuracy: 0.8524\n",
      "Epoch 44/100\n",
      "79/79 [==============================] - 1s 16ms/step - loss: 0.2602 - accuracy: 0.8892 - val_loss: 0.3514 - val_accuracy: 0.8564\n",
      "Epoch 45/100\n",
      "79/79 [==============================] - 1s 17ms/step - loss: 0.4118 - accuracy: 0.7812 - val_loss: 0.4032 - val_accuracy: 0.7708\n",
      "Epoch 46/100\n",
      "79/79 [==============================] - 1s 16ms/step - loss: 0.3802 - accuracy: 0.7808 - val_loss: 0.3649 - val_accuracy: 0.8256\n",
      "Epoch 47/100\n",
      "79/79 [==============================] - 1s 17ms/step - loss: 0.3066 - accuracy: 0.8656 - val_loss: 0.4151 - val_accuracy: 0.8372\n",
      "Epoch 48/100\n",
      "79/79 [==============================] - 1s 16ms/step - loss: 0.3196 - accuracy: 0.8612 - val_loss: 0.2684 - val_accuracy: 0.8884\n",
      "Epoch 49/100\n",
      "79/79 [==============================] - 1s 16ms/step - loss: 0.2360 - accuracy: 0.8948 - val_loss: 0.2506 - val_accuracy: 0.8972\n",
      "Epoch 50/100\n",
      "79/79 [==============================] - 1s 17ms/step - loss: 0.2257 - accuracy: 0.9032 - val_loss: 0.2436 - val_accuracy: 0.9000\n",
      "Epoch 51/100\n",
      "79/79 [==============================] - 1s 17ms/step - loss: 0.2216 - accuracy: 0.9044 - val_loss: 0.2406 - val_accuracy: 0.9024\n",
      "Epoch 52/100\n",
      "79/79 [==============================] - 1s 16ms/step - loss: 0.2163 - accuracy: 0.9076 - val_loss: 0.2397 - val_accuracy: 0.9012\n",
      "Epoch 53/100\n",
      "79/79 [==============================] - 1s 16ms/step - loss: 0.2156 - accuracy: 0.9088 - val_loss: 0.2396 - val_accuracy: 0.8996\n",
      "Epoch 54/100\n",
      "79/79 [==============================] - 1s 15ms/step - loss: 0.2239 - accuracy: 0.9004 - val_loss: 0.2405 - val_accuracy: 0.8976\n",
      "Epoch 55/100\n",
      "79/79 [==============================] - 1s 16ms/step - loss: 0.2141 - accuracy: 0.9084 - val_loss: 0.2308 - val_accuracy: 0.9020\n",
      "Epoch 56/100\n",
      "79/79 [==============================] - 1s 17ms/step - loss: 0.2166 - accuracy: 0.9032 - val_loss: 0.2334 - val_accuracy: 0.9000\n",
      "Epoch 57/100\n",
      "79/79 [==============================] - 1s 16ms/step - loss: 0.2113 - accuracy: 0.9096 - val_loss: 0.2275 - val_accuracy: 0.9068\n",
      "Epoch 58/100\n"
     ]
    },
    {
     "name": "stdout",
     "output_type": "stream",
     "text": [
      "79/79 [==============================] - 1s 16ms/step - loss: 0.2066 - accuracy: 0.9116 - val_loss: 0.2238 - val_accuracy: 0.9052\n",
      "Epoch 59/100\n",
      "79/79 [==============================] - 1s 16ms/step - loss: 0.2126 - accuracy: 0.9096 - val_loss: 0.2364 - val_accuracy: 0.9032\n",
      "Epoch 60/100\n",
      "79/79 [==============================] - 1s 17ms/step - loss: 0.2075 - accuracy: 0.9092 - val_loss: 0.2237 - val_accuracy: 0.9076\n",
      "Epoch 61/100\n",
      "79/79 [==============================] - 1s 17ms/step - loss: 0.2009 - accuracy: 0.9136 - val_loss: 0.2206 - val_accuracy: 0.9104\n",
      "Epoch 62/100\n",
      "79/79 [==============================] - 1s 16ms/step - loss: 0.1948 - accuracy: 0.9148 - val_loss: 0.2190 - val_accuracy: 0.9088\n",
      "Epoch 63/100\n",
      "79/79 [==============================] - 1s 16ms/step - loss: 0.1917 - accuracy: 0.9180 - val_loss: 0.2195 - val_accuracy: 0.9084\n",
      "Epoch 64/100\n",
      "79/79 [==============================] - 1s 16ms/step - loss: 0.1943 - accuracy: 0.9144 - val_loss: 0.2175 - val_accuracy: 0.9120\n",
      "Epoch 65/100\n",
      "79/79 [==============================] - 1s 16ms/step - loss: 0.1876 - accuracy: 0.9164 - val_loss: 0.2138 - val_accuracy: 0.9116\n",
      "Epoch 66/100\n",
      "79/79 [==============================] - 1s 16ms/step - loss: 0.1886 - accuracy: 0.9164 - val_loss: 0.2165 - val_accuracy: 0.9064\n",
      "Epoch 67/100\n",
      "79/79 [==============================] - 1s 16ms/step - loss: 0.1898 - accuracy: 0.9180 - val_loss: 0.2143 - val_accuracy: 0.9096\n",
      "Epoch 68/100\n",
      "79/79 [==============================] - 1s 16ms/step - loss: 0.1876 - accuracy: 0.9168 - val_loss: 0.2160 - val_accuracy: 0.9052\n",
      "Epoch 69/100\n",
      "79/79 [==============================] - 1s 16ms/step - loss: 0.1835 - accuracy: 0.9168 - val_loss: 0.2537 - val_accuracy: 0.9020\n",
      "Epoch 70/100\n",
      "79/79 [==============================] - 1s 17ms/step - loss: 0.2202 - accuracy: 0.9072 - val_loss: 0.2252 - val_accuracy: 0.9080\n",
      "Epoch 71/100\n",
      "79/79 [==============================] - 1s 17ms/step - loss: 0.1905 - accuracy: 0.9168 - val_loss: 0.2178 - val_accuracy: 0.9076\n",
      "Epoch 72/100\n",
      "79/79 [==============================] - 1s 16ms/step - loss: 0.1821 - accuracy: 0.9200 - val_loss: 0.2085 - val_accuracy: 0.9148\n",
      "Epoch 73/100\n",
      "79/79 [==============================] - 1s 16ms/step - loss: 0.1796 - accuracy: 0.9212 - val_loss: 0.2063 - val_accuracy: 0.9144\n",
      "Epoch 74/100\n",
      "79/79 [==============================] - 1s 16ms/step - loss: 0.1788 - accuracy: 0.9208 - val_loss: 0.2463 - val_accuracy: 0.9036\n",
      "Epoch 75/100\n",
      "79/79 [==============================] - 1s 16ms/step - loss: 0.2008 - accuracy: 0.9124 - val_loss: 0.2044 - val_accuracy: 0.9152\n",
      "Epoch 76/100\n",
      "79/79 [==============================] - 1s 17ms/step - loss: 0.1832 - accuracy: 0.9188 - val_loss: 0.1908 - val_accuracy: 0.9148\n",
      "Epoch 77/100\n",
      "79/79 [==============================] - 1s 17ms/step - loss: 0.1703 - accuracy: 0.9180 - val_loss: 0.1777 - val_accuracy: 0.9192\n",
      "Epoch 78/100\n",
      "79/79 [==============================] - 1s 16ms/step - loss: 0.1604 - accuracy: 0.9208 - val_loss: 0.1795 - val_accuracy: 0.9184\n",
      "Epoch 79/100\n",
      "79/79 [==============================] - 1s 16ms/step - loss: 0.1563 - accuracy: 0.9228 - val_loss: 0.1728 - val_accuracy: 0.9216\n",
      "Epoch 80/100\n",
      "79/79 [==============================] - 1s 16ms/step - loss: 0.1494 - accuracy: 0.9292 - val_loss: 0.1687 - val_accuracy: 0.9216\n",
      "Epoch 81/100\n",
      "79/79 [==============================] - 1s 16ms/step - loss: 0.1447 - accuracy: 0.9288 - val_loss: 0.1683 - val_accuracy: 0.9280\n",
      "Epoch 82/100\n",
      "79/79 [==============================] - 1s 16ms/step - loss: 0.1430 - accuracy: 0.9352 - val_loss: 0.1585 - val_accuracy: 0.9276\n",
      "Epoch 83/100\n",
      "79/79 [==============================] - 1s 17ms/step - loss: 0.1410 - accuracy: 0.9340 - val_loss: 0.1470 - val_accuracy: 0.9312\n",
      "Epoch 84/100\n",
      "79/79 [==============================] - 1s 16ms/step - loss: 0.1342 - accuracy: 0.9476 - val_loss: 0.1449 - val_accuracy: 0.9388\n",
      "Epoch 85/100\n",
      "79/79 [==============================] - 1s 17ms/step - loss: 0.1263 - accuracy: 0.9524 - val_loss: 0.1402 - val_accuracy: 0.9448\n",
      "Epoch 86/100\n",
      "79/79 [==============================] - 1s 16ms/step - loss: 0.1198 - accuracy: 0.9616 - val_loss: 0.1357 - val_accuracy: 0.9536\n",
      "Epoch 87/100\n",
      "79/79 [==============================] - 1s 18ms/step - loss: 0.1176 - accuracy: 0.9616 - val_loss: 0.1291 - val_accuracy: 0.9560\n",
      "Epoch 88/100\n",
      "79/79 [==============================] - 1s 17ms/step - loss: 0.1119 - accuracy: 0.9708 - val_loss: 0.1284 - val_accuracy: 0.9596\n",
      "Epoch 89/100\n",
      "79/79 [==============================] - 1s 17ms/step - loss: 0.1069 - accuracy: 0.9744 - val_loss: 0.1232 - val_accuracy: 0.9632\n",
      "Epoch 90/100\n",
      "79/79 [==============================] - 1s 17ms/step - loss: 0.1023 - accuracy: 0.9752 - val_loss: 0.1200 - val_accuracy: 0.9636\n",
      "Epoch 91/100\n",
      "79/79 [==============================] - 1s 17ms/step - loss: 0.1066 - accuracy: 0.9728 - val_loss: 0.1192 - val_accuracy: 0.9656\n",
      "Epoch 92/100\n",
      "79/79 [==============================] - 1s 16ms/step - loss: 0.1005 - accuracy: 0.9768 - val_loss: 0.1128 - val_accuracy: 0.9688\n",
      "Epoch 93/100\n",
      "79/79 [==============================] - 1s 16ms/step - loss: 0.0948 - accuracy: 0.9776 - val_loss: 0.1105 - val_accuracy: 0.9684\n",
      "Epoch 94/100\n",
      "79/79 [==============================] - 1s 16ms/step - loss: 0.0914 - accuracy: 0.9816 - val_loss: 0.1037 - val_accuracy: 0.9688\n",
      "Epoch 95/100\n",
      "79/79 [==============================] - 1s 16ms/step - loss: 0.0874 - accuracy: 0.9804 - val_loss: 0.1045 - val_accuracy: 0.9716\n",
      "Epoch 96/100\n",
      "79/79 [==============================] - 1s 16ms/step - loss: 0.0860 - accuracy: 0.9784 - val_loss: 0.0979 - val_accuracy: 0.9696\n",
      "Epoch 97/100\n",
      "79/79 [==============================] - 1s 17ms/step - loss: 0.0866 - accuracy: 0.9788 - val_loss: 0.0975 - val_accuracy: 0.9716\n",
      "Epoch 98/100\n",
      "79/79 [==============================] - 1s 16ms/step - loss: 0.0785 - accuracy: 0.9840 - val_loss: 0.0937 - val_accuracy: 0.9712\n",
      "Epoch 99/100\n",
      "79/79 [==============================] - 1s 17ms/step - loss: 0.0742 - accuracy: 0.9824 - val_loss: 0.0940 - val_accuracy: 0.9728\n",
      "Epoch 100/100\n",
      "79/79 [==============================] - 1s 17ms/step - loss: 0.0747 - accuracy: 0.9824 - val_loss: 0.0905 - val_accuracy: 0.9740\n"
     ]
    }
   ],
   "source": [
    "# train\n",
    "r = model.fit(\n",
    "    inputs, Y,\n",
    "    epochs=100,\n",
    "#     epochs=200,\n",
    "#     epochs=400,\n",
    "    validation_split=0.5,\n",
    ")"
   ]
  },
  {
   "cell_type": "code",
   "execution_count": 114,
   "id": "48e42f32",
   "metadata": {},
   "outputs": [
    {
     "data": {
      "text/plain": [
       "<matplotlib.legend.Legend at 0x7f9291f08df0>"
      ]
     },
     "execution_count": 114,
     "metadata": {},
     "output_type": "execute_result"
    },
    {
     "data": {
      "image/png": "[encoded data removed]",
      "text/plain": [
       "<Figure size 432x288 with 1 Axes>"
      ]
     },
     "metadata": {
      "needs_background": "light"
     },
     "output_type": "display_data"
    }
   ],
   "source": [
    "# Plot the loss\n",
    "plt.plot(r.history['loss'], label='loss')\n",
    "plt.plot(r.history['val_loss'], label='val_loss')\n",
    "plt.legend()"
   ]
  },
  {
   "cell_type": "code",
   "execution_count": 115,
   "id": "269e3e3c",
   "metadata": {},
   "outputs": [
    {
     "data": {
      "text/plain": [
       "<matplotlib.legend.Legend at 0x7f925babc8b0>"
      ]
     },
     "execution_count": 115,
     "metadata": {},
     "output_type": "execute_result"
    },
    {
     "data": {
      "image/png": "[encoded data removed]",
      "text/plain": [
       "<Figure size 432x288 with 1 Axes>"
      ]
     },
     "metadata": {
      "needs_background": "light"
     },
     "output_type": "display_data"
    }
   ],
   "source": [
    "# Plot the accuracy too - should be around 50%\n",
    "plt.plot(r.history['accuracy'], label='acc')\n",
    "plt.plot(r.history['val_accuracy'], label='val_acc')\n",
    "plt.legend()"
   ]
  },
  {
   "cell_type": "code",
   "execution_count": null,
   "id": "6cb4b9d5",
   "metadata": {},
   "outputs": [],
   "source": []
  }
 ],
 "metadata": {
  "kernelspec": {
   "display_name": "Python 3 (ipykernel)",
   "language": "python",
   "name": "python3"
  },
  "language_info": {
   "codemirror_mode": {
    "name": "ipython",
    "version": 3
   },
   "file_extension": ".py",
   "mimetype": "text/x-python",
   "name": "python",
   "nbconvert_exporter": "python",
   "pygments_lexer": "ipython3",
   "version": "3.8.10"
  }
 },
 "nbformat": 4,
 "nbformat_minor": 5
}
