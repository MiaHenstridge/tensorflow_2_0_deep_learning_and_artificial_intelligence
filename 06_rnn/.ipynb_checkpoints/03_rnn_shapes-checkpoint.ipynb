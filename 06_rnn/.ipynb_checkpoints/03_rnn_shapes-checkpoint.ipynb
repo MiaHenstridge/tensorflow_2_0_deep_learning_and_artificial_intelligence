{
 "cells": [
  {
   "cell_type": "code",
   "execution_count": 1,
   "id": "af6c97b7",
   "metadata": {},
   "outputs": [
    {
     "name": "stderr",
     "output_type": "stream",
     "text": [
      "2024-07-18 11:00:30.956804: I tensorflow/core/util/port.cc:110] oneDNN custom operations are on. You may see slightly different numerical results due to floating-point round-off errors from different computation orders. To turn them off, set the environment variable `TF_ENABLE_ONEDNN_OPTS=0`.\n",
      "2024-07-18 11:00:31.062887: I tensorflow/core/platform/cpu_feature_guard.cc:182] This TensorFlow binary is optimized to use available CPU instructions in performance-critical operations.\n",
      "To enable the following instructions: AVX2 AVX512F AVX512_VNNI FMA, in other operations, rebuild TensorFlow with the appropriate compiler flags.\n",
      "2024-07-18 11:00:32.850057: W tensorflow/compiler/tf2tensorrt/utils/py_utils.cc:38] TF-TRT Warning: Could not find TensorRT\n"
     ]
    }
   ],
   "source": [
    "import tensorflow as tf\n",
    "import numpy as np\n",
    "import matplotlib.pyplot as plt\n",
    "\n",
    "from tensorflow.keras.layers import Input, SimpleRNN, Dense, Flatten\n",
    "from tensorflow.keras.models import Model\n",
    "from tensorflow.keras.optimizers import SGD, Adam"
   ]
  },
  {
   "cell_type": "code",
   "execution_count": 2,
   "id": "cf6f7593",
   "metadata": {},
   "outputs": [],
   "source": [
    "# Things you should automatically know and have memorized\n",
    "# N = number of samples\n",
    "# T = sequence length\n",
    "# D = number of input features\n",
    "# M = number of hidden units\n",
    "# K = number of output units"
   ]
  },
  {
   "cell_type": "markdown",
   "id": "b223bb5d",
   "metadata": {},
   "source": [
    "## Make some data"
   ]
  },
  {
   "cell_type": "code",
   "execution_count": 3,
   "id": "66c7568d",
   "metadata": {},
   "outputs": [],
   "source": [
    "N = 10\n",
    "T = 10\n",
    "D = 3\n",
    "K = 2\n",
    "X = np.random.randn(N,T,D)"
   ]
  },
  {
   "cell_type": "code",
   "execution_count": 4,
   "id": "bda737a4",
   "metadata": {},
   "outputs": [
    {
     "data": {
      "text/plain": [
       "array([[[ 6.80892133e-01, -1.81218014e+00,  1.31643101e+00],\n",
       "        [-1.62084512e+00,  4.18163033e-01, -1.27651966e-01],\n",
       "        [ 1.44434476e+00,  8.19397057e-01,  1.49047386e-01],\n",
       "        [-2.45397615e-01,  6.88907259e-01, -9.93367961e-01],\n",
       "        [ 1.62774036e+00, -2.32844830e-01, -8.95853854e-01],\n",
       "        [-3.77126965e-01, -2.60229899e-01,  1.43042767e-01],\n",
       "        [-1.29682010e+00, -2.06536800e-01,  1.49363284e+00],\n",
       "        [-7.82836107e-01, -2.29982089e-01, -6.01258279e-01],\n",
       "        [-7.83215704e-01, -1.47299803e+00,  1.89134997e-01],\n",
       "        [-4.85465118e-01, -5.40832025e-01, -1.67319371e+00]],\n",
       "\n",
       "       [[-7.04758216e-01,  2.83218970e-01,  1.08471644e+00],\n",
       "        [-5.74729431e-01,  2.05754087e-01, -1.43763236e-01],\n",
       "        [-1.11982155e+00, -2.68352887e-02,  5.33907165e-01],\n",
       "        [-1.38301261e+00, -1.44117224e-01,  7.46450427e-02],\n",
       "        [ 5.22888813e-01,  3.51875416e-02,  2.37998593e+00],\n",
       "        [ 1.89717120e+00,  5.97589336e-01,  7.88384087e-01],\n",
       "        [ 8.35194941e-01, -1.61649434e+00, -1.61551363e+00],\n",
       "        [ 2.70317663e-01, -5.22238051e-01, -3.26092477e-02],\n",
       "        [ 2.13809366e+00, -1.82383186e+00, -7.15767601e-01],\n",
       "        [ 4.56199913e-01, -4.89977881e-01, -1.03718026e+00]],\n",
       "\n",
       "       [[ 3.08379786e-01,  1.06356855e+00, -9.92759211e-01],\n",
       "        [ 2.62177374e-01,  1.00487118e-01, -1.74034746e+00],\n",
       "        [-1.15403270e+00,  3.42442400e-01,  8.61175616e-01],\n",
       "        [-4.56792070e-01, -5.32889278e-01, -3.86331329e-01],\n",
       "        [-1.08551512e-01,  4.64652807e-01,  9.84466026e-01],\n",
       "        [ 8.27183589e-01, -7.96283936e-01,  7.00034226e-01],\n",
       "        [-2.89566579e-01, -1.13590438e+00,  3.49501387e-01],\n",
       "        [ 2.86587879e-01, -5.69878925e-02,  1.11987278e-01],\n",
       "        [ 2.32908820e-01, -1.30893109e+00,  1.54752895e-01],\n",
       "        [ 2.57989477e-01,  5.87916229e-01, -9.15308092e-01]],\n",
       "\n",
       "       [[ 1.26912747e+00,  6.48476305e-01, -3.61405141e-01],\n",
       "        [-7.55289576e-02,  2.41179463e-01, -1.37660249e+00],\n",
       "        [ 1.65264672e+00, -1.54942193e+00,  1.20799448e-01],\n",
       "        [-3.14864692e-01,  1.09450165e+00,  4.72295536e-01],\n",
       "        [ 9.02258031e-01,  6.24279001e-02,  1.59858192e-03],\n",
       "        [ 1.22681286e+00, -9.91044195e-01, -9.40088154e-01],\n",
       "        [ 5.57722546e-02,  9.16311450e-01, -1.05335265e+00],\n",
       "        [-4.00864337e-01, -9.66196060e-01,  2.57856442e-01],\n",
       "        [ 1.36489777e+00,  5.72406952e-01,  3.95936266e-02],\n",
       "        [-2.54341508e-01, -7.69111607e-01,  1.16845922e+00]],\n",
       "\n",
       "       [[-4.08348367e-01,  4.13636926e-01,  6.49862310e-01],\n",
       "        [ 4.66433459e-01,  3.00038066e-01, -9.98460918e-01],\n",
       "        [ 2.70722712e-01, -1.46946787e+00,  1.17797026e-01],\n",
       "        [-9.06300312e-01, -7.16948051e-01, -1.53527491e+00],\n",
       "        [-9.27001585e-01,  7.41640930e-01,  3.82260625e-01],\n",
       "        [ 1.03786315e+00, -7.31839794e-01, -7.95370130e-01],\n",
       "        [ 9.46995412e-01, -4.82326829e-01,  1.17771669e+00],\n",
       "        [ 1.21027525e+00, -8.92269990e-01, -4.11116918e-01],\n",
       "        [ 1.84062771e+00, -1.22078619e+00, -3.25962882e-01],\n",
       "        [ 1.06891191e+00, -6.04926470e-02,  2.83666176e-01]],\n",
       "\n",
       "       [[-1.15477618e+00, -1.04981857e+00, -2.59976355e+00],\n",
       "        [-4.96179091e-02,  1.45428043e+00,  9.70212278e-01],\n",
       "        [ 7.81794833e-02, -2.21069492e+00,  2.94065213e-01],\n",
       "        [-1.54072651e-02, -1.73597700e-01,  1.24293136e+00],\n",
       "        [ 9.45379795e-01,  1.26451574e-01,  7.35998672e-01],\n",
       "        [ 4.66685302e-01, -1.45106709e-01,  2.96949394e-01],\n",
       "        [ 7.86356672e-01, -3.98626718e-01, -1.38122390e+00],\n",
       "        [-2.31235992e-01,  5.82279637e-01, -1.04215241e+00],\n",
       "        [ 1.75546110e-01,  3.99425576e-01, -3.24486547e-01],\n",
       "        [ 1.45714477e+00, -1.66190135e+00, -4.51373865e-01]],\n",
       "\n",
       "       [[-3.83092770e-01,  2.15669105e+00, -1.90620622e+00],\n",
       "        [ 5.79859771e-01,  5.52103651e-01,  8.99321343e-01],\n",
       "        [ 4.32519970e-01, -9.46887482e-01, -1.42974201e+00],\n",
       "        [-1.40489279e+00, -1.24479254e+00,  8.24663354e-01],\n",
       "        [ 1.35924806e+00, -8.82057783e-01, -4.09831829e-01],\n",
       "        [ 8.56625531e-01, -1.15729501e+00, -2.49984276e-01],\n",
       "        [ 2.50557854e+00,  7.09199787e-01,  1.77502069e+00],\n",
       "        [ 2.51667852e-01,  1.75467708e+00,  8.78032647e-01],\n",
       "        [ 1.34418464e-01,  5.69866012e-01, -1.13386692e+00],\n",
       "        [ 5.19840197e-03,  4.72574822e-01,  1.25436577e+00]],\n",
       "\n",
       "       [[ 1.31188868e+00,  2.39134243e+00, -6.48632765e-01],\n",
       "        [-5.30905301e-01, -3.80092766e-01, -4.04312297e-01],\n",
       "        [-5.57350674e-01, -7.11615051e-01, -1.89117018e+00],\n",
       "        [ 9.14206669e-01, -1.42659640e+00,  3.81869642e-01],\n",
       "        [ 2.80952198e-01, -2.31856191e+00,  1.84403208e-01],\n",
       "        [-2.60741124e-01, -3.06830044e-01,  4.33529821e-01],\n",
       "        [-2.05837391e+00,  1.95732851e+00,  5.09358052e-01],\n",
       "        [-1.23920157e-01,  7.27807861e-01,  7.42878157e-01],\n",
       "        [-1.43355484e+00,  2.59603712e+00, -4.50222027e-01],\n",
       "        [ 7.68734576e-01,  1.04434464e+00,  8.73247057e-01]],\n",
       "\n",
       "       [[-8.38557926e-02, -3.70790245e-01,  8.60650798e-01],\n",
       "        [ 1.32788217e-01, -8.64410159e-01,  1.40652889e+00],\n",
       "        [ 1.46126184e+00, -4.11477463e-01,  6.39251053e-01],\n",
       "        [ 1.07466618e+00,  1.47241887e+00,  4.14604781e-01],\n",
       "        [ 1.03774987e+00, -1.39137245e+00, -9.38299536e-01],\n",
       "        [-1.12785160e+00, -8.80766981e-01, -8.09674450e-01],\n",
       "        [ 2.79450129e+00,  7.98891386e-01,  9.46483635e-01],\n",
       "        [-7.74561775e-01, -1.53700316e+00,  1.35674154e+00],\n",
       "        [ 8.62674008e-01, -1.77510319e+00, -3.88859306e-02],\n",
       "        [-6.14542440e-01,  4.06924382e-01,  4.74380401e-01]],\n",
       "\n",
       "       [[ 1.07877607e+00, -1.27913178e+00,  6.12917717e-01],\n",
       "        [-1.60906301e+00,  1.56686994e+00, -1.19826965e+00],\n",
       "        [ 9.32445120e-01, -1.33361191e+00,  3.91229958e-01],\n",
       "        [-3.25558685e-01, -8.49219170e-01, -1.08999171e-01],\n",
       "        [ 5.44205688e-01, -9.26813933e-01, -1.78853220e+00],\n",
       "        [ 1.76713131e+00,  4.45680854e-01,  4.33098567e-01],\n",
       "        [ 4.86878367e-01, -1.73867347e+00, -3.88669390e-01],\n",
       "        [ 4.61879425e-01, -5.43365340e-02, -1.99803493e-01],\n",
       "        [-9.37917618e-01,  7.15655680e-01,  1.11775985e+00],\n",
       "        [-2.40294456e-02,  8.59977541e-02,  6.38891780e-01]]])"
      ]
     },
     "execution_count": 4,
     "metadata": {},
     "output_type": "execute_result"
    }
   ],
   "source": [
    "X"
   ]
  },
  {
   "cell_type": "markdown",
   "id": "e549acfe",
   "metadata": {},
   "source": [
    "## Make an RNN"
   ]
  },
  {
   "cell_type": "code",
   "execution_count": 5,
   "id": "c23fbe08",
   "metadata": {},
   "outputs": [
    {
     "name": "stderr",
     "output_type": "stream",
     "text": [
      "2024-07-18 11:00:37.161713: W tensorflow/core/common_runtime/gpu/gpu_device.cc:1960] Cannot dlopen some GPU libraries. Please make sure the missing libraries mentioned above are installed properly if you would like to use GPU. Follow the guide at https://www.tensorflow.org/install/gpu for how to download and setup the required libraries for your platform.\n",
      "Skipping registering GPU devices...\n"
     ]
    }
   ],
   "source": [
    "M = 5    # number of hidden units\n",
    "\n",
    "i = Input(shape=(T, D))\n",
    "x = SimpleRNN(M)(i)\n",
    "x = Dense(K)(x)\n",
    "\n",
    "model = Model(i, x)"
   ]
  },
  {
   "cell_type": "code",
   "execution_count": 6,
   "id": "eb5f8d7d",
   "metadata": {},
   "outputs": [
    {
     "name": "stdout",
     "output_type": "stream",
     "text": [
      "1/1 [==============================] - 1s 646ms/step\n",
      "[[-0.5289109   1.6421328 ]\n",
      " [-0.48574176  0.9382361 ]\n",
      " [ 0.18438049  0.3460279 ]\n",
      " [ 0.02113365 -0.6390489 ]\n",
      " [ 0.06394221 -1.0477499 ]\n",
      " [ 1.3379334   0.36301115]\n",
      " [ 0.49630532 -1.1265892 ]\n",
      " [ 1.2316301  -0.97678185]\n",
      " [-1.3719473  -0.4308273 ]\n",
      " [-0.07336175 -0.5118206 ]]\n"
     ]
    }
   ],
   "source": [
    "# Get the output\n",
    "Yhat = model.predict(X)\n",
    "print(Yhat)"
   ]
  },
  {
   "cell_type": "code",
   "execution_count": 7,
   "id": "397aecf9",
   "metadata": {},
   "outputs": [
    {
     "name": "stdout",
     "output_type": "stream",
     "text": [
      "Model: \"model\"\n",
      "_________________________________________________________________\n",
      " Layer (type)                Output Shape              Param #   \n",
      "=================================================================\n",
      " input_1 (InputLayer)        [(None, 10, 3)]           0         \n",
      "                                                                 \n",
      " simple_rnn (SimpleRNN)      (None, 5)                 45        \n",
      "                                                                 \n",
      " dense (Dense)               (None, 2)                 12        \n",
      "                                                                 \n",
      "=================================================================\n",
      "Total params: 57 (228.00 Byte)\n",
      "Trainable params: 57 (228.00 Byte)\n",
      "Non-trainable params: 0 (0.00 Byte)\n",
      "_________________________________________________________________\n"
     ]
    }
   ],
   "source": [
    "model.summary()"
   ]
  },
  {
   "cell_type": "code",
   "execution_count": 8,
   "id": "81029ed7",
   "metadata": {},
   "outputs": [
    {
     "data": {
      "text/plain": [
       "[array([[-0.8273862 , -0.7702465 ,  0.46701604,  0.20238537,  0.47578102],\n",
       "        [-0.7400462 , -0.5104808 , -0.6698031 , -0.03079146,  0.81291586],\n",
       "        [-0.30824572, -0.27493382, -0.43298814,  0.57565325,  0.5246926 ]],\n",
       "       dtype=float32),\n",
       " array([[ 0.3747121 ,  0.8115034 ,  0.08870562, -0.39028996,  0.2021338 ],\n",
       "        [-0.05539299, -0.14604956,  0.16138628,  0.1761847 ,  0.95839167],\n",
       "        [ 0.87945676, -0.27299482, -0.32397497,  0.21560796,  0.02414803],\n",
       "        [-0.2859345 ,  0.19416578, -0.9232948 ,  0.00605699,  0.16742525],\n",
       "        [ 0.0363282 , -0.45596626, -0.09302066, -0.87755865,  0.10960374]],\n",
       "       dtype=float32),\n",
       " array([0., 0., 0., 0., 0.], dtype=float32)]"
      ]
     },
     "execution_count": 8,
     "metadata": {},
     "output_type": "execute_result"
    }
   ],
   "source": [
    "# See what's returned\n",
    "model.layers[1].get_weights()"
   ]
  },
  {
   "cell_type": "code",
   "execution_count": 9,
   "id": "571b7e37",
   "metadata": {},
   "outputs": [
    {
     "name": "stdout",
     "output_type": "stream",
     "text": [
      "(3, 5) (5, 5) (5,)\n"
     ]
    }
   ],
   "source": [
    "# Check their shapes\n",
    "# Should make sense\n",
    "# First output is input > hidden\n",
    "# Second output is hidden > hidden\n",
    "# Third output is bias term (vector of length M)\n",
    "a, b, c = model.layers[1].get_weights()\n",
    "print(a.shape, b.shape, c.shape)"
   ]
  },
  {
   "cell_type": "code",
   "execution_count": 10,
   "id": "958790ce",
   "metadata": {},
   "outputs": [],
   "source": [
    "Wx, Wh, bh = model.layers[1].get_weights()\n",
    "Wo, bo = model.layers[2].get_weights()"
   ]
  },
  {
   "cell_type": "code",
   "execution_count": 11,
   "id": "a7340b4c",
   "metadata": {
    "scrolled": true
   },
   "outputs": [
    {
     "data": {
      "text/plain": [
       "((3, 5), (5, 5), (5,))"
      ]
     },
     "execution_count": 11,
     "metadata": {},
     "output_type": "execute_result"
    }
   ],
   "source": [
    "Wx.shape, Wh.shape, bh.shape"
   ]
  },
  {
   "cell_type": "code",
   "execution_count": 12,
   "id": "33314136",
   "metadata": {},
   "outputs": [
    {
     "data": {
      "text/plain": [
       "((5, 2), (2,))"
      ]
     },
     "execution_count": 12,
     "metadata": {},
     "output_type": "execute_result"
    }
   ],
   "source": [
    "Wo.shape, bo.shape"
   ]
  },
  {
   "cell_type": "code",
   "execution_count": 13,
   "id": "9f2099a2",
   "metadata": {},
   "outputs": [
    {
     "name": "stdout",
     "output_type": "stream",
     "text": [
      "[array([-0.52891097,  1.64213284]), array([-0.48423531,  0.93804988]), array([0.18084086, 0.3866797 ]), array([ 0.03302102, -0.63677746]), array([ 0.05912491, -1.03611303]), array([1.33970671, 0.3498177 ]), array([ 0.49655873, -1.12667478]), array([ 1.23056202, -0.97833903]), array([-1.37195009, -0.43095558]), array([-0.0698414 , -0.52032083])]\n"
     ]
    }
   ],
   "source": [
    "h_last = np.zeros(M) # initial hidden state\n",
    "# x = X[0] # the one and only sample\n",
    "Yhats = [] # where we store the outputs\n",
    "\n",
    "for i in range(len(X)):\n",
    "    x = X[i]\n",
    "    for t in range(T):\n",
    "        h = np.tanh(x[t].dot(Wx) + h_last.dot(Wh) + bh)\n",
    "        y = h.dot(Wo) + bo # we only care about this value on the last iteration\n",
    "        \n",
    "        # important: assign h to h_last\n",
    "        h_last = h\n",
    "    Yhats.append(y)\n",
    "\n",
    "    \n",
    "# print the final output\n",
    "print(Yhats)"
   ]
  },
  {
   "cell_type": "code",
   "execution_count": null,
   "id": "509574ae",
   "metadata": {},
   "outputs": [],
   "source": []
  }
 ],
 "metadata": {
  "kernelspec": {
   "display_name": "Python 3 (ipykernel)",
   "language": "python",
   "name": "python3"
  },
  "language_info": {
   "codemirror_mode": {
    "name": "ipython",
    "version": 3
   },
   "file_extension": ".py",
   "mimetype": "text/x-python",
   "name": "python",
   "nbconvert_exporter": "python",
   "pygments_lexer": "ipython3",
   "version": "3.9.13"
  }
 },
 "nbformat": 4,
 "nbformat_minor": 5
}
