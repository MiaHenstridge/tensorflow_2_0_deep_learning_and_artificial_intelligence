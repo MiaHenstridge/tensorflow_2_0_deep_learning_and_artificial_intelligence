{
 "cells": [
  {
   "cell_type": "code",
   "execution_count": 1,
   "id": "44e0f09e",
   "metadata": {},
   "outputs": [],
   "source": [
    "import tensorflow as tf\n",
    "\n",
    "# load in the data\n",
    "from sklearn.datasets import load_breast_cancer\n",
    "\n",
    "from sklearn.model_selection import train_test_split\n",
    "from sklearn.preprocessing import StandardScaler"
   ]
  },
  {
   "cell_type": "markdown",
   "id": "a4b5e9fb",
   "metadata": {},
   "source": [
    "## Inspect dataset"
   ]
  },
  {
   "cell_type": "code",
   "execution_count": 2,
   "id": "3e095214",
   "metadata": {},
   "outputs": [],
   "source": [
    "data = load_breast_cancer()"
   ]
  },
  {
   "cell_type": "code",
   "execution_count": 3,
   "id": "7d1e5365",
   "metadata": {},
   "outputs": [
    {
     "data": {
      "text/plain": [
       "sklearn.utils._bunch.Bunch"
      ]
     },
     "execution_count": 3,
     "metadata": {},
     "output_type": "execute_result"
    }
   ],
   "source": [
    "type(data)"
   ]
  },
  {
   "cell_type": "code",
   "execution_count": 4,
   "id": "fa3faa88",
   "metadata": {},
   "outputs": [
    {
     "data": {
      "text/plain": [
       "dict_keys(['data', 'target', 'frame', 'target_names', 'DESCR', 'feature_names', 'filename', 'data_module'])"
      ]
     },
     "execution_count": 4,
     "metadata": {},
     "output_type": "execute_result"
    }
   ],
   "source": [
    "data.keys()"
   ]
  },
  {
   "cell_type": "code",
   "execution_count": 5,
   "id": "a4f090dc",
   "metadata": {},
   "outputs": [
    {
     "data": {
      "text/plain": [
       "(569, 30)"
      ]
     },
     "execution_count": 5,
     "metadata": {},
     "output_type": "execute_result"
    }
   ],
   "source": [
    "data.data.shape"
   ]
  },
  {
   "cell_type": "code",
   "execution_count": 6,
   "id": "b606a0d8",
   "metadata": {},
   "outputs": [
    {
     "data": {
      "text/plain": [
       "(569,)"
      ]
     },
     "execution_count": 6,
     "metadata": {},
     "output_type": "execute_result"
    }
   ],
   "source": [
    "data.target.shape"
   ]
  },
  {
   "cell_type": "code",
   "execution_count": 7,
   "id": "a17a6b35",
   "metadata": {},
   "outputs": [
    {
     "data": {
      "text/plain": [
       "array(['malignant', 'benign'], dtype='<U9')"
      ]
     },
     "execution_count": 7,
     "metadata": {},
     "output_type": "execute_result"
    }
   ],
   "source": [
    "data.target_names"
   ]
  },
  {
   "cell_type": "code",
   "execution_count": 8,
   "id": "68ddb438",
   "metadata": {},
   "outputs": [
    {
     "data": {
      "text/plain": [
       "array(['mean radius', 'mean texture', 'mean perimeter', 'mean area',\n",
       "       'mean smoothness', 'mean compactness', 'mean concavity',\n",
       "       'mean concave points', 'mean symmetry', 'mean fractal dimension',\n",
       "       'radius error', 'texture error', 'perimeter error', 'area error',\n",
       "       'smoothness error', 'compactness error', 'concavity error',\n",
       "       'concave points error', 'symmetry error',\n",
       "       'fractal dimension error', 'worst radius', 'worst texture',\n",
       "       'worst perimeter', 'worst area', 'worst smoothness',\n",
       "       'worst compactness', 'worst concavity', 'worst concave points',\n",
       "       'worst symmetry', 'worst fractal dimension'], dtype='<U23')"
      ]
     },
     "execution_count": 8,
     "metadata": {},
     "output_type": "execute_result"
    }
   ],
   "source": [
    "data.feature_names"
   ]
  },
  {
   "cell_type": "markdown",
   "id": "d74ae953",
   "metadata": {},
   "source": [
    "## Train test split"
   ]
  },
  {
   "cell_type": "code",
   "execution_count": 9,
   "id": "3f957177",
   "metadata": {},
   "outputs": [],
   "source": [
    "RANDOM_SEED = 42"
   ]
  },
  {
   "cell_type": "code",
   "execution_count": 10,
   "id": "fb79dfee",
   "metadata": {},
   "outputs": [],
   "source": [
    "X_train, X_test, y_train, y_test = train_test_split(data.data, \n",
    "                                                    data.target, \n",
    "                                                    test_size=0.33, \n",
    "                                                    random_state=RANDOM_SEED)"
   ]
  },
  {
   "cell_type": "code",
   "execution_count": 11,
   "id": "ce5e55e6",
   "metadata": {},
   "outputs": [
    {
     "data": {
      "text/plain": [
       "((381, 30), (188, 30))"
      ]
     },
     "execution_count": 11,
     "metadata": {},
     "output_type": "execute_result"
    }
   ],
   "source": [
    "X_train.shape, X_test.shape"
   ]
  },
  {
   "cell_type": "code",
   "execution_count": 12,
   "id": "4bf0fdb5",
   "metadata": {},
   "outputs": [
    {
     "data": {
      "text/plain": [
       "((381,), (188,))"
      ]
     },
     "execution_count": 12,
     "metadata": {},
     "output_type": "execute_result"
    }
   ],
   "source": [
    "y_train.shape, y_test.shape"
   ]
  },
  {
   "cell_type": "code",
   "execution_count": 13,
   "id": "4d6a738e",
   "metadata": {},
   "outputs": [],
   "source": [
    "N, D = X_train.shape"
   ]
  },
  {
   "cell_type": "markdown",
   "id": "0412c6fa",
   "metadata": {},
   "source": [
    "## Scale data"
   ]
  },
  {
   "cell_type": "code",
   "execution_count": 14,
   "id": "f74ea8eb",
   "metadata": {},
   "outputs": [],
   "source": [
    "# create a scaler to scale the data\n",
    "scaler = StandardScaler()"
   ]
  },
  {
   "cell_type": "code",
   "execution_count": 15,
   "id": "8089ab92",
   "metadata": {},
   "outputs": [],
   "source": [
    "# fit and scale the train data\n",
    "X_train = scaler.fit_transform(X_train)\n",
    "\n",
    "# transform the test data\n",
    "X_test = scaler.transform(X_test)"
   ]
  },
  {
   "cell_type": "code",
   "execution_count": 16,
   "id": "6bddc8ef",
   "metadata": {},
   "outputs": [
    {
     "data": {
      "text/plain": [
       "array([[ 0.35581987, -1.72664707,  0.41303118, ...,  1.05652305,\n",
       "         0.51844283,  0.98925483],\n",
       "       [-0.37326674,  0.50881308, -0.39469992, ..., -0.89667412,\n",
       "        -0.63236707, -0.11469617],\n",
       "       [ 1.4033581 , -0.15144941,  1.34799923, ...,  1.46353548,\n",
       "         1.02587412, -0.03369823],\n",
       "       ...,\n",
       "       [ 0.02898794, -0.56411347, -0.0829084 , ..., -1.2463348 ,\n",
       "        -0.67979055, -1.26509354],\n",
       "       [-0.05760855,  0.09614902, -0.04957475, ...,  1.05652305,\n",
       "         0.45995387,  1.24414347],\n",
       "       [-0.5604269 ,  0.30837625, -0.61462066, ..., -0.6145405 ,\n",
       "        -0.30672581, -0.8357478 ]])"
      ]
     },
     "execution_count": 16,
     "metadata": {},
     "output_type": "execute_result"
    }
   ],
   "source": [
    "X_train"
   ]
  },
  {
   "cell_type": "markdown",
   "id": "a82d764c",
   "metadata": {},
   "source": [
    "## Create model"
   ]
  },
  {
   "cell_type": "code",
   "execution_count": 17,
   "id": "03f28784",
   "metadata": {},
   "outputs": [],
   "source": [
    "# create model using tf\n",
    "model = tf.keras.models.Sequential([\n",
    "    tf.keras.layers.Input(shape=(D,)),\n",
    "    tf.keras.layers.Dense(units=1, activation='sigmoid'),\n",
    "])"
   ]
  },
  {
   "cell_type": "code",
   "execution_count": 18,
   "id": "d4a8c9ef",
   "metadata": {},
   "outputs": [
    {
     "data": {
      "text/plain": [
       "[<keras.layers.core.dense.Dense at 0x22e1579dd60>]"
      ]
     },
     "execution_count": 18,
     "metadata": {},
     "output_type": "execute_result"
    }
   ],
   "source": [
    "model.layers"
   ]
  },
  {
   "cell_type": "code",
   "execution_count": 19,
   "id": "f462d596",
   "metadata": {},
   "outputs": [],
   "source": [
    "# alternative way to create model\n",
    "# model_seq = tf.keras.models.Sequential()\n",
    "# model_seq.add(tf.keras.layers.Dense(units=1, activation='sigmoid'))"
   ]
  },
  {
   "cell_type": "markdown",
   "id": "2c5f5789",
   "metadata": {},
   "source": [
    "## Compile the model"
   ]
  },
  {
   "cell_type": "code",
   "execution_count": 20,
   "id": "049be6ea",
   "metadata": {},
   "outputs": [],
   "source": [
    "# compile the model\n",
    "model.compile(optimizer='adam',\n",
    "             loss='binary_crossentropy',\n",
    "             metrics=['accuracy'])"
   ]
  },
  {
   "cell_type": "markdown",
   "id": "d9a9410b",
   "metadata": {},
   "source": [
    "## Train the model"
   ]
  },
  {
   "cell_type": "code",
   "execution_count": 21,
   "id": "2b892f5a",
   "metadata": {},
   "outputs": [
    {
     "name": "stdout",
     "output_type": "stream",
     "text": [
      "Epoch 1/100\n",
      "12/12 [==============================] - 0s 11ms/step - loss: 0.4813 - accuracy: 0.7874 - val_loss: 0.4643 - val_accuracy: 0.7713\n",
      "Epoch 2/100\n",
      "12/12 [==============================] - 0s 3ms/step - loss: 0.4396 - accuracy: 0.8084 - val_loss: 0.4286 - val_accuracy: 0.8032\n",
      "Epoch 3/100\n",
      "12/12 [==============================] - 0s 3ms/step - loss: 0.4054 - accuracy: 0.8399 - val_loss: 0.3985 - val_accuracy: 0.8191\n",
      "Epoch 4/100\n",
      "12/12 [==============================] - 0s 2ms/step - loss: 0.3769 - accuracy: 0.8556 - val_loss: 0.3731 - val_accuracy: 0.8511\n",
      "Epoch 5/100\n",
      "12/12 [==============================] - 0s 2ms/step - loss: 0.3523 - accuracy: 0.8688 - val_loss: 0.3517 - val_accuracy: 0.8670\n",
      "Epoch 6/100\n",
      "12/12 [==============================] - 0s 2ms/step - loss: 0.3321 - accuracy: 0.8819 - val_loss: 0.3331 - val_accuracy: 0.8723\n",
      "Epoch 7/100\n",
      "12/12 [==============================] - 0s 2ms/step - loss: 0.3141 - accuracy: 0.8871 - val_loss: 0.3169 - val_accuracy: 0.8883\n",
      "Epoch 8/100\n",
      "12/12 [==============================] - 0s 3ms/step - loss: 0.2985 - accuracy: 0.8950 - val_loss: 0.3028 - val_accuracy: 0.8936\n",
      "Epoch 9/100\n",
      "12/12 [==============================] - 0s 3ms/step - loss: 0.2855 - accuracy: 0.9003 - val_loss: 0.2897 - val_accuracy: 0.8989\n",
      "Epoch 10/100\n",
      "12/12 [==============================] - 0s 2ms/step - loss: 0.2729 - accuracy: 0.9134 - val_loss: 0.2786 - val_accuracy: 0.8989\n",
      "Epoch 11/100\n",
      "12/12 [==============================] - 0s 3ms/step - loss: 0.2627 - accuracy: 0.9134 - val_loss: 0.2679 - val_accuracy: 0.9096\n",
      "Epoch 12/100\n",
      "12/12 [==============================] - 0s 2ms/step - loss: 0.2529 - accuracy: 0.9134 - val_loss: 0.2586 - val_accuracy: 0.9096\n",
      "Epoch 13/100\n",
      "12/12 [==============================] - 0s 3ms/step - loss: 0.2447 - accuracy: 0.9160 - val_loss: 0.2498 - val_accuracy: 0.9202\n",
      "Epoch 14/100\n",
      "12/12 [==============================] - 0s 2ms/step - loss: 0.2366 - accuracy: 0.9186 - val_loss: 0.2420 - val_accuracy: 0.9202\n",
      "Epoch 15/100\n",
      "12/12 [==============================] - 0s 3ms/step - loss: 0.2297 - accuracy: 0.9213 - val_loss: 0.2346 - val_accuracy: 0.9202\n",
      "Epoch 16/100\n",
      "12/12 [==============================] - 0s 2ms/step - loss: 0.2231 - accuracy: 0.9265 - val_loss: 0.2280 - val_accuracy: 0.9202\n",
      "Epoch 17/100\n",
      "12/12 [==============================] - 0s 2ms/step - loss: 0.2170 - accuracy: 0.9291 - val_loss: 0.2218 - val_accuracy: 0.9202\n",
      "Epoch 18/100\n",
      "12/12 [==============================] - 0s 2ms/step - loss: 0.2117 - accuracy: 0.9291 - val_loss: 0.2157 - val_accuracy: 0.9202\n",
      "Epoch 19/100\n",
      "12/12 [==============================] - 0s 2ms/step - loss: 0.2064 - accuracy: 0.9291 - val_loss: 0.2101 - val_accuracy: 0.9202\n",
      "Epoch 20/100\n",
      "12/12 [==============================] - 0s 2ms/step - loss: 0.2015 - accuracy: 0.9318 - val_loss: 0.2050 - val_accuracy: 0.9202\n",
      "Epoch 21/100\n",
      "12/12 [==============================] - 0s 3ms/step - loss: 0.1970 - accuracy: 0.9370 - val_loss: 0.2000 - val_accuracy: 0.9202\n",
      "Epoch 22/100\n",
      "12/12 [==============================] - 0s 3ms/step - loss: 0.1929 - accuracy: 0.9370 - val_loss: 0.1953 - val_accuracy: 0.9202\n",
      "Epoch 23/100\n",
      "12/12 [==============================] - 0s 3ms/step - loss: 0.1888 - accuracy: 0.9370 - val_loss: 0.1908 - val_accuracy: 0.9202\n",
      "Epoch 24/100\n",
      "12/12 [==============================] - 0s 3ms/step - loss: 0.1849 - accuracy: 0.9370 - val_loss: 0.1868 - val_accuracy: 0.9202\n",
      "Epoch 25/100\n",
      "12/12 [==============================] - 0s 3ms/step - loss: 0.1815 - accuracy: 0.9370 - val_loss: 0.1828 - val_accuracy: 0.9255\n",
      "Epoch 26/100\n",
      "12/12 [==============================] - 0s 3ms/step - loss: 0.1780 - accuracy: 0.9370 - val_loss: 0.1790 - val_accuracy: 0.9255\n",
      "Epoch 27/100\n",
      "12/12 [==============================] - 0s 3ms/step - loss: 0.1749 - accuracy: 0.9370 - val_loss: 0.1752 - val_accuracy: 0.9255\n",
      "Epoch 28/100\n",
      "12/12 [==============================] - 0s 3ms/step - loss: 0.1717 - accuracy: 0.9370 - val_loss: 0.1719 - val_accuracy: 0.9255\n",
      "Epoch 29/100\n",
      "12/12 [==============================] - 0s 2ms/step - loss: 0.1689 - accuracy: 0.9396 - val_loss: 0.1685 - val_accuracy: 0.9415\n",
      "Epoch 30/100\n",
      "12/12 [==============================] - 0s 2ms/step - loss: 0.1660 - accuracy: 0.9423 - val_loss: 0.1655 - val_accuracy: 0.9415\n",
      "Epoch 31/100\n",
      "12/12 [==============================] - 0s 3ms/step - loss: 0.1635 - accuracy: 0.9423 - val_loss: 0.1624 - val_accuracy: 0.9415\n",
      "Epoch 32/100\n",
      "12/12 [==============================] - 0s 2ms/step - loss: 0.1610 - accuracy: 0.9423 - val_loss: 0.1595 - val_accuracy: 0.9362\n",
      "Epoch 33/100\n",
      "12/12 [==============================] - 0s 3ms/step - loss: 0.1584 - accuracy: 0.9449 - val_loss: 0.1568 - val_accuracy: 0.9362\n",
      "Epoch 34/100\n",
      "12/12 [==============================] - 0s 3ms/step - loss: 0.1563 - accuracy: 0.9475 - val_loss: 0.1542 - val_accuracy: 0.9362\n",
      "Epoch 35/100\n",
      "12/12 [==============================] - 0s 3ms/step - loss: 0.1540 - accuracy: 0.9475 - val_loss: 0.1516 - val_accuracy: 0.9362\n",
      "Epoch 36/100\n",
      "12/12 [==============================] - 0s 3ms/step - loss: 0.1519 - accuracy: 0.9501 - val_loss: 0.1491 - val_accuracy: 0.9362\n",
      "Epoch 37/100\n",
      "12/12 [==============================] - 0s 2ms/step - loss: 0.1498 - accuracy: 0.9501 - val_loss: 0.1469 - val_accuracy: 0.9521\n",
      "Epoch 38/100\n",
      "12/12 [==============================] - 0s 2ms/step - loss: 0.1479 - accuracy: 0.9501 - val_loss: 0.1446 - val_accuracy: 0.9521\n",
      "Epoch 39/100\n",
      "12/12 [==============================] - 0s 2ms/step - loss: 0.1461 - accuracy: 0.9501 - val_loss: 0.1424 - val_accuracy: 0.9521\n",
      "Epoch 40/100\n",
      "12/12 [==============================] - 0s 2ms/step - loss: 0.1442 - accuracy: 0.9501 - val_loss: 0.1403 - val_accuracy: 0.9521\n",
      "Epoch 41/100\n",
      "12/12 [==============================] - 0s 2ms/step - loss: 0.1425 - accuracy: 0.9528 - val_loss: 0.1384 - val_accuracy: 0.9574\n",
      "Epoch 42/100\n",
      "12/12 [==============================] - 0s 2ms/step - loss: 0.1408 - accuracy: 0.9554 - val_loss: 0.1365 - val_accuracy: 0.9574\n",
      "Epoch 43/100\n",
      "12/12 [==============================] - 0s 3ms/step - loss: 0.1391 - accuracy: 0.9554 - val_loss: 0.1347 - val_accuracy: 0.9574\n",
      "Epoch 44/100\n",
      "12/12 [==============================] - 0s 2ms/step - loss: 0.1377 - accuracy: 0.9554 - val_loss: 0.1328 - val_accuracy: 0.9628\n",
      "Epoch 45/100\n",
      "12/12 [==============================] - 0s 2ms/step - loss: 0.1361 - accuracy: 0.9554 - val_loss: 0.1311 - val_accuracy: 0.9628\n",
      "Epoch 46/100\n",
      "12/12 [==============================] - 0s 2ms/step - loss: 0.1347 - accuracy: 0.9580 - val_loss: 0.1294 - val_accuracy: 0.9628\n",
      "Epoch 47/100\n",
      "12/12 [==============================] - 0s 2ms/step - loss: 0.1333 - accuracy: 0.9580 - val_loss: 0.1278 - val_accuracy: 0.9681\n",
      "Epoch 48/100\n",
      "12/12 [==============================] - 0s 2ms/step - loss: 0.1319 - accuracy: 0.9606 - val_loss: 0.1262 - val_accuracy: 0.9681\n",
      "Epoch 49/100\n",
      "12/12 [==============================] - 0s 2ms/step - loss: 0.1306 - accuracy: 0.9606 - val_loss: 0.1247 - val_accuracy: 0.9681\n",
      "Epoch 50/100\n",
      "12/12 [==============================] - 0s 3ms/step - loss: 0.1293 - accuracy: 0.9633 - val_loss: 0.1233 - val_accuracy: 0.9681\n",
      "Epoch 51/100\n",
      "12/12 [==============================] - 0s 2ms/step - loss: 0.1281 - accuracy: 0.9633 - val_loss: 0.1218 - val_accuracy: 0.9681\n",
      "Epoch 52/100\n",
      "12/12 [==============================] - 0s 2ms/step - loss: 0.1268 - accuracy: 0.9633 - val_loss: 0.1205 - val_accuracy: 0.9681\n",
      "Epoch 53/100\n",
      "12/12 [==============================] - 0s 2ms/step - loss: 0.1258 - accuracy: 0.9633 - val_loss: 0.1192 - val_accuracy: 0.9681\n",
      "Epoch 54/100\n",
      "12/12 [==============================] - 0s 2ms/step - loss: 0.1246 - accuracy: 0.9633 - val_loss: 0.1179 - val_accuracy: 0.9681\n",
      "Epoch 55/100\n",
      "12/12 [==============================] - 0s 2ms/step - loss: 0.1236 - accuracy: 0.9633 - val_loss: 0.1166 - val_accuracy: 0.9734\n",
      "Epoch 56/100\n",
      "12/12 [==============================] - 0s 3ms/step - loss: 0.1225 - accuracy: 0.9633 - val_loss: 0.1155 - val_accuracy: 0.9734\n",
      "Epoch 57/100\n",
      "12/12 [==============================] - 0s 3ms/step - loss: 0.1214 - accuracy: 0.9633 - val_loss: 0.1143 - val_accuracy: 0.9734\n",
      "Epoch 58/100\n",
      "12/12 [==============================] - 0s 2ms/step - loss: 0.1204 - accuracy: 0.9633 - val_loss: 0.1132 - val_accuracy: 0.9734\n"
     ]
    },
    {
     "name": "stdout",
     "output_type": "stream",
     "text": [
      "Epoch 59/100\n",
      "12/12 [==============================] - 0s 2ms/step - loss: 0.1195 - accuracy: 0.9633 - val_loss: 0.1120 - val_accuracy: 0.9734\n",
      "Epoch 60/100\n",
      "12/12 [==============================] - 0s 2ms/step - loss: 0.1185 - accuracy: 0.9633 - val_loss: 0.1110 - val_accuracy: 0.9734\n",
      "Epoch 61/100\n",
      "12/12 [==============================] - 0s 2ms/step - loss: 0.1176 - accuracy: 0.9633 - val_loss: 0.1100 - val_accuracy: 0.9734\n",
      "Epoch 62/100\n",
      "12/12 [==============================] - 0s 2ms/step - loss: 0.1167 - accuracy: 0.9659 - val_loss: 0.1090 - val_accuracy: 0.9734\n",
      "Epoch 63/100\n",
      "12/12 [==============================] - 0s 2ms/step - loss: 0.1158 - accuracy: 0.9685 - val_loss: 0.1080 - val_accuracy: 0.9734\n",
      "Epoch 64/100\n",
      "12/12 [==============================] - 0s 2ms/step - loss: 0.1150 - accuracy: 0.9685 - val_loss: 0.1070 - val_accuracy: 0.9734\n",
      "Epoch 65/100\n",
      "12/12 [==============================] - 0s 2ms/step - loss: 0.1142 - accuracy: 0.9685 - val_loss: 0.1061 - val_accuracy: 0.9787\n",
      "Epoch 66/100\n",
      "12/12 [==============================] - 0s 2ms/step - loss: 0.1133 - accuracy: 0.9685 - val_loss: 0.1051 - val_accuracy: 0.9840\n",
      "Epoch 67/100\n",
      "12/12 [==============================] - 0s 2ms/step - loss: 0.1125 - accuracy: 0.9685 - val_loss: 0.1043 - val_accuracy: 0.9840\n",
      "Epoch 68/100\n",
      "12/12 [==============================] - 0s 2ms/step - loss: 0.1118 - accuracy: 0.9711 - val_loss: 0.1035 - val_accuracy: 0.9787\n",
      "Epoch 69/100\n",
      "12/12 [==============================] - 0s 2ms/step - loss: 0.1110 - accuracy: 0.9711 - val_loss: 0.1026 - val_accuracy: 0.9787\n",
      "Epoch 70/100\n",
      "12/12 [==============================] - 0s 2ms/step - loss: 0.1103 - accuracy: 0.9711 - val_loss: 0.1018 - val_accuracy: 0.9787\n",
      "Epoch 71/100\n",
      "12/12 [==============================] - 0s 2ms/step - loss: 0.1096 - accuracy: 0.9711 - val_loss: 0.1010 - val_accuracy: 0.9787\n",
      "Epoch 72/100\n",
      "12/12 [==============================] - 0s 2ms/step - loss: 0.1089 - accuracy: 0.9711 - val_loss: 0.1002 - val_accuracy: 0.9787\n",
      "Epoch 73/100\n",
      "12/12 [==============================] - 0s 2ms/step - loss: 0.1082 - accuracy: 0.9711 - val_loss: 0.0994 - val_accuracy: 0.9787\n",
      "Epoch 74/100\n",
      "12/12 [==============================] - 0s 2ms/step - loss: 0.1075 - accuracy: 0.9711 - val_loss: 0.0987 - val_accuracy: 0.9787\n",
      "Epoch 75/100\n",
      "12/12 [==============================] - 0s 2ms/step - loss: 0.1069 - accuracy: 0.9711 - val_loss: 0.0980 - val_accuracy: 0.9787\n",
      "Epoch 76/100\n",
      "12/12 [==============================] - 0s 2ms/step - loss: 0.1062 - accuracy: 0.9711 - val_loss: 0.0973 - val_accuracy: 0.9787\n",
      "Epoch 77/100\n",
      "12/12 [==============================] - 0s 2ms/step - loss: 0.1056 - accuracy: 0.9711 - val_loss: 0.0966 - val_accuracy: 0.9787\n",
      "Epoch 78/100\n",
      "12/12 [==============================] - 0s 2ms/step - loss: 0.1050 - accuracy: 0.9711 - val_loss: 0.0960 - val_accuracy: 0.9787\n",
      "Epoch 79/100\n",
      "12/12 [==============================] - 0s 2ms/step - loss: 0.1044 - accuracy: 0.9711 - val_loss: 0.0953 - val_accuracy: 0.9787\n",
      "Epoch 80/100\n",
      "12/12 [==============================] - 0s 2ms/step - loss: 0.1038 - accuracy: 0.9711 - val_loss: 0.0946 - val_accuracy: 0.9787\n",
      "Epoch 81/100\n",
      "12/12 [==============================] - 0s 2ms/step - loss: 0.1033 - accuracy: 0.9711 - val_loss: 0.0940 - val_accuracy: 0.9787\n",
      "Epoch 82/100\n",
      "12/12 [==============================] - 0s 3ms/step - loss: 0.1027 - accuracy: 0.9711 - val_loss: 0.0934 - val_accuracy: 0.9787\n",
      "Epoch 83/100\n",
      "12/12 [==============================] - 0s 2ms/step - loss: 0.1021 - accuracy: 0.9711 - val_loss: 0.0928 - val_accuracy: 0.9787\n",
      "Epoch 84/100\n",
      "12/12 [==============================] - 0s 2ms/step - loss: 0.1016 - accuracy: 0.9711 - val_loss: 0.0922 - val_accuracy: 0.9787\n",
      "Epoch 85/100\n",
      "12/12 [==============================] - 0s 2ms/step - loss: 0.1011 - accuracy: 0.9711 - val_loss: 0.0917 - val_accuracy: 0.9787\n",
      "Epoch 86/100\n",
      "12/12 [==============================] - 0s 2ms/step - loss: 0.1006 - accuracy: 0.9711 - val_loss: 0.0911 - val_accuracy: 0.9787\n",
      "Epoch 87/100\n",
      "12/12 [==============================] - 0s 2ms/step - loss: 0.1000 - accuracy: 0.9711 - val_loss: 0.0905 - val_accuracy: 0.9787\n",
      "Epoch 88/100\n",
      "12/12 [==============================] - 0s 2ms/step - loss: 0.0996 - accuracy: 0.9711 - val_loss: 0.0899 - val_accuracy: 0.9787\n",
      "Epoch 89/100\n",
      "12/12 [==============================] - 0s 2ms/step - loss: 0.0991 - accuracy: 0.9711 - val_loss: 0.0895 - val_accuracy: 0.9787\n",
      "Epoch 90/100\n",
      "12/12 [==============================] - 0s 2ms/step - loss: 0.0986 - accuracy: 0.9738 - val_loss: 0.0890 - val_accuracy: 0.9787\n",
      "Epoch 91/100\n",
      "12/12 [==============================] - 0s 2ms/step - loss: 0.0981 - accuracy: 0.9764 - val_loss: 0.0884 - val_accuracy: 0.9787\n",
      "Epoch 92/100\n",
      "12/12 [==============================] - 0s 2ms/step - loss: 0.0977 - accuracy: 0.9790 - val_loss: 0.0879 - val_accuracy: 0.9787\n",
      "Epoch 93/100\n",
      "12/12 [==============================] - 0s 3ms/step - loss: 0.0972 - accuracy: 0.9764 - val_loss: 0.0875 - val_accuracy: 0.9787\n",
      "Epoch 94/100\n",
      "12/12 [==============================] - 0s 2ms/step - loss: 0.0968 - accuracy: 0.9764 - val_loss: 0.0870 - val_accuracy: 0.9787\n",
      "Epoch 95/100\n",
      "12/12 [==============================] - 0s 2ms/step - loss: 0.0963 - accuracy: 0.9764 - val_loss: 0.0865 - val_accuracy: 0.9787\n",
      "Epoch 96/100\n",
      "12/12 [==============================] - 0s 2ms/step - loss: 0.0959 - accuracy: 0.9764 - val_loss: 0.0860 - val_accuracy: 0.9787\n",
      "Epoch 97/100\n",
      "12/12 [==============================] - 0s 2ms/step - loss: 0.0955 - accuracy: 0.9764 - val_loss: 0.0856 - val_accuracy: 0.9787\n",
      "Epoch 98/100\n",
      "12/12 [==============================] - 0s 2ms/step - loss: 0.0951 - accuracy: 0.9764 - val_loss: 0.0852 - val_accuracy: 0.9787\n",
      "Epoch 99/100\n",
      "12/12 [==============================] - 0s 2ms/step - loss: 0.0947 - accuracy: 0.9764 - val_loss: 0.0847 - val_accuracy: 0.9787\n",
      "Epoch 100/100\n",
      "12/12 [==============================] - 0s 2ms/step - loss: 0.0943 - accuracy: 0.9764 - val_loss: 0.0843 - val_accuracy: 0.9787\n"
     ]
    }
   ],
   "source": [
    "# train the model\n",
    "r = model.fit(X_train, y_train,\n",
    "             validation_data=(X_test, y_test), \n",
    "             epochs=100)"
   ]
  },
  {
   "cell_type": "code",
   "execution_count": 22,
   "id": "4e32c348",
   "metadata": {},
   "outputs": [
    {
     "name": "stdout",
     "output_type": "stream",
     "text": [
      "12/12 [==============================] - 0s 890us/step - loss: 0.0940 - accuracy: 0.9764\n",
      "Train score:  [0.09398026019334793, 0.9763779640197754]\n",
      "6/6 [==============================] - 0s 908us/step - loss: 0.0843 - accuracy: 0.9787\n",
      "Test score:  [0.0842907652258873, 0.978723406791687]\n"
     ]
    }
   ],
   "source": [
    "# check final score\n",
    "print('Train score: ', model.evaluate(X_train, y_train))\n",
    "print('Test score: ', model.evaluate(X_test, y_test))"
   ]
  },
  {
   "cell_type": "code",
   "execution_count": 23,
   "id": "7398b22d",
   "metadata": {},
   "outputs": [
    {
     "data": {
      "text/plain": [
       "<matplotlib.legend.Legend at 0x22e18901ee0>"
      ]
     },
     "execution_count": 23,
     "metadata": {},
     "output_type": "execute_result"
    },
    {
     "data": {
      "image/png": "[encoded data removed]",
      "text/plain": [
       "<Figure size 640x480 with 1 Axes>"
      ]
     },
     "metadata": {},
     "output_type": "display_data"
    }
   ],
   "source": [
    "# plot train loss and validation loss\n",
    "import matplotlib.pyplot as plt\n",
    "\n",
    "plt.plot(r.history['loss'], label='loss')\n",
    "plt.plot(r.history['val_loss'], label='val_loss')\n",
    "plt.legend()"
   ]
  },
  {
   "cell_type": "code",
   "execution_count": 24,
   "id": "dcebf19b",
   "metadata": {},
   "outputs": [
    {
     "data": {
      "text/plain": [
       "<matplotlib.legend.Legend at 0x22e1a94ab50>"
      ]
     },
     "execution_count": 24,
     "metadata": {},
     "output_type": "execute_result"
    },
    {
     "data": {
      "image/png": "[encoded data removed]",
      "text/plain": [
       "<Figure size 640x480 with 1 Axes>"
      ]
     },
     "metadata": {},
     "output_type": "display_data"
    }
   ],
   "source": [
    "plt.plot(r.history['accuracy'], label='accuracy')\n",
    "plt.plot(r.history['val_accuracy'], label='val_accuracy')\n",
    "plt.legend()"
   ]
  },
  {
   "cell_type": "markdown",
   "id": "a899fc7c",
   "metadata": {},
   "source": [
    "## Making predictions"
   ]
  },
  {
   "cell_type": "code",
   "execution_count": 25,
   "id": "bc038391",
   "metadata": {},
   "outputs": [
    {
     "name": "stdout",
     "output_type": "stream",
     "text": [
      "6/6 [==============================] - 0s 1ms/step\n",
      "[[8.38207483e-01]\n",
      " [2.06681900e-03]\n",
      " [3.04846168e-02]\n",
      " [9.85209882e-01]\n",
      " [9.95175004e-01]\n",
      " [1.04000812e-07]\n",
      " [5.82946859e-06]\n",
      " [1.40527964e-01]\n",
      " [4.45907176e-01]\n",
      " [9.86594677e-01]\n",
      " [9.16369855e-01]\n",
      " [7.12207332e-02]\n",
      " [9.59321558e-01]\n",
      " [2.78435349e-01]\n",
      " [9.84997213e-01]\n",
      " [3.17734806e-03]\n",
      " [9.79098141e-01]\n",
      " [9.98798132e-01]\n",
      " [9.99949157e-01]\n",
      " [1.53426285e-04]\n",
      " [7.69827485e-01]\n",
      " [9.31855798e-01]\n",
      " [3.12763291e-06]\n",
      " [9.99033093e-01]\n",
      " [9.86549139e-01]\n",
      " [9.89243090e-01]\n",
      " [9.78270054e-01]\n",
      " [9.63769853e-01]\n",
      " [9.73095119e-01]\n",
      " [3.12435877e-04]\n",
      " [9.91301239e-01]\n",
      " [9.97108698e-01]\n",
      " [9.94216442e-01]\n",
      " [9.76697326e-01]\n",
      " [9.97916102e-01]\n",
      " [9.91274595e-01]\n",
      " [3.46765220e-01]\n",
      " [9.89975989e-01]\n",
      " [3.96463275e-03]\n",
      " [8.93701494e-01]\n",
      " [9.96929288e-01]\n",
      " [3.53284404e-02]\n",
      " [9.67278361e-01]\n",
      " [9.91980910e-01]\n",
      " [9.31057215e-01]\n",
      " [9.48107600e-01]\n",
      " [9.96695399e-01]\n",
      " [9.96906400e-01]\n",
      " [9.28498864e-01]\n",
      " [9.77312803e-01]\n",
      " [6.03135768e-03]\n",
      " [3.27934249e-05]\n",
      " [6.64314032e-01]\n",
      " [7.99941182e-01]\n",
      " [9.99193788e-01]\n",
      " [9.55332935e-01]\n",
      " [9.97287393e-01]\n",
      " [3.44110269e-08]\n",
      " [2.44304314e-01]\n",
      " [9.97138679e-01]\n",
      " [9.62436676e-01]\n",
      " [1.12521295e-04]\n",
      " [1.77566944e-05]\n",
      " [9.22197700e-01]\n",
      " [9.93481517e-01]\n",
      " [8.54856610e-01]\n",
      " [1.28878071e-03]\n",
      " [1.10936332e-06]\n",
      " [9.88208294e-01]\n",
      " [9.40100491e-01]\n",
      " [3.89831997e-02]\n",
      " [1.51141733e-02]\n",
      " [9.62948680e-01]\n",
      " [1.25814313e-02]\n",
      " [9.99809265e-01]\n",
      " [9.38917279e-01]\n",
      " [9.33189869e-01]\n",
      " [4.27919179e-01]\n",
      " [9.98891294e-01]\n",
      " [9.46166098e-01]\n",
      " [2.29776800e-02]\n",
      " [9.98648703e-01]\n",
      " [1.66600510e-01]\n",
      " [2.48751603e-05]\n",
      " [5.58233187e-02]\n",
      " [8.34788382e-03]\n",
      " [1.78825587e-03]\n",
      " [4.96092206e-03]\n",
      " [9.92642522e-01]\n",
      " [9.71943676e-01]\n",
      " [9.57472146e-01]\n",
      " [6.60741270e-01]\n",
      " [8.84702206e-01]\n",
      " [9.91078436e-01]\n",
      " [9.94360685e-01]\n",
      " [9.98801112e-01]\n",
      " [1.88684993e-04]\n",
      " [3.14392702e-04]\n",
      " [9.98383701e-01]\n",
      " [4.82297922e-03]\n",
      " [3.68649736e-02]\n",
      " [9.99905705e-01]\n",
      " [1.12719985e-03]\n",
      " [6.87725749e-03]\n",
      " [9.78214204e-01]\n",
      " [9.27125156e-01]\n",
      " [9.70484734e-01]\n",
      " [4.47880939e-06]\n",
      " [7.15771198e-01]\n",
      " [8.81507695e-01]\n",
      " [2.93184463e-02]\n",
      " [9.86903727e-01]\n",
      " [4.46332932e-01]\n",
      " [3.59942135e-07]\n",
      " [8.53856385e-01]\n",
      " [1.21347796e-06]\n",
      " [9.99115527e-01]\n",
      " [9.51109648e-01]\n",
      " [9.99226391e-01]\n",
      " [2.94076931e-03]\n",
      " [9.93619561e-01]\n",
      " [9.91959870e-01]\n",
      " [9.76366282e-01]\n",
      " [2.32066843e-03]\n",
      " [8.56272101e-01]\n",
      " [9.69943503e-05]\n",
      " [6.48644660e-03]\n",
      " [9.94281113e-01]\n",
      " [9.85543251e-01]\n",
      " [1.51330547e-04]\n",
      " [9.30833630e-06]\n",
      " [2.01803428e-04]\n",
      " [9.62763071e-01]\n",
      " [9.87969935e-01]\n",
      " [9.20677066e-01]\n",
      " [9.23762470e-03]\n",
      " [5.63202262e-01]\n",
      " [9.78678823e-01]\n",
      " [6.28614366e-01]\n",
      " [2.16713417e-02]\n",
      " [9.85893428e-01]\n",
      " [2.27852834e-05]\n",
      " [9.99049842e-01]\n",
      " [9.98953283e-01]\n",
      " [5.59042469e-02]\n",
      " [9.80016232e-01]\n",
      " [6.02485030e-04]\n",
      " [2.24291231e-04]\n",
      " [4.79326695e-01]\n",
      " [9.97489750e-01]\n",
      " [2.83877194e-01]\n",
      " [9.98182416e-01]\n",
      " [9.99709070e-01]\n",
      " [9.06462073e-01]\n",
      " [9.93464470e-01]\n",
      " [7.12835169e-09]\n",
      " [1.03643921e-03]\n",
      " [9.99636054e-01]\n",
      " [9.58217919e-01]\n",
      " [9.99490321e-01]\n",
      " [9.99672651e-01]\n",
      " [9.94647384e-01]\n",
      " [9.98641789e-01]\n",
      " [9.72358882e-01]\n",
      " [3.55285197e-01]\n",
      " [9.91354048e-01]\n",
      " [9.93007898e-01]\n",
      " [6.75484657e-01]\n",
      " [9.99193668e-01]\n",
      " [5.88081926e-02]\n",
      " [8.70336473e-01]\n",
      " [9.86781061e-01]\n",
      " [9.82760012e-01]\n",
      " [6.23719037e-01]\n",
      " [9.81648922e-01]\n",
      " [9.20378506e-01]\n",
      " [2.70026207e-01]\n",
      " [7.92174935e-01]\n",
      " [9.87566233e-01]\n",
      " [9.36612546e-01]\n",
      " [8.55132282e-01]\n",
      " [9.28067803e-01]\n",
      " [9.98460233e-01]\n",
      " [1.12141661e-01]\n",
      " [9.29075200e-03]\n",
      " [1.57034963e-01]\n",
      " [3.57008100e-01]\n",
      " [8.52963746e-01]]\n"
     ]
    }
   ],
   "source": [
    "# make predictions\n",
    "P = model.predict(X_test)\n",
    "# outputs of the sigmoid, interpreted as probabilities p(y=1|x)\n",
    "print(P)"
   ]
  },
  {
   "cell_type": "code",
   "execution_count": 26,
   "id": "a3a92237",
   "metadata": {},
   "outputs": [
    {
     "data": {
      "text/plain": [
       "(188, 1)"
      ]
     },
     "execution_count": 26,
     "metadata": {},
     "output_type": "execute_result"
    }
   ],
   "source": [
    "P.shape"
   ]
  },
  {
   "cell_type": "code",
   "execution_count": 27,
   "id": "aae2e25f",
   "metadata": {},
   "outputs": [
    {
     "data": {
      "text/plain": [
       "(188,)"
      ]
     },
     "execution_count": 27,
     "metadata": {},
     "output_type": "execute_result"
    }
   ],
   "source": [
    "P.flatten().shape"
   ]
  },
  {
   "cell_type": "code",
   "execution_count": 28,
   "id": "01441af3",
   "metadata": {},
   "outputs": [
    {
     "name": "stdout",
     "output_type": "stream",
     "text": [
      "[1. 0. 0. 1. 1. 0. 0. 0. 0. 1. 1. 0. 1. 0. 1. 0. 1. 1. 1. 0. 1. 1. 0. 1.\n",
      " 1. 1. 1. 1. 1. 0. 1. 1. 1. 1. 1. 1. 0. 1. 0. 1. 1. 0. 1. 1. 1. 1. 1. 1.\n",
      " 1. 1. 0. 0. 1. 1. 1. 1. 1. 0. 0. 1. 1. 0. 0. 1. 1. 1. 0. 0. 1. 1. 0. 0.\n",
      " 1. 0. 1. 1. 1. 0. 1. 1. 0. 1. 0. 0. 0. 0. 0. 0. 1. 1. 1. 1. 1. 1. 1. 1.\n",
      " 0. 0. 1. 0. 0. 1. 0. 0. 1. 1. 1. 0. 1. 1. 0. 1. 0. 0. 1. 0. 1. 1. 1. 0.\n",
      " 1. 1. 1. 0. 1. 0. 0. 1. 1. 0. 0. 0. 1. 1. 1. 0. 1. 1. 1. 0. 1. 0. 1. 1.\n",
      " 0. 1. 0. 0. 0. 1. 0. 1. 1. 1. 1. 0. 0. 1. 1. 1. 1. 1. 1. 1. 0. 1. 1. 1.\n",
      " 1. 0. 1. 1. 1. 1. 1. 1. 0. 1. 1. 1. 1. 1. 1. 0. 0. 0. 0. 1.]\n"
     ]
    }
   ],
   "source": [
    "# round to actual predictions\n",
    "# note: has to be flattened since the targets are the size (N,) while the predictions are (N,1)\n",
    "import numpy as np\n",
    "\n",
    "P = np.round(P).flatten()\n",
    "print(P)"
   ]
  },
  {
   "cell_type": "code",
   "execution_count": 29,
   "id": "5176d9c0",
   "metadata": {},
   "outputs": [
    {
     "name": "stdout",
     "output_type": "stream",
     "text": [
      "Manually calculated accuracy:  0.9787234042553191\n",
      "6/6 [==============================] - 0s 884us/step - loss: 0.0843 - accuracy: 0.9787\n",
      "Evaluate output:  [0.0842907652258873, 0.978723406791687]\n"
     ]
    }
   ],
   "source": [
    "# calculate accuracy, compare it to evaluate() output\n",
    "print('Manually calculated accuracy: ', np.mean(P == y_test))\n",
    "print('Evaluate output: ', model.evaluate(X_test, y_test))"
   ]
  },
  {
   "cell_type": "markdown",
   "id": "a5ce60e8",
   "metadata": {},
   "source": [
    "## Saving and loading a model"
   ]
  },
  {
   "cell_type": "code",
   "execution_count": 30,
   "id": "05bbeec0",
   "metadata": {},
   "outputs": [],
   "source": [
    "# saving model to a file\n",
    "model.save('linear_classifier.h5')"
   ]
  },
  {
   "cell_type": "code",
   "execution_count": 34,
   "id": "38abfb12",
   "metadata": {},
   "outputs": [
    {
     "name": "stdout",
     "output_type": "stream",
     "text": [
      "[<keras.layers.core.dense.Dense object at 0x0000022E1EC059A0>]\n",
      "6/6 [==============================] - 0s 949us/step - loss: 0.0843 - accuracy: 0.9787\n"
     ]
    },
    {
     "data": {
      "text/plain": [
       "[0.0842907652258873, 0.978723406791687]"
      ]
     },
     "execution_count": 34,
     "metadata": {},
     "output_type": "execute_result"
    }
   ],
   "source": [
    "# load the model and comfirm that it still works\n",
    "# note: there is a bug in Keras where load/save only works if you don't use Input() layer explicitly\n",
    "# so, make sure your define the model with ONLY Dense(1, output_shape=(D, ))\n",
    "# At least until the bug is fixed\n",
    "\n",
    "model = tf.keras.models.load_model('linear_classifier.h5')\n",
    "print(model.layers)\n",
    "model.evaluate(X_test, y_test)"
   ]
  },
  {
   "cell_type": "code",
   "execution_count": null,
   "id": "9657ad6a",
   "metadata": {},
   "outputs": [],
   "source": []
  }
 ],
 "metadata": {
  "kernelspec": {
   "display_name": "Python 3 (ipykernel)",
   "language": "python",
   "name": "python3"
  },
  "language_info": {
   "codemirror_mode": {
    "name": "ipython",
    "version": 3
   },
   "file_extension": ".py",
   "mimetype": "text/x-python",
   "name": "python",
   "nbconvert_exporter": "python",
   "pygments_lexer": "ipython3",
   "version": "3.9.13"
  }
 },
 "nbformat": 4,
 "nbformat_minor": 5
}
