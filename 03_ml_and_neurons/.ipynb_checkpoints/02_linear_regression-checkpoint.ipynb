{
 "cells": [
  {
   "cell_type": "code",
   "execution_count": 1,
   "id": "f959fb8f",
   "metadata": {},
   "outputs": [],
   "source": [
    "import tensorflow as tf\n",
    "\n",
    "import pandas as pd\n",
    "import numpy as np\n",
    "import matplotlib.pyplot as plt"
   ]
  },
  {
   "cell_type": "markdown",
   "id": "1eb9f4d5",
   "metadata": {},
   "source": [
    "## Load data"
   ]
  },
  {
   "cell_type": "code",
   "execution_count": 2,
   "id": "882c7bdd",
   "metadata": {},
   "outputs": [],
   "source": [
    "# get the data\n",
    "# !wget https://raw.githubusercontent.com/lazyprogrammer/machine_learning_examples/master/tf2.0/auto-mpg.data"
   ]
  },
  {
   "cell_type": "code",
   "execution_count": 3,
   "id": "fa08b0a2",
   "metadata": {},
   "outputs": [],
   "source": [
    "data = pd.read_csv('../datasets/moore.csv', header=None).to_numpy()"
   ]
  },
  {
   "cell_type": "code",
   "execution_count": 4,
   "id": "90838136",
   "metadata": {
    "scrolled": true
   },
   "outputs": [
    {
     "data": {
      "text/plain": [
       "array([[       1971,        2300],\n",
       "       [       1972,        3500],\n",
       "       [       1973,        2500],\n",
       "       [       1973,        2500],\n",
       "       [       1974,        4100],\n",
       "       [       1974,        4500],\n",
       "       [       1974,        8000],\n",
       "       [       1975,        3510],\n",
       "       [       1976,        5000],\n",
       "       [       1976,        8500],\n",
       "       [       1976,        6500],\n",
       "       [       1978,        9000],\n",
       "       [       1978,       29000],\n",
       "       [       1979,       17500],\n",
       "       [       1979,       29000],\n",
       "       [       1979,       68000],\n",
       "       [       1981,       11500],\n",
       "       [       1982,       55000],\n",
       "       [       1982,      134000],\n",
       "       [       1983,       22000],\n",
       "       [       1984,       63000],\n",
       "       [       1984,      190000],\n",
       "       [       1985,      275000],\n",
       "       [       1985,       25000],\n",
       "       [       1985,       16000],\n",
       "       [       1986,      110000],\n",
       "       [       1986,      375000],\n",
       "       [       1986,       30000],\n",
       "       [       1987,      385000],\n",
       "       [       1987,      730000],\n",
       "       [       1987,      273000],\n",
       "       [       1987,      553000],\n",
       "       [       1988,      180000],\n",
       "       [       1988,      250000],\n",
       "       [       1989,      600000],\n",
       "       [       1989,     1000000],\n",
       "       [       1989,     1180235],\n",
       "       [       1989,      310000],\n",
       "       [       1990,     1200000],\n",
       "       [       1991,     1350000],\n",
       "       [       1991,       35000],\n",
       "       [       1992,      600000],\n",
       "       [       1992,      900000],\n",
       "       [       1993,     2800000],\n",
       "       [       1993,     3100000],\n",
       "       [       1994,      578977],\n",
       "       [       1994,     2500000],\n",
       "       [       1995,     2500000],\n",
       "       [       1999,      111000],\n",
       "       [       1995,     5500000],\n",
       "       [       1996,     4300000],\n",
       "       [       1997,    10000000],\n",
       "       [       1997,     7500000],\n",
       "       [       1997,     8800000],\n",
       "       [       1998,     7500000],\n",
       "       [       1999,     9500000],\n",
       "       [       1999,    13500000],\n",
       "       [       2000,    21000000],\n",
       "       [       2000,    21000000],\n",
       "       [       1999,    27400000],\n",
       "       [       1999,    21300000],\n",
       "       [       1999,    22000000],\n",
       "       [       2000,    42000000],\n",
       "       [       2001,   191000000],\n",
       "       [       2001,    45000000],\n",
       "       [       2002,    55000000],\n",
       "       [       2004,   112000000],\n",
       "       [       2004,   400000000],\n",
       "       [       2005,   169000000],\n",
       "       [       2006,   184000000],\n",
       "       [       2005,   228000000],\n",
       "       [       2006,   362000000],\n",
       "       [       2007,   540000000],\n",
       "       [       2008,    47000000],\n",
       "       [       2003,    54300000],\n",
       "       [       2003,   105900000],\n",
       "       [       2002,   220000000],\n",
       "       [       2005,   165000000],\n",
       "       [       2005,   250000000],\n",
       "       [       2006,   291000000],\n",
       "       [       2007,   169000000],\n",
       "       [       2003,   410000000],\n",
       "       [       2008,   600000000],\n",
       "       [       2009,   760000000],\n",
       "       [       2011,  1870000000],\n",
       "       [       2012,   432000000],\n",
       "       [       2007,   463000000],\n",
       "       [       2007,    26000000],\n",
       "       [       2008,   230000000],\n",
       "       [       2004,   592000000],\n",
       "       [       2007,   411000000],\n",
       "       [       2008,   731000000],\n",
       "       [       2008,   758000000],\n",
       "       [       2007,   789000000],\n",
       "       [       2009,   904000000],\n",
       "       [       2010,  1000000000],\n",
       "       [       2012,  2990000000],\n",
       "       [       2013,  1000000000],\n",
       "       [       2011,  1160000000],\n",
       "       [       2010,  1170000000],\n",
       "       [       2010,  1200000000],\n",
       "       [       2012,  1200000000],\n",
       "       [       2012,  1303000000],\n",
       "       [       2010,  1400000000],\n",
       "       [       2012,  1400000000],\n",
       "       [       2014,  1400000000],\n",
       "       [       2006,  1700000000],\n",
       "       [       2015,  1750000000],\n",
       "       [       2013,  1860000000],\n",
       "       [       2015,  1900000000],\n",
       "       [       2008,  1900000000],\n",
       "       [       2010,  2000000000],\n",
       "       [       2014,  2000000000],\n",
       "       [       2015,  2000000000],\n",
       "       [       2015,  3000000000],\n",
       "       [       2012,  2100000000],\n",
       "       [       2011,  2270000000],\n",
       "       [       2010,  2300000000],\n",
       "       [       2014,  2600000000],\n",
       "       [       2011,  2600000000],\n",
       "       [       2012,  2750000000],\n",
       "       [       2014,  3000000000],\n",
       "       [       2016,  3000000000],\n",
       "       [       2017,  5300000000],\n",
       "       [       2017,  5300000000],\n",
       "       [       2018,  8500000000],\n",
       "       [       2012,  3100000000],\n",
       "       [       2016,  3200000000],\n",
       "       [       2016,  3300000000],\n",
       "       [       2015,  3990000000],\n",
       "       [       2013,  4200000000],\n",
       "       [       2017,  4300000000],\n",
       "       [       2014,  4310000000],\n",
       "       [       2017,  4800000000],\n",
       "       [       2017,  4800000000],\n",
       "       [       2017,  4800000000],\n",
       "       [       2012,  5000000000],\n",
       "       [       2013,  5000000000],\n",
       "       [       2014,  5560000000],\n",
       "       [       2017,  6100000000],\n",
       "       [       2018,  6900000000],\n",
       "       [       2016,  4000000000],\n",
       "       [       2018,  6900000000],\n",
       "       [       2017,  5500000000],\n",
       "       [       2018,  5500000000],\n",
       "       [       2017,  7000000000],\n",
       "       [       2015,  7100000000],\n",
       "       [       2017,  8000000000],\n",
       "       [       2016,  7200000000],\n",
       "       [       2017,  8000000000],\n",
       "       [       2016,  8000000000],\n",
       "       [       2017,  9700000000],\n",
       "       [       2017,   250000000],\n",
       "       [       2015, 10000000000],\n",
       "       [       2017,  5450000000],\n",
       "       [       2018, 10000000000],\n",
       "       [       2017,  4300000000],\n",
       "       [       2017, 18000000000],\n",
       "       [       2017, 19200000000],\n",
       "       [       2018,  8876000000],\n",
       "       [       2018, 23600000000],\n",
       "       [       2018,  9000000000]], dtype=int64)"
      ]
     },
     "execution_count": 4,
     "metadata": {},
     "output_type": "execute_result"
    }
   ],
   "source": [
    "data"
   ]
  },
  {
   "cell_type": "code",
   "execution_count": 5,
   "id": "3f90048d",
   "metadata": {},
   "outputs": [],
   "source": [
    "X = data[:,0].reshape(-1, 1)     # making an N*D\n",
    "y = data[:, 1]"
   ]
  },
  {
   "cell_type": "code",
   "execution_count": 6,
   "id": "e70bbfa0",
   "metadata": {},
   "outputs": [
    {
     "data": {
      "text/plain": [
       "((162, 1), (162,))"
      ]
     },
     "execution_count": 6,
     "metadata": {},
     "output_type": "execute_result"
    }
   ],
   "source": [
    "X.shape, y.shape"
   ]
  },
  {
   "cell_type": "markdown",
   "id": "85836141",
   "metadata": {},
   "source": [
    "## Inspect data"
   ]
  },
  {
   "cell_type": "code",
   "execution_count": 7,
   "id": "0acfc8fb",
   "metadata": {},
   "outputs": [
    {
     "data": {
      "text/plain": [
       "<matplotlib.collections.PathCollection at 0x2529cd19490>"
      ]
     },
     "execution_count": 7,
     "metadata": {},
     "output_type": "execute_result"
    },
    {
     "data": {
      "image/png": "[encoded data removed]",
      "text/plain": [
       "<Figure size 640x480 with 1 Axes>"
      ]
     },
     "metadata": {},
     "output_type": "display_data"
    }
   ],
   "source": [
    "# plot data\n",
    "plt.scatter(X, y)"
   ]
  },
  {
   "cell_type": "code",
   "execution_count": 8,
   "id": "f24f0866",
   "metadata": {
    "scrolled": true
   },
   "outputs": [
    {
     "data": {
      "text/plain": [
       "<matplotlib.collections.PathCollection at 0x2529ed9e610>"
      ]
     },
     "execution_count": 8,
     "metadata": {},
     "output_type": "execute_result"
    },
    {
     "data": {
      "image/png": "[encoded data removed]",
      "text/plain": [
       "<Figure size 640x480 with 1 Axes>"
      ]
     },
     "metadata": {},
     "output_type": "display_data"
    }
   ],
   "source": [
    "# build a log-log model\n",
    "y = np.log(y)\n",
    "plt.scatter(X, y)"
   ]
  },
  {
   "cell_type": "markdown",
   "id": "415268cb",
   "metadata": {},
   "source": [
    "## Preprocessing"
   ]
  },
  {
   "cell_type": "code",
   "execution_count": 9,
   "id": "2c854fff",
   "metadata": {},
   "outputs": [],
   "source": [
    "# translate X by mean\n",
    "X = X - X.mean()"
   ]
  },
  {
   "cell_type": "markdown",
   "id": "6d538c2e",
   "metadata": {},
   "source": [
    "## Create model"
   ]
  },
  {
   "cell_type": "code",
   "execution_count": 10,
   "id": "feed3a14",
   "metadata": {},
   "outputs": [],
   "source": [
    "# create model\n",
    "model = tf.keras.models.Sequential([\n",
    "    tf.keras.layers.Input(shape=(1,)),\n",
    "    tf.keras.layers.Dense(1),\n",
    "])"
   ]
  },
  {
   "cell_type": "code",
   "execution_count": 11,
   "id": "b5ffe74e",
   "metadata": {},
   "outputs": [],
   "source": [
    "# compile model\n",
    "model.compile(\n",
    "    optimizer=tf.keras.optimizers.SGD(learning_rate=0.001, momentum=0.9),\n",
    "    loss='mse',\n",
    ")"
   ]
  },
  {
   "cell_type": "code",
   "execution_count": 12,
   "id": "d2d1bbf4",
   "metadata": {},
   "outputs": [],
   "source": [
    "def schedule(epoch, learning_rate):\n",
    "    if epoch >= 50:\n",
    "        return 0.0001\n",
    "    return 0.001\n",
    "\n",
    "# create learning rate scheduler object\n",
    "scheduler = tf.keras.callbacks.LearningRateScheduler(schedule)"
   ]
  },
  {
   "cell_type": "markdown",
   "id": "1c92f3dd",
   "metadata": {},
   "source": [
    "## Train model"
   ]
  },
  {
   "cell_type": "code",
   "execution_count": 13,
   "id": "c922911c",
   "metadata": {},
   "outputs": [
    {
     "name": "stdout",
     "output_type": "stream",
     "text": [
      "Epoch 1/200\n",
      "6/6 [==============================] - 0s 4ms/step - loss: 378.4539 - lr: 0.0010\n",
      "Epoch 2/200\n",
      "6/6 [==============================] - 0s 1ms/step - loss: 306.1318 - lr: 0.0010\n",
      "Epoch 3/200\n",
      "6/6 [==============================] - 0s 1ms/step - loss: 255.1922 - lr: 0.0010\n",
      "Epoch 4/200\n",
      "6/6 [==============================] - 0s 2ms/step - loss: 195.8186 - lr: 0.0010\n",
      "Epoch 5/200\n",
      "6/6 [==============================] - 0s 1ms/step - loss: 173.6814 - lr: 0.0010\n",
      "Epoch 6/200\n",
      "6/6 [==============================] - 0s 2ms/step - loss: 119.6889 - lr: 0.0010\n",
      "Epoch 7/200\n",
      "6/6 [==============================] - 0s 1ms/step - loss: 102.4738 - lr: 0.0010\n",
      "Epoch 8/200\n",
      "6/6 [==============================] - 0s 1ms/step - loss: 64.7186 - lr: 0.0010\n",
      "Epoch 9/200\n",
      "6/6 [==============================] - 0s 1000us/step - loss: 79.7575 - lr: 0.0010\n",
      "Epoch 10/200\n",
      "6/6 [==============================] - 0s 1ms/step - loss: 76.0012 - lr: 0.0010\n",
      "Epoch 11/200\n",
      "6/6 [==============================] - 0s 858us/step - loss: 63.6715 - lr: 0.0010\n",
      "Epoch 12/200\n",
      "6/6 [==============================] - 0s 1ms/step - loss: 37.7477 - lr: 0.0010\n",
      "Epoch 13/200\n",
      "6/6 [==============================] - 0s 1ms/step - loss: 29.8292 - lr: 0.0010\n",
      "Epoch 14/200\n",
      "6/6 [==============================] - 0s 865us/step - loss: 18.1387 - lr: 0.0010\n",
      "Epoch 15/200\n",
      "6/6 [==============================] - 0s 1ms/step - loss: 11.6311 - lr: 0.0010\n",
      "Epoch 16/200\n",
      "6/6 [==============================] - 0s 1ms/step - loss: 7.0162 - lr: 0.0010\n",
      "Epoch 17/200\n",
      "6/6 [==============================] - 0s 988us/step - loss: 5.4634 - lr: 0.0010\n",
      "Epoch 18/200\n",
      "6/6 [==============================] - 0s 1ms/step - loss: 3.7802 - lr: 0.0010\n",
      "Epoch 19/200\n",
      "6/6 [==============================] - 0s 2ms/step - loss: 2.8419 - lr: 0.0010\n",
      "Epoch 20/200\n",
      "6/6 [==============================] - 0s 1ms/step - loss: 2.2569 - lr: 0.0010\n",
      "Epoch 21/200\n",
      "6/6 [==============================] - 0s 1ms/step - loss: 1.8810 - lr: 0.0010\n",
      "Epoch 22/200\n",
      "6/6 [==============================] - 0s 1ms/step - loss: 1.6728 - lr: 0.0010\n",
      "Epoch 23/200\n",
      "6/6 [==============================] - 0s 1ms/step - loss: 1.8271 - lr: 0.0010\n",
      "Epoch 24/200\n",
      "6/6 [==============================] - 0s 1ms/step - loss: 1.6572 - lr: 0.0010\n",
      "Epoch 25/200\n",
      "6/6 [==============================] - 0s 1ms/step - loss: 1.4078 - lr: 0.0010\n",
      "Epoch 26/200\n",
      "6/6 [==============================] - 0s 1ms/step - loss: 1.3825 - lr: 0.0010\n",
      "Epoch 27/200\n",
      "6/6 [==============================] - 0s 1ms/step - loss: 1.6180 - lr: 0.0010\n",
      "Epoch 28/200\n",
      "6/6 [==============================] - 0s 1ms/step - loss: 1.3195 - lr: 0.0010\n",
      "Epoch 29/200\n",
      "6/6 [==============================] - 0s 1ms/step - loss: 1.1550 - lr: 0.0010\n",
      "Epoch 30/200\n",
      "6/6 [==============================] - 0s 1ms/step - loss: 1.8223 - lr: 0.0010\n",
      "Epoch 31/200\n",
      "6/6 [==============================] - 0s 1ms/step - loss: 1.1194 - lr: 0.0010\n",
      "Epoch 32/200\n",
      "6/6 [==============================] - 0s 1ms/step - loss: 1.0026 - lr: 0.0010\n",
      "Epoch 33/200\n",
      "6/6 [==============================] - 0s 1ms/step - loss: 1.5324 - lr: 0.0010\n",
      "Epoch 34/200\n",
      "6/6 [==============================] - 0s 1ms/step - loss: 1.0797 - lr: 0.0010\n",
      "Epoch 35/200\n",
      "6/6 [==============================] - 0s 1ms/step - loss: 1.0513 - lr: 0.0010\n",
      "Epoch 36/200\n",
      "6/6 [==============================] - 0s 1ms/step - loss: 1.0333 - lr: 0.0010\n",
      "Epoch 37/200\n",
      "6/6 [==============================] - 0s 1ms/step - loss: 1.0589 - lr: 0.0010\n",
      "Epoch 38/200\n",
      "6/6 [==============================] - 0s 1ms/step - loss: 0.9411 - lr: 0.0010\n",
      "Epoch 39/200\n",
      "6/6 [==============================] - 0s 948us/step - loss: 1.0006 - lr: 0.0010\n",
      "Epoch 40/200\n",
      "6/6 [==============================] - 0s 940us/step - loss: 0.9888 - lr: 0.0010\n",
      "Epoch 41/200\n",
      "6/6 [==============================] - 0s 937us/step - loss: 0.9065 - lr: 0.0010\n",
      "Epoch 42/200\n",
      "6/6 [==============================] - 0s 1ms/step - loss: 0.9278 - lr: 0.0010\n",
      "Epoch 43/200\n",
      "6/6 [==============================] - 0s 1ms/step - loss: 0.9736 - lr: 0.0010\n",
      "Epoch 44/200\n",
      "6/6 [==============================] - 0s 928us/step - loss: 0.8831 - lr: 0.0010\n",
      "Epoch 45/200\n",
      "6/6 [==============================] - 0s 1ms/step - loss: 0.9290 - lr: 0.0010\n",
      "Epoch 46/200\n",
      "6/6 [==============================] - 0s 923us/step - loss: 0.8899 - lr: 0.0010\n",
      "Epoch 47/200\n",
      "6/6 [==============================] - 0s 1ms/step - loss: 0.9094 - lr: 0.0010\n",
      "Epoch 48/200\n",
      "6/6 [==============================] - 0s 1ms/step - loss: 0.8855 - lr: 0.0010\n",
      "Epoch 49/200\n",
      "6/6 [==============================] - 0s 1ms/step - loss: 0.9336 - lr: 0.0010\n",
      "Epoch 50/200\n",
      "6/6 [==============================] - 0s 992us/step - loss: 0.9194 - lr: 0.0010\n",
      "Epoch 51/200\n",
      "6/6 [==============================] - 0s 1ms/step - loss: 1.0258 - lr: 1.0000e-04\n",
      "Epoch 52/200\n",
      "6/6 [==============================] - 0s 1ms/step - loss: 1.0328 - lr: 1.0000e-04\n",
      "Epoch 53/200\n",
      "6/6 [==============================] - 0s 1ms/step - loss: 0.8926 - lr: 1.0000e-04\n",
      "Epoch 54/200\n",
      "6/6 [==============================] - 0s 892us/step - loss: 0.9057 - lr: 1.0000e-04\n",
      "Epoch 55/200\n",
      "6/6 [==============================] - 0s 999us/step - loss: 0.9035 - lr: 1.0000e-04\n",
      "Epoch 56/200\n",
      "6/6 [==============================] - 0s 1ms/step - loss: 0.8739 - lr: 1.0000e-04\n",
      "Epoch 57/200\n",
      "6/6 [==============================] - 0s 1ms/step - loss: 0.8740 - lr: 1.0000e-04\n",
      "Epoch 58/200\n",
      "6/6 [==============================] - 0s 1ms/step - loss: 0.8756 - lr: 1.0000e-04\n",
      "Epoch 59/200\n",
      "6/6 [==============================] - 0s 1ms/step - loss: 0.8791 - lr: 1.0000e-04\n",
      "Epoch 60/200\n",
      "6/6 [==============================] - 0s 1ms/step - loss: 0.8757 - lr: 1.0000e-04\n",
      "Epoch 61/200\n",
      "6/6 [==============================] - 0s 965us/step - loss: 0.8750 - lr: 1.0000e-04\n",
      "Epoch 62/200\n",
      "6/6 [==============================] - 0s 891us/step - loss: 0.8733 - lr: 1.0000e-04\n",
      "Epoch 63/200\n",
      "6/6 [==============================] - 0s 1ms/step - loss: 0.8761 - lr: 1.0000e-04\n",
      "Epoch 64/200\n",
      "6/6 [==============================] - 0s 858us/step - loss: 0.8761 - lr: 1.0000e-04\n",
      "Epoch 65/200\n",
      "6/6 [==============================] - 0s 1ms/step - loss: 0.8760 - lr: 1.0000e-04\n",
      "Epoch 66/200\n",
      "6/6 [==============================] - 0s 999us/step - loss: 0.8757 - lr: 1.0000e-04\n",
      "Epoch 67/200\n",
      "6/6 [==============================] - 0s 1ms/step - loss: 0.8724 - lr: 1.0000e-04\n",
      "Epoch 68/200\n",
      "6/6 [==============================] - 0s 926us/step - loss: 0.8741 - lr: 1.0000e-04\n",
      "Epoch 69/200\n",
      "6/6 [==============================] - 0s 1ms/step - loss: 0.8881 - lr: 1.0000e-04\n",
      "Epoch 70/200\n",
      "6/6 [==============================] - 0s 894us/step - loss: 0.9477 - lr: 1.0000e-04\n",
      "Epoch 71/200\n",
      "6/6 [==============================] - 0s 1ms/step - loss: 0.9018 - lr: 1.0000e-04\n",
      "Epoch 72/200\n",
      "6/6 [==============================] - 0s 1ms/step - loss: 0.8695 - lr: 1.0000e-04\n",
      "Epoch 73/200\n",
      "6/6 [==============================] - 0s 990us/step - loss: 0.9154 - lr: 1.0000e-04\n",
      "Epoch 74/200\n",
      "6/6 [==============================] - 0s 1ms/step - loss: 0.9614 - lr: 1.0000e-04\n",
      "Epoch 75/200\n",
      "6/6 [==============================] - 0s 1ms/step - loss: 0.9259 - lr: 1.0000e-04\n",
      "Epoch 76/200\n",
      "6/6 [==============================] - 0s 1ms/step - loss: 0.8897 - lr: 1.0000e-04\n",
      "Epoch 77/200\n",
      "6/6 [==============================] - 0s 1ms/step - loss: 0.8723 - lr: 1.0000e-04\n",
      "Epoch 78/200\n",
      "6/6 [==============================] - 0s 1ms/step - loss: 0.8742 - lr: 1.0000e-04\n",
      "Epoch 79/200\n",
      "6/6 [==============================] - 0s 1ms/step - loss: 0.8818 - lr: 1.0000e-04\n",
      "Epoch 80/200\n",
      "6/6 [==============================] - 0s 1ms/step - loss: 0.8795 - lr: 1.0000e-04\n",
      "Epoch 81/200\n",
      "6/6 [==============================] - 0s 941us/step - loss: 0.8772 - lr: 1.0000e-04\n",
      "Epoch 82/200\n",
      "6/6 [==============================] - 0s 932us/step - loss: 0.9042 - lr: 1.0000e-04\n",
      "Epoch 83/200\n",
      "6/6 [==============================] - 0s 923us/step - loss: 0.8800 - lr: 1.0000e-04\n",
      "Epoch 84/200\n",
      "6/6 [==============================] - 0s 927us/step - loss: 0.8732 - lr: 1.0000e-04\n",
      "Epoch 85/200\n",
      "6/6 [==============================] - 0s 1ms/step - loss: 0.8757 - lr: 1.0000e-04\n",
      "Epoch 86/200\n",
      "6/6 [==============================] - 0s 1ms/step - loss: 0.8729 - lr: 1.0000e-04\n",
      "Epoch 87/200\n",
      "6/6 [==============================] - 0s 928us/step - loss: 0.8758 - lr: 1.0000e-04\n"
     ]
    },
    {
     "name": "stdout",
     "output_type": "stream",
     "text": [
      "Epoch 88/200\n",
      "6/6 [==============================] - 0s 945us/step - loss: 0.8765 - lr: 1.0000e-04\n",
      "Epoch 89/200\n",
      "6/6 [==============================] - 0s 1ms/step - loss: 0.8741 - lr: 1.0000e-04\n",
      "Epoch 90/200\n",
      "6/6 [==============================] - 0s 1000us/step - loss: 0.8715 - lr: 1.0000e-04\n",
      "Epoch 91/200\n",
      "6/6 [==============================] - 0s 1ms/step - loss: 0.8735 - lr: 1.0000e-04\n",
      "Epoch 92/200\n",
      "6/6 [==============================] - 0s 801us/step - loss: 0.8826 - lr: 1.0000e-04\n",
      "Epoch 93/200\n",
      "6/6 [==============================] - 0s 999us/step - loss: 0.8735 - lr: 1.0000e-04\n",
      "Epoch 94/200\n",
      "6/6 [==============================] - 0s 943us/step - loss: 0.8739 - lr: 1.0000e-04\n",
      "Epoch 95/200\n",
      "6/6 [==============================] - 0s 1ms/step - loss: 0.8717 - lr: 1.0000e-04\n",
      "Epoch 96/200\n",
      "6/6 [==============================] - 0s 931us/step - loss: 0.8742 - lr: 1.0000e-04\n",
      "Epoch 97/200\n",
      "6/6 [==============================] - 0s 1ms/step - loss: 0.8735 - lr: 1.0000e-04\n",
      "Epoch 98/200\n",
      "6/6 [==============================] - 0s 1000us/step - loss: 0.8765 - lr: 1.0000e-04\n",
      "Epoch 99/200\n",
      "6/6 [==============================] - 0s 936us/step - loss: 0.8841 - lr: 1.0000e-04\n",
      "Epoch 100/200\n",
      "6/6 [==============================] - 0s 929us/step - loss: 0.8722 - lr: 1.0000e-04\n",
      "Epoch 101/200\n",
      "6/6 [==============================] - 0s 924us/step - loss: 0.8717 - lr: 1.0000e-04\n",
      "Epoch 102/200\n",
      "6/6 [==============================] - 0s 1ms/step - loss: 0.8763 - lr: 1.0000e-04\n",
      "Epoch 103/200\n",
      "6/6 [==============================] - 0s 1ms/step - loss: 0.8785 - lr: 1.0000e-04\n",
      "Epoch 104/200\n",
      "6/6 [==============================] - 0s 950us/step - loss: 0.8805 - lr: 1.0000e-04\n",
      "Epoch 105/200\n",
      "6/6 [==============================] - 0s 1ms/step - loss: 0.8739 - lr: 1.0000e-04\n",
      "Epoch 106/200\n",
      "6/6 [==============================] - 0s 924us/step - loss: 0.8733 - lr: 1.0000e-04\n",
      "Epoch 107/200\n",
      "6/6 [==============================] - 0s 800us/step - loss: 0.8731 - lr: 1.0000e-04\n",
      "Epoch 108/200\n",
      "6/6 [==============================] - 0s 1ms/step - loss: 0.8736 - lr: 1.0000e-04\n",
      "Epoch 109/200\n",
      "6/6 [==============================] - 0s 1ms/step - loss: 0.8753 - lr: 1.0000e-04\n",
      "Epoch 110/200\n",
      "6/6 [==============================] - 0s 1ms/step - loss: 0.8796 - lr: 1.0000e-04\n",
      "Epoch 111/200\n",
      "6/6 [==============================] - 0s 1ms/step - loss: 0.8771 - lr: 1.0000e-04\n",
      "Epoch 112/200\n",
      "6/6 [==============================] - 0s 799us/step - loss: 0.8696 - lr: 1.0000e-04\n",
      "Epoch 113/200\n",
      "6/6 [==============================] - 0s 881us/step - loss: 0.8870 - lr: 1.0000e-04\n",
      "Epoch 114/200\n",
      "6/6 [==============================] - 0s 1ms/step - loss: 0.8756 - lr: 1.0000e-04\n",
      "Epoch 115/200\n",
      "6/6 [==============================] - 0s 1ms/step - loss: 0.8739 - lr: 1.0000e-04\n",
      "Epoch 116/200\n",
      "6/6 [==============================] - 0s 815us/step - loss: 0.8794 - lr: 1.0000e-04\n",
      "Epoch 117/200\n",
      "6/6 [==============================] - 0s 1ms/step - loss: 0.8715 - lr: 1.0000e-04\n",
      "Epoch 118/200\n",
      "6/6 [==============================] - 0s 1ms/step - loss: 0.8785 - lr: 1.0000e-04\n",
      "Epoch 119/200\n",
      "6/6 [==============================] - 0s 1ms/step - loss: 0.8868 - lr: 1.0000e-04\n",
      "Epoch 120/200\n",
      "6/6 [==============================] - 0s 907us/step - loss: 0.8829 - lr: 1.0000e-04\n",
      "Epoch 121/200\n",
      "6/6 [==============================] - 0s 1ms/step - loss: 0.8676 - lr: 1.0000e-04\n",
      "Epoch 122/200\n",
      "6/6 [==============================] - 0s 930us/step - loss: 0.8850 - lr: 1.0000e-04\n",
      "Epoch 123/200\n",
      "6/6 [==============================] - 0s 1ms/step - loss: 0.8803 - lr: 1.0000e-04\n",
      "Epoch 124/200\n",
      "6/6 [==============================] - 0s 943us/step - loss: 0.8791 - lr: 1.0000e-04\n",
      "Epoch 125/200\n",
      "6/6 [==============================] - 0s 1ms/step - loss: 0.8832 - lr: 1.0000e-04\n",
      "Epoch 126/200\n",
      "6/6 [==============================] - 0s 934us/step - loss: 0.8706 - lr: 1.0000e-04\n",
      "Epoch 127/200\n",
      "6/6 [==============================] - 0s 1ms/step - loss: 0.8770 - lr: 1.0000e-04\n",
      "Epoch 128/200\n",
      "6/6 [==============================] - 0s 1ms/step - loss: 0.8728 - lr: 1.0000e-04\n",
      "Epoch 129/200\n",
      "6/6 [==============================] - 0s 1ms/step - loss: 0.8750 - lr: 1.0000e-04\n",
      "Epoch 130/200\n",
      "6/6 [==============================] - 0s 1ms/step - loss: 0.8888 - lr: 1.0000e-04\n",
      "Epoch 131/200\n",
      "6/6 [==============================] - 0s 1ms/step - loss: 0.8776 - lr: 1.0000e-04\n",
      "Epoch 132/200\n",
      "6/6 [==============================] - 0s 1ms/step - loss: 0.8770 - lr: 1.0000e-04\n",
      "Epoch 133/200\n",
      "6/6 [==============================] - 0s 1ms/step - loss: 0.8752 - lr: 1.0000e-04\n",
      "Epoch 134/200\n",
      "6/6 [==============================] - 0s 1ms/step - loss: 0.8716 - lr: 1.0000e-04\n",
      "Epoch 135/200\n",
      "6/6 [==============================] - 0s 916us/step - loss: 0.8716 - lr: 1.0000e-04\n",
      "Epoch 136/200\n",
      "6/6 [==============================] - 0s 1000us/step - loss: 0.8735 - lr: 1.0000e-04\n",
      "Epoch 137/200\n",
      "6/6 [==============================] - 0s 1ms/step - loss: 0.8850 - lr: 1.0000e-04\n",
      "Epoch 138/200\n",
      "6/6 [==============================] - 0s 938us/step - loss: 0.9044 - lr: 1.0000e-04\n",
      "Epoch 139/200\n",
      "6/6 [==============================] - 0s 932us/step - loss: 0.8823 - lr: 1.0000e-04\n",
      "Epoch 140/200\n",
      "6/6 [==============================] - 0s 878us/step - loss: 0.8766 - lr: 1.0000e-04\n",
      "Epoch 141/200\n",
      "6/6 [==============================] - 0s 821us/step - loss: 0.8831 - lr: 1.0000e-04\n",
      "Epoch 142/200\n",
      "6/6 [==============================] - 0s 1ms/step - loss: 0.8744 - lr: 1.0000e-04\n",
      "Epoch 143/200\n",
      "6/6 [==============================] - 0s 939us/step - loss: 0.8730 - lr: 1.0000e-04\n",
      "Epoch 144/200\n",
      "6/6 [==============================] - 0s 1ms/step - loss: 0.8746 - lr: 1.0000e-04\n",
      "Epoch 145/200\n",
      "6/6 [==============================] - 0s 1ms/step - loss: 0.8775 - lr: 1.0000e-04\n",
      "Epoch 146/200\n",
      "6/6 [==============================] - 0s 930us/step - loss: 0.8895 - lr: 1.0000e-04\n",
      "Epoch 147/200\n",
      "6/6 [==============================] - 0s 932us/step - loss: 0.8821 - lr: 1.0000e-04\n",
      "Epoch 148/200\n",
      "6/6 [==============================] - 0s 944us/step - loss: 0.8746 - lr: 1.0000e-04\n",
      "Epoch 149/200\n",
      "6/6 [==============================] - 0s 1ms/step - loss: 0.8728 - lr: 1.0000e-04\n",
      "Epoch 150/200\n",
      "6/6 [==============================] - 0s 922us/step - loss: 0.8716 - lr: 1.0000e-04\n",
      "Epoch 151/200\n",
      "6/6 [==============================] - 0s 945us/step - loss: 0.8747 - lr: 1.0000e-04\n",
      "Epoch 152/200\n",
      "6/6 [==============================] - 0s 944us/step - loss: 0.8741 - lr: 1.0000e-04\n",
      "Epoch 153/200\n",
      "6/6 [==============================] - 0s 906us/step - loss: 0.8700 - lr: 1.0000e-04\n",
      "Epoch 154/200\n",
      "6/6 [==============================] - 0s 1ms/step - loss: 0.8722 - lr: 1.0000e-04\n",
      "Epoch 155/200\n",
      "6/6 [==============================] - 0s 898us/step - loss: 0.8680 - lr: 1.0000e-04\n",
      "Epoch 156/200\n",
      "6/6 [==============================] - 0s 1ms/step - loss: 0.8855 - lr: 1.0000e-04\n",
      "Epoch 157/200\n",
      "6/6 [==============================] - 0s 1000us/step - loss: 0.8884 - lr: 1.0000e-04\n",
      "Epoch 158/200\n",
      "6/6 [==============================] - 0s 1ms/step - loss: 0.9102 - lr: 1.0000e-04\n",
      "Epoch 159/200\n",
      "6/6 [==============================] - 0s 920us/step - loss: 0.9549 - lr: 1.0000e-04\n",
      "Epoch 160/200\n",
      "6/6 [==============================] - 0s 938us/step - loss: 0.8725 - lr: 1.0000e-04\n",
      "Epoch 161/200\n",
      "6/6 [==============================] - 0s 1ms/step - loss: 0.8776 - lr: 1.0000e-04\n",
      "Epoch 162/200\n",
      "6/6 [==============================] - 0s 887us/step - loss: 0.8697 - lr: 1.0000e-04\n",
      "Epoch 163/200\n",
      "6/6 [==============================] - 0s 1ms/step - loss: 0.8736 - lr: 1.0000e-04\n",
      "Epoch 164/200\n",
      "6/6 [==============================] - 0s 1ms/step - loss: 0.8722 - lr: 1.0000e-04\n",
      "Epoch 165/200\n",
      "6/6 [==============================] - 0s 945us/step - loss: 0.8712 - lr: 1.0000e-04\n",
      "Epoch 166/200\n",
      "6/6 [==============================] - 0s 939us/step - loss: 0.8704 - lr: 1.0000e-04\n",
      "Epoch 167/200\n",
      "6/6 [==============================] - 0s 1ms/step - loss: 0.8818 - lr: 1.0000e-04\n",
      "Epoch 168/200\n",
      "6/6 [==============================] - 0s 827us/step - loss: 0.9049 - lr: 1.0000e-04\n",
      "Epoch 169/200\n",
      "6/6 [==============================] - 0s 1ms/step - loss: 0.8814 - lr: 1.0000e-04\n",
      "Epoch 170/200\n",
      "6/6 [==============================] - 0s 919us/step - loss: 0.8909 - lr: 1.0000e-04\n",
      "Epoch 171/200\n"
     ]
    },
    {
     "name": "stdout",
     "output_type": "stream",
     "text": [
      "6/6 [==============================] - 0s 927us/step - loss: 0.8958 - lr: 1.0000e-04\n",
      "Epoch 172/200\n",
      "6/6 [==============================] - 0s 937us/step - loss: 0.8840 - lr: 1.0000e-04\n",
      "Epoch 173/200\n",
      "6/6 [==============================] - 0s 950us/step - loss: 0.8724 - lr: 1.0000e-04\n",
      "Epoch 174/200\n",
      "6/6 [==============================] - 0s 872us/step - loss: 0.8688 - lr: 1.0000e-04\n",
      "Epoch 175/200\n",
      "6/6 [==============================] - 0s 800us/step - loss: 0.8717 - lr: 1.0000e-04\n",
      "Epoch 176/200\n",
      "6/6 [==============================] - 0s 1ms/step - loss: 0.8712 - lr: 1.0000e-04\n",
      "Epoch 177/200\n",
      "6/6 [==============================] - 0s 926us/step - loss: 0.8743 - lr: 1.0000e-04\n",
      "Epoch 178/200\n",
      "6/6 [==============================] - 0s 940us/step - loss: 0.8824 - lr: 1.0000e-04\n",
      "Epoch 179/200\n",
      "6/6 [==============================] - 0s 940us/step - loss: 0.8798 - lr: 1.0000e-04\n",
      "Epoch 180/200\n",
      "6/6 [==============================] - 0s 1ms/step - loss: 0.8731 - lr: 1.0000e-04\n",
      "Epoch 181/200\n",
      "6/6 [==============================] - 0s 1ms/step - loss: 0.8717 - lr: 1.0000e-04\n",
      "Epoch 182/200\n",
      "6/6 [==============================] - 0s 878us/step - loss: 0.8729 - lr: 1.0000e-04\n",
      "Epoch 183/200\n",
      "6/6 [==============================] - 0s 802us/step - loss: 0.8718 - lr: 1.0000e-04\n",
      "Epoch 184/200\n",
      "6/6 [==============================] - 0s 800us/step - loss: 0.8725 - lr: 1.0000e-04\n",
      "Epoch 185/200\n",
      "6/6 [==============================] - 0s 921us/step - loss: 0.8712 - lr: 1.0000e-04\n",
      "Epoch 186/200\n",
      "6/6 [==============================] - 0s 857us/step - loss: 0.8831 - lr: 1.0000e-04\n",
      "Epoch 187/200\n",
      "6/6 [==============================] - 0s 923us/step - loss: 0.9224 - lr: 1.0000e-04\n",
      "Epoch 188/200\n",
      "6/6 [==============================] - 0s 942us/step - loss: 0.8827 - lr: 1.0000e-04\n",
      "Epoch 189/200\n",
      "6/6 [==============================] - 0s 923us/step - loss: 0.8703 - lr: 1.0000e-04\n",
      "Epoch 190/200\n",
      "6/6 [==============================] - 0s 943us/step - loss: 0.8714 - lr: 1.0000e-04\n",
      "Epoch 191/200\n",
      "6/6 [==============================] - 0s 920us/step - loss: 0.8790 - lr: 1.0000e-04\n",
      "Epoch 192/200\n",
      "6/6 [==============================] - 0s 931us/step - loss: 0.8687 - lr: 1.0000e-04\n",
      "Epoch 193/200\n",
      "6/6 [==============================] - 0s 824us/step - loss: 0.8735 - lr: 1.0000e-04\n",
      "Epoch 194/200\n",
      "6/6 [==============================] - 0s 930us/step - loss: 0.8719 - lr: 1.0000e-04\n",
      "Epoch 195/200\n",
      "6/6 [==============================] - 0s 812us/step - loss: 0.8708 - lr: 1.0000e-04\n",
      "Epoch 196/200\n",
      "6/6 [==============================] - 0s 1ms/step - loss: 0.8717 - lr: 1.0000e-04\n",
      "Epoch 197/200\n",
      "6/6 [==============================] - 0s 1ms/step - loss: 0.8726 - lr: 1.0000e-04\n",
      "Epoch 198/200\n",
      "6/6 [==============================] - 0s 916us/step - loss: 0.8744 - lr: 1.0000e-04\n",
      "Epoch 199/200\n",
      "6/6 [==============================] - 0s 930us/step - loss: 0.8840 - lr: 1.0000e-04\n",
      "Epoch 200/200\n",
      "6/6 [==============================] - 0s 944us/step - loss: 0.8845 - lr: 1.0000e-04\n"
     ]
    }
   ],
   "source": [
    "# train the model\n",
    "r = model.fit(X, y, epochs=200, callbacks=scheduler)"
   ]
  },
  {
   "cell_type": "code",
   "execution_count": 14,
   "id": "77606b28",
   "metadata": {},
   "outputs": [
    {
     "data": {
      "text/plain": [
       "<matplotlib.legend.Legend at 0x2529ef54c70>"
      ]
     },
     "execution_count": 14,
     "metadata": {},
     "output_type": "execute_result"
    },
    {
     "data": {
      "image/png": "[encoded data removed]",
      "text/plain": [
       "<Figure size 640x480 with 1 Axes>"
      ]
     },
     "metadata": {},
     "output_type": "display_data"
    }
   ],
   "source": [
    "# plot the loss\n",
    "plt.plot(r.history['loss'], label='loss')\n",
    "plt.legend()"
   ]
  },
  {
   "cell_type": "code",
   "execution_count": 15,
   "id": "313a1296",
   "metadata": {},
   "outputs": [
    {
     "data": {
      "text/plain": [
       "[array([[0.34658402]], dtype=float32), array([17.761261], dtype=float32)]"
      ]
     },
     "execution_count": 15,
     "metadata": {},
     "output_type": "execute_result"
    }
   ],
   "source": [
    "model.layers[0].get_weights()"
   ]
  },
  {
   "cell_type": "code",
   "execution_count": 16,
   "id": "772832a2",
   "metadata": {},
   "outputs": [],
   "source": [
    "a = model.layers[0].get_weights()[0][0, 0]"
   ]
  },
  {
   "cell_type": "code",
   "execution_count": 17,
   "id": "0012b9d8",
   "metadata": {},
   "outputs": [
    {
     "data": {
      "text/plain": [
       "0.34658402"
      ]
     },
     "execution_count": 17,
     "metadata": {},
     "output_type": "execute_result"
    }
   ],
   "source": [
    "a"
   ]
  },
  {
   "cell_type": "code",
   "execution_count": 18,
   "id": "492a3bdd",
   "metadata": {},
   "outputs": [
    {
     "name": "stdout",
     "output_type": "stream",
     "text": [
      "Time to double:  1.999939802388458  years\n"
     ]
    }
   ],
   "source": [
    "# time it would take to transitor count to double ~ 2 years\n",
    "# explanation below\n",
    "print('Time to double: ', np.log(2) / a, ' years')"
   ]
  },
  {
   "attachments": {
    "image-2.png": {
     "image/png": "[encoded data removed]"
    },
    "image.png": {
     "image/png": "[encoded data removed]"
    }
   },
   "cell_type": "markdown",
   "id": "6fbe8937",
   "metadata": {},
   "source": [
    "![image.png](attachment:image.png)\n",
    "![image-2.png](attachment:image-2.png)"
   ]
  },
  {
   "cell_type": "code",
   "execution_count": 19,
   "id": "1429798d",
   "metadata": {},
   "outputs": [
    {
     "name": "stdout",
     "output_type": "stream",
     "text": [
      "0.34168248738731344 17.764939393631767\n"
     ]
    }
   ],
   "source": [
    "# solve for intercept and slope using linear algebra\n",
    "X = X.flatten()\n",
    "denominator = X.dot(X) - X.mean() * X.sum()\n",
    "a = (X.dot(y) - y.mean() * X.sum()) / denominator\n",
    "b = (y.mean() * X.dot(X) - X.mean() * X.dot(y))/denominator\n",
    "\n",
    "print(a, b)"
   ]
  },
  {
   "cell_type": "code",
   "execution_count": 20,
   "id": "87b9c8f6",
   "metadata": {},
   "outputs": [
    {
     "name": "stdout",
     "output_type": "stream",
     "text": [
      "Time to double:  2.0286295205239178  years\n"
     ]
    }
   ],
   "source": [
    "print('Time to double: ', np.log(2) / a, ' years')"
   ]
  },
  {
   "cell_type": "markdown",
   "id": "f801b718",
   "metadata": {},
   "source": [
    "## Making predictions"
   ]
  },
  {
   "cell_type": "code",
   "execution_count": 21,
   "id": "f2a702e0",
   "metadata": {},
   "outputs": [
    {
     "name": "stdout",
     "output_type": "stream",
     "text": [
      "6/6 [==============================] - 0s 1ms/step\n"
     ]
    }
   ],
   "source": [
    "# make predictions\n",
    "yhat = model.predict(X).flatten()"
   ]
  },
  {
   "cell_type": "code",
   "execution_count": 23,
   "id": "f6e7c7fe",
   "metadata": {
    "scrolled": true
   },
   "outputs": [
    {
     "data": {
      "text/plain": [
       "[<matplotlib.lines.Line2D at 0x252a3cdd2b0>]"
      ]
     },
     "execution_count": 23,
     "metadata": {},
     "output_type": "execute_result"
    },
    {
     "data": {
      "image/png": "[encoded data removed]",
      "text/plain": [
       "<Figure size 640x480 with 1 Axes>"
      ]
     },
     "metadata": {},
     "output_type": "display_data"
    }
   ],
   "source": [
    "plt.scatter(X, y)\n",
    "plt.plot(X, yhat)"
   ]
  },
  {
   "cell_type": "code",
   "execution_count": 24,
   "id": "40f9edf7",
   "metadata": {},
   "outputs": [
    {
     "data": {
      "text/plain": [
       "((162,), (162,), (162,))"
      ]
     },
     "execution_count": 24,
     "metadata": {},
     "output_type": "execute_result"
    }
   ],
   "source": [
    "X.shape, y.shape, yhat.shape"
   ]
  },
  {
   "cell_type": "code",
   "execution_count": 25,
   "id": "9159253d",
   "metadata": {},
   "outputs": [],
   "source": [
    "# manual calculation\n",
    "\n",
    "# get the weights\n",
    "w, b = model.layers[0].get_weights()\n",
    "\n",
    "# reshape X because we flattened it again earlier\n",
    "X = X.reshape(-1, 1)\n",
    "\n",
    "# (N, 1) x (1, 1) + (1, ) -> (N, 1)\n",
    "yhat2 = (X.dot(w) + b).flatten()"
   ]
  },
  {
   "cell_type": "code",
   "execution_count": 27,
   "id": "0c97219b",
   "metadata": {},
   "outputs": [
    {
     "data": {
      "text/plain": [
       "((162,), (1, 1), (1,))"
      ]
     },
     "execution_count": 27,
     "metadata": {},
     "output_type": "execute_result"
    }
   ],
   "source": [
    "yhat2.shape, w.shape, b.shape"
   ]
  },
  {
   "cell_type": "code",
   "execution_count": 28,
   "id": "42d6ce2d",
   "metadata": {},
   "outputs": [
    {
     "data": {
      "text/plain": [
       "True"
      ]
     },
     "execution_count": 28,
     "metadata": {},
     "output_type": "execute_result"
    }
   ],
   "source": [
    "# checking predictions vs. manual calculations\n",
    "np.allclose(yhat, yhat2)"
   ]
  },
  {
   "cell_type": "markdown",
   "id": "c3151cca",
   "metadata": {},
   "source": [
    "## Saving and loading the model"
   ]
  },
  {
   "cell_type": "code",
   "execution_count": 29,
   "id": "23c01522",
   "metadata": {},
   "outputs": [],
   "source": [
    "# saving model to a file\n",
    "model.save('linear_regression.h5')"
   ]
  },
  {
   "cell_type": "code",
   "execution_count": 30,
   "id": "dae8c3a1",
   "metadata": {},
   "outputs": [
    {
     "name": "stdout",
     "output_type": "stream",
     "text": [
      "[<keras.layers.core.dense.Dense object at 0x00000252A3CDDF70>]\n"
     ]
    }
   ],
   "source": [
    "# load model\n",
    "model = tf.keras.models.load_model('linear_regression.h5')\n",
    "\n",
    "print(model.layers)"
   ]
  },
  {
   "cell_type": "code",
   "execution_count": 31,
   "id": "383d775a",
   "metadata": {},
   "outputs": [
    {
     "name": "stdout",
     "output_type": "stream",
     "text": [
      "6/6 [==============================] - 0s 2ms/step\n"
     ]
    },
    {
     "data": {
      "text/plain": [
       "array([ 6.948695 ,  7.2952795,  7.641864 ,  7.641864 ,  7.988447 ,\n",
       "        7.988447 ,  7.988447 ,  8.3350315,  8.681616 ,  8.681616 ,\n",
       "        8.681616 ,  9.3747835,  9.3747835,  9.721368 ,  9.721368 ,\n",
       "        9.721368 , 10.4145355, 10.76112  , 10.76112  , 11.107704 ,\n",
       "       11.454288 , 11.454288 , 11.800872 , 11.800872 , 11.800872 ,\n",
       "       12.147455 , 12.147455 , 12.147455 , 12.49404  , 12.49404  ,\n",
       "       12.49404  , 12.49404  , 12.840624 , 12.840624 , 13.187208 ,\n",
       "       13.187208 , 13.187208 , 13.187208 , 13.533792 , 13.880376 ,\n",
       "       13.880376 , 14.226959 , 14.226959 , 14.573544 , 14.573544 ,\n",
       "       14.920128 , 14.920128 , 15.266712 , 16.653048 , 15.266712 ,\n",
       "       15.613296 , 15.95988  , 15.95988  , 15.95988  , 16.306463 ,\n",
       "       16.653048 , 16.653048 , 16.999632 , 16.999632 , 16.653048 ,\n",
       "       16.653048 , 16.653048 , 16.999632 , 17.346216 , 17.346216 ,\n",
       "       17.6928   , 18.385967 , 18.385967 , 18.732552 , 19.079136 ,\n",
       "       18.732552 , 19.079136 , 19.42572  , 19.772305 , 18.039385 ,\n",
       "       18.039385 , 17.6928   , 18.732552 , 18.732552 , 19.079136 ,\n",
       "       19.42572  , 18.039385 , 19.772305 , 20.118889 , 20.812056 ,\n",
       "       21.15864  , 19.42572  , 19.42572  , 19.772305 , 18.385967 ,\n",
       "       19.42572  , 19.772305 , 19.772305 , 19.42572  , 20.118889 ,\n",
       "       20.465473 , 21.15864  , 21.505224 , 20.812056 , 20.465473 ,\n",
       "       20.465473 , 21.15864  , 21.15864  , 20.465473 , 21.15864  ,\n",
       "       21.851809 , 19.079136 , 22.198393 , 21.505224 , 22.198393 ,\n",
       "       19.772305 , 20.465473 , 21.851809 , 22.198393 , 22.198393 ,\n",
       "       21.15864  , 20.812056 , 20.465473 , 21.851809 , 20.812056 ,\n",
       "       21.15864  , 21.851809 , 22.544975 , 22.89156  , 22.89156  ,\n",
       "       23.238144 , 21.15864  , 22.544975 , 22.544975 , 22.198393 ,\n",
       "       21.505224 , 22.89156  , 21.851809 , 22.89156  , 22.89156  ,\n",
       "       22.89156  , 21.15864  , 21.505224 , 21.851809 , 22.89156  ,\n",
       "       23.238144 , 22.544975 , 23.238144 , 22.89156  , 23.238144 ,\n",
       "       22.89156  , 22.198393 , 22.89156  , 22.544975 , 22.89156  ,\n",
       "       22.544975 , 22.89156  , 22.89156  , 22.198393 , 22.89156  ,\n",
       "       23.238144 , 22.89156  , 22.89156  , 22.89156  , 23.238144 ,\n",
       "       23.238144 , 23.238144 ], dtype=float32)"
      ]
     },
     "execution_count": 31,
     "metadata": {},
     "output_type": "execute_result"
    }
   ],
   "source": [
    "model.predict(X).flatten()"
   ]
  },
  {
   "cell_type": "code",
   "execution_count": null,
   "id": "9c6f76f5",
   "metadata": {},
   "outputs": [],
   "source": []
  }
 ],
 "metadata": {
  "kernelspec": {
   "display_name": "Python 3 (ipykernel)",
   "language": "python",
   "name": "python3"
  },
  "language_info": {
   "codemirror_mode": {
    "name": "ipython",
    "version": 3
   },
   "file_extension": ".py",
   "mimetype": "text/x-python",
   "name": "python",
   "nbconvert_exporter": "python",
   "pygments_lexer": "ipython3",
   "version": "3.9.13"
  }
 },
 "nbformat": 4,
 "nbformat_minor": 5
}
